{
 "cells": [
  {
   "cell_type": "markdown",
   "id": "6618a1eb-0e11-4843-847c-7cf2f66338f0",
   "metadata": {},
   "source": [
    "# Проект для прогнозирования цен на ноутбуки"
   ]
  },
  {
   "cell_type": "markdown",
   "id": "227d67b8-6fd1-4f3a-afe0-c68b7eb06053",
   "metadata": {},
   "source": [
    "# 1. Импорт библиотек"
   ]
  },
  {
   "cell_type": "code",
   "execution_count": 1,
   "id": "7afa689e-003f-4504-b6ca-09b7f12bea5a",
   "metadata": {},
   "outputs": [],
   "source": [
    "import pandas as pd\n",
    "import numpy as np\n",
    "import matplotlib.pyplot as plt\n",
    "import seaborn as sns\n",
    "from sklearn.model_selection import train_test_split\n",
    "from sklearn.preprocessing import LabelEncoder, StandardScaler\n",
    "from sklearn.linear_model import LinearRegression\n",
    "from sklearn.ensemble import RandomForestRegressor\n",
    "from sklearn.metrics import mean_squared_error, r2_score"
   ]
  },
  {
   "cell_type": "markdown",
   "id": "c4127e72-9c25-4f07-96d0-b86321ad1a66",
   "metadata": {},
   "source": [
    "# 2. Загрузка и изучение данных"
   ]
  },
  {
   "cell_type": "code",
   "execution_count": 2,
   "id": "689cd133-1bb8-4f97-8ce5-7a5a70e180c3",
   "metadata": {},
   "outputs": [],
   "source": [
    "df = pd.read_csv('A:/datasets/laptop_price.csv', encoding='latin1')"
   ]
  },
  {
   "cell_type": "code",
   "execution_count": 3,
   "id": "ff232bd9-98e3-4903-92d9-f28f183bdfa9",
   "metadata": {},
   "outputs": [
    {
     "data": {
      "text/html": [
       "<div>\n",
       "<style scoped>\n",
       "    .dataframe tbody tr th:only-of-type {\n",
       "        vertical-align: middle;\n",
       "    }\n",
       "\n",
       "    .dataframe tbody tr th {\n",
       "        vertical-align: top;\n",
       "    }\n",
       "\n",
       "    .dataframe thead th {\n",
       "        text-align: right;\n",
       "    }\n",
       "</style>\n",
       "<table border=\"1\" class=\"dataframe\">\n",
       "  <thead>\n",
       "    <tr style=\"text-align: right;\">\n",
       "      <th></th>\n",
       "      <th>laptop_ID</th>\n",
       "      <th>Company</th>\n",
       "      <th>Product</th>\n",
       "      <th>TypeName</th>\n",
       "      <th>Inches</th>\n",
       "      <th>ScreenResolution</th>\n",
       "      <th>Cpu</th>\n",
       "      <th>Ram</th>\n",
       "      <th>Memory</th>\n",
       "      <th>Gpu</th>\n",
       "      <th>OpSys</th>\n",
       "      <th>Weight</th>\n",
       "      <th>Price_euros</th>\n",
       "    </tr>\n",
       "  </thead>\n",
       "  <tbody>\n",
       "    <tr>\n",
       "      <th>0</th>\n",
       "      <td>1</td>\n",
       "      <td>Apple</td>\n",
       "      <td>MacBook Pro</td>\n",
       "      <td>Ultrabook</td>\n",
       "      <td>13.3</td>\n",
       "      <td>IPS Panel Retina Display 2560x1600</td>\n",
       "      <td>Intel Core i5 2.3GHz</td>\n",
       "      <td>8GB</td>\n",
       "      <td>128GB SSD</td>\n",
       "      <td>Intel Iris Plus Graphics 640</td>\n",
       "      <td>macOS</td>\n",
       "      <td>1.37kg</td>\n",
       "      <td>1339.69</td>\n",
       "    </tr>\n",
       "    <tr>\n",
       "      <th>1</th>\n",
       "      <td>2</td>\n",
       "      <td>Apple</td>\n",
       "      <td>Macbook Air</td>\n",
       "      <td>Ultrabook</td>\n",
       "      <td>13.3</td>\n",
       "      <td>1440x900</td>\n",
       "      <td>Intel Core i5 1.8GHz</td>\n",
       "      <td>8GB</td>\n",
       "      <td>128GB Flash Storage</td>\n",
       "      <td>Intel HD Graphics 6000</td>\n",
       "      <td>macOS</td>\n",
       "      <td>1.34kg</td>\n",
       "      <td>898.94</td>\n",
       "    </tr>\n",
       "    <tr>\n",
       "      <th>2</th>\n",
       "      <td>3</td>\n",
       "      <td>HP</td>\n",
       "      <td>250 G6</td>\n",
       "      <td>Notebook</td>\n",
       "      <td>15.6</td>\n",
       "      <td>Full HD 1920x1080</td>\n",
       "      <td>Intel Core i5 7200U 2.5GHz</td>\n",
       "      <td>8GB</td>\n",
       "      <td>256GB SSD</td>\n",
       "      <td>Intel HD Graphics 620</td>\n",
       "      <td>No OS</td>\n",
       "      <td>1.86kg</td>\n",
       "      <td>575.00</td>\n",
       "    </tr>\n",
       "    <tr>\n",
       "      <th>3</th>\n",
       "      <td>4</td>\n",
       "      <td>Apple</td>\n",
       "      <td>MacBook Pro</td>\n",
       "      <td>Ultrabook</td>\n",
       "      <td>15.4</td>\n",
       "      <td>IPS Panel Retina Display 2880x1800</td>\n",
       "      <td>Intel Core i7 2.7GHz</td>\n",
       "      <td>16GB</td>\n",
       "      <td>512GB SSD</td>\n",
       "      <td>AMD Radeon Pro 455</td>\n",
       "      <td>macOS</td>\n",
       "      <td>1.83kg</td>\n",
       "      <td>2537.45</td>\n",
       "    </tr>\n",
       "    <tr>\n",
       "      <th>4</th>\n",
       "      <td>5</td>\n",
       "      <td>Apple</td>\n",
       "      <td>MacBook Pro</td>\n",
       "      <td>Ultrabook</td>\n",
       "      <td>13.3</td>\n",
       "      <td>IPS Panel Retina Display 2560x1600</td>\n",
       "      <td>Intel Core i5 3.1GHz</td>\n",
       "      <td>8GB</td>\n",
       "      <td>256GB SSD</td>\n",
       "      <td>Intel Iris Plus Graphics 650</td>\n",
       "      <td>macOS</td>\n",
       "      <td>1.37kg</td>\n",
       "      <td>1803.60</td>\n",
       "    </tr>\n",
       "  </tbody>\n",
       "</table>\n",
       "</div>"
      ],
      "text/plain": [
       "   laptop_ID Company      Product   TypeName  Inches  \\\n",
       "0          1   Apple  MacBook Pro  Ultrabook    13.3   \n",
       "1          2   Apple  Macbook Air  Ultrabook    13.3   \n",
       "2          3      HP       250 G6   Notebook    15.6   \n",
       "3          4   Apple  MacBook Pro  Ultrabook    15.4   \n",
       "4          5   Apple  MacBook Pro  Ultrabook    13.3   \n",
       "\n",
       "                     ScreenResolution                         Cpu   Ram  \\\n",
       "0  IPS Panel Retina Display 2560x1600        Intel Core i5 2.3GHz   8GB   \n",
       "1                            1440x900        Intel Core i5 1.8GHz   8GB   \n",
       "2                   Full HD 1920x1080  Intel Core i5 7200U 2.5GHz   8GB   \n",
       "3  IPS Panel Retina Display 2880x1800        Intel Core i7 2.7GHz  16GB   \n",
       "4  IPS Panel Retina Display 2560x1600        Intel Core i5 3.1GHz   8GB   \n",
       "\n",
       "                Memory                           Gpu  OpSys  Weight  \\\n",
       "0            128GB SSD  Intel Iris Plus Graphics 640  macOS  1.37kg   \n",
       "1  128GB Flash Storage        Intel HD Graphics 6000  macOS  1.34kg   \n",
       "2            256GB SSD         Intel HD Graphics 620  No OS  1.86kg   \n",
       "3            512GB SSD            AMD Radeon Pro 455  macOS  1.83kg   \n",
       "4            256GB SSD  Intel Iris Plus Graphics 650  macOS  1.37kg   \n",
       "\n",
       "   Price_euros  \n",
       "0      1339.69  \n",
       "1       898.94  \n",
       "2       575.00  \n",
       "3      2537.45  \n",
       "4      1803.60  "
      ]
     },
     "execution_count": 3,
     "metadata": {},
     "output_type": "execute_result"
    }
   ],
   "source": [
    "df.head()"
   ]
  },
  {
   "cell_type": "code",
   "execution_count": 4,
   "id": "1d27cce1-70f9-4f4d-9f27-39e27168b2fc",
   "metadata": {},
   "outputs": [
    {
     "name": "stdout",
     "output_type": "stream",
     "text": [
      "<class 'pandas.core.frame.DataFrame'>\n",
      "RangeIndex: 1303 entries, 0 to 1302\n",
      "Data columns (total 13 columns):\n",
      " #   Column            Non-Null Count  Dtype  \n",
      "---  ------            --------------  -----  \n",
      " 0   laptop_ID         1303 non-null   int64  \n",
      " 1   Company           1303 non-null   object \n",
      " 2   Product           1303 non-null   object \n",
      " 3   TypeName          1303 non-null   object \n",
      " 4   Inches            1303 non-null   float64\n",
      " 5   ScreenResolution  1303 non-null   object \n",
      " 6   Cpu               1303 non-null   object \n",
      " 7   Ram               1303 non-null   object \n",
      " 8   Memory            1303 non-null   object \n",
      " 9   Gpu               1303 non-null   object \n",
      " 10  OpSys             1303 non-null   object \n",
      " 11  Weight            1303 non-null   object \n",
      " 12  Price_euros       1303 non-null   float64\n",
      "dtypes: float64(2), int64(1), object(10)\n",
      "memory usage: 132.5+ KB\n"
     ]
    }
   ],
   "source": [
    "# Общая информация о данных\n",
    "df.info()"
   ]
  },
  {
   "cell_type": "code",
   "execution_count": 5,
   "id": "d8577681-d863-44a5-bd32-572939b4109b",
   "metadata": {},
   "outputs": [
    {
     "data": {
      "text/plain": [
       "laptop_ID           0\n",
       "Company             0\n",
       "Product             0\n",
       "TypeName            0\n",
       "Inches              0\n",
       "ScreenResolution    0\n",
       "Cpu                 0\n",
       "Ram                 0\n",
       "Memory              0\n",
       "Gpu                 0\n",
       "OpSys               0\n",
       "Weight              0\n",
       "Price_euros         0\n",
       "dtype: int64"
      ]
     },
     "execution_count": 5,
     "metadata": {},
     "output_type": "execute_result"
    }
   ],
   "source": [
    "# Проверка пропущенных значений\n",
    "df.isnull().sum()"
   ]
  },
  {
   "cell_type": "code",
   "execution_count": 6,
   "id": "97dc84a7-04f5-4a0c-baa5-699bd3792ea1",
   "metadata": {},
   "outputs": [
    {
     "data": {
      "text/html": [
       "<div>\n",
       "<style scoped>\n",
       "    .dataframe tbody tr th:only-of-type {\n",
       "        vertical-align: middle;\n",
       "    }\n",
       "\n",
       "    .dataframe tbody tr th {\n",
       "        vertical-align: top;\n",
       "    }\n",
       "\n",
       "    .dataframe thead th {\n",
       "        text-align: right;\n",
       "    }\n",
       "</style>\n",
       "<table border=\"1\" class=\"dataframe\">\n",
       "  <thead>\n",
       "    <tr style=\"text-align: right;\">\n",
       "      <th></th>\n",
       "      <th>laptop_ID</th>\n",
       "      <th>Inches</th>\n",
       "      <th>Price_euros</th>\n",
       "    </tr>\n",
       "  </thead>\n",
       "  <tbody>\n",
       "    <tr>\n",
       "      <th>count</th>\n",
       "      <td>1303.000000</td>\n",
       "      <td>1303.000000</td>\n",
       "      <td>1303.000000</td>\n",
       "    </tr>\n",
       "    <tr>\n",
       "      <th>mean</th>\n",
       "      <td>660.155794</td>\n",
       "      <td>15.017191</td>\n",
       "      <td>1123.686992</td>\n",
       "    </tr>\n",
       "    <tr>\n",
       "      <th>std</th>\n",
       "      <td>381.172104</td>\n",
       "      <td>1.426304</td>\n",
       "      <td>699.009043</td>\n",
       "    </tr>\n",
       "    <tr>\n",
       "      <th>min</th>\n",
       "      <td>1.000000</td>\n",
       "      <td>10.100000</td>\n",
       "      <td>174.000000</td>\n",
       "    </tr>\n",
       "    <tr>\n",
       "      <th>25%</th>\n",
       "      <td>331.500000</td>\n",
       "      <td>14.000000</td>\n",
       "      <td>599.000000</td>\n",
       "    </tr>\n",
       "    <tr>\n",
       "      <th>50%</th>\n",
       "      <td>659.000000</td>\n",
       "      <td>15.600000</td>\n",
       "      <td>977.000000</td>\n",
       "    </tr>\n",
       "    <tr>\n",
       "      <th>75%</th>\n",
       "      <td>990.500000</td>\n",
       "      <td>15.600000</td>\n",
       "      <td>1487.880000</td>\n",
       "    </tr>\n",
       "    <tr>\n",
       "      <th>max</th>\n",
       "      <td>1320.000000</td>\n",
       "      <td>18.400000</td>\n",
       "      <td>6099.000000</td>\n",
       "    </tr>\n",
       "  </tbody>\n",
       "</table>\n",
       "</div>"
      ],
      "text/plain": [
       "         laptop_ID       Inches  Price_euros\n",
       "count  1303.000000  1303.000000  1303.000000\n",
       "mean    660.155794    15.017191  1123.686992\n",
       "std     381.172104     1.426304   699.009043\n",
       "min       1.000000    10.100000   174.000000\n",
       "25%     331.500000    14.000000   599.000000\n",
       "50%     659.000000    15.600000   977.000000\n",
       "75%     990.500000    15.600000  1487.880000\n",
       "max    1320.000000    18.400000  6099.000000"
      ]
     },
     "execution_count": 6,
     "metadata": {},
     "output_type": "execute_result"
    }
   ],
   "source": [
    "df.describe()"
   ]
  },
  {
   "cell_type": "markdown",
   "id": "06ababa4-c043-4bb5-a3d8-278319a7ddd7",
   "metadata": {},
   "source": [
    "# 3. Предобработка данных"
   ]
  },
  {
   "cell_type": "code",
   "execution_count": 7,
   "id": "d9cebba4-26a0-41f9-873e-6b6f7b47c3fe",
   "metadata": {},
   "outputs": [
    {
     "data": {
      "text/html": [
       "<div>\n",
       "<style scoped>\n",
       "    .dataframe tbody tr th:only-of-type {\n",
       "        vertical-align: middle;\n",
       "    }\n",
       "\n",
       "    .dataframe tbody tr th {\n",
       "        vertical-align: top;\n",
       "    }\n",
       "\n",
       "    .dataframe thead th {\n",
       "        text-align: right;\n",
       "    }\n",
       "</style>\n",
       "<table border=\"1\" class=\"dataframe\">\n",
       "  <thead>\n",
       "    <tr style=\"text-align: right;\">\n",
       "      <th></th>\n",
       "      <th>Company</th>\n",
       "      <th>Product</th>\n",
       "      <th>TypeName</th>\n",
       "      <th>Inches</th>\n",
       "      <th>ScreenResolution</th>\n",
       "      <th>Cpu</th>\n",
       "      <th>Ram</th>\n",
       "      <th>Memory</th>\n",
       "      <th>Gpu</th>\n",
       "      <th>OpSys</th>\n",
       "      <th>Weight</th>\n",
       "      <th>Price_euros</th>\n",
       "    </tr>\n",
       "  </thead>\n",
       "  <tbody>\n",
       "    <tr>\n",
       "      <th>0</th>\n",
       "      <td>Apple</td>\n",
       "      <td>MacBook Pro</td>\n",
       "      <td>Ultrabook</td>\n",
       "      <td>13.3</td>\n",
       "      <td>IPS Panel Retina Display 2560x1600</td>\n",
       "      <td>Intel Core i5 2.3GHz</td>\n",
       "      <td>8GB</td>\n",
       "      <td>128GB SSD</td>\n",
       "      <td>Intel Iris Plus Graphics 640</td>\n",
       "      <td>macOS</td>\n",
       "      <td>1.37kg</td>\n",
       "      <td>1339.69</td>\n",
       "    </tr>\n",
       "    <tr>\n",
       "      <th>1</th>\n",
       "      <td>Apple</td>\n",
       "      <td>Macbook Air</td>\n",
       "      <td>Ultrabook</td>\n",
       "      <td>13.3</td>\n",
       "      <td>1440x900</td>\n",
       "      <td>Intel Core i5 1.8GHz</td>\n",
       "      <td>8GB</td>\n",
       "      <td>128GB Flash Storage</td>\n",
       "      <td>Intel HD Graphics 6000</td>\n",
       "      <td>macOS</td>\n",
       "      <td>1.34kg</td>\n",
       "      <td>898.94</td>\n",
       "    </tr>\n",
       "    <tr>\n",
       "      <th>2</th>\n",
       "      <td>HP</td>\n",
       "      <td>250 G6</td>\n",
       "      <td>Notebook</td>\n",
       "      <td>15.6</td>\n",
       "      <td>Full HD 1920x1080</td>\n",
       "      <td>Intel Core i5 7200U 2.5GHz</td>\n",
       "      <td>8GB</td>\n",
       "      <td>256GB SSD</td>\n",
       "      <td>Intel HD Graphics 620</td>\n",
       "      <td>No OS</td>\n",
       "      <td>1.86kg</td>\n",
       "      <td>575.00</td>\n",
       "    </tr>\n",
       "    <tr>\n",
       "      <th>3</th>\n",
       "      <td>Apple</td>\n",
       "      <td>MacBook Pro</td>\n",
       "      <td>Ultrabook</td>\n",
       "      <td>15.4</td>\n",
       "      <td>IPS Panel Retina Display 2880x1800</td>\n",
       "      <td>Intel Core i7 2.7GHz</td>\n",
       "      <td>16GB</td>\n",
       "      <td>512GB SSD</td>\n",
       "      <td>AMD Radeon Pro 455</td>\n",
       "      <td>macOS</td>\n",
       "      <td>1.83kg</td>\n",
       "      <td>2537.45</td>\n",
       "    </tr>\n",
       "    <tr>\n",
       "      <th>4</th>\n",
       "      <td>Apple</td>\n",
       "      <td>MacBook Pro</td>\n",
       "      <td>Ultrabook</td>\n",
       "      <td>13.3</td>\n",
       "      <td>IPS Panel Retina Display 2560x1600</td>\n",
       "      <td>Intel Core i5 3.1GHz</td>\n",
       "      <td>8GB</td>\n",
       "      <td>256GB SSD</td>\n",
       "      <td>Intel Iris Plus Graphics 650</td>\n",
       "      <td>macOS</td>\n",
       "      <td>1.37kg</td>\n",
       "      <td>1803.60</td>\n",
       "    </tr>\n",
       "    <tr>\n",
       "      <th>...</th>\n",
       "      <td>...</td>\n",
       "      <td>...</td>\n",
       "      <td>...</td>\n",
       "      <td>...</td>\n",
       "      <td>...</td>\n",
       "      <td>...</td>\n",
       "      <td>...</td>\n",
       "      <td>...</td>\n",
       "      <td>...</td>\n",
       "      <td>...</td>\n",
       "      <td>...</td>\n",
       "      <td>...</td>\n",
       "    </tr>\n",
       "    <tr>\n",
       "      <th>1298</th>\n",
       "      <td>Lenovo</td>\n",
       "      <td>Yoga 500-14ISK</td>\n",
       "      <td>2 in 1 Convertible</td>\n",
       "      <td>14.0</td>\n",
       "      <td>IPS Panel Full HD / Touchscreen 1920x1080</td>\n",
       "      <td>Intel Core i7 6500U 2.5GHz</td>\n",
       "      <td>4GB</td>\n",
       "      <td>128GB SSD</td>\n",
       "      <td>Intel HD Graphics 520</td>\n",
       "      <td>Windows 10</td>\n",
       "      <td>1.8kg</td>\n",
       "      <td>638.00</td>\n",
       "    </tr>\n",
       "    <tr>\n",
       "      <th>1299</th>\n",
       "      <td>Lenovo</td>\n",
       "      <td>Yoga 900-13ISK</td>\n",
       "      <td>2 in 1 Convertible</td>\n",
       "      <td>13.3</td>\n",
       "      <td>IPS Panel Quad HD+ / Touchscreen 3200x1800</td>\n",
       "      <td>Intel Core i7 6500U 2.5GHz</td>\n",
       "      <td>16GB</td>\n",
       "      <td>512GB SSD</td>\n",
       "      <td>Intel HD Graphics 520</td>\n",
       "      <td>Windows 10</td>\n",
       "      <td>1.3kg</td>\n",
       "      <td>1499.00</td>\n",
       "    </tr>\n",
       "    <tr>\n",
       "      <th>1300</th>\n",
       "      <td>Lenovo</td>\n",
       "      <td>IdeaPad 100S-14IBR</td>\n",
       "      <td>Notebook</td>\n",
       "      <td>14.0</td>\n",
       "      <td>1366x768</td>\n",
       "      <td>Intel Celeron Dual Core N3050 1.6GHz</td>\n",
       "      <td>2GB</td>\n",
       "      <td>64GB Flash Storage</td>\n",
       "      <td>Intel HD Graphics</td>\n",
       "      <td>Windows 10</td>\n",
       "      <td>1.5kg</td>\n",
       "      <td>229.00</td>\n",
       "    </tr>\n",
       "    <tr>\n",
       "      <th>1301</th>\n",
       "      <td>HP</td>\n",
       "      <td>15-AC110nv (i7-6500U/6GB/1TB/Radeon</td>\n",
       "      <td>Notebook</td>\n",
       "      <td>15.6</td>\n",
       "      <td>1366x768</td>\n",
       "      <td>Intel Core i7 6500U 2.5GHz</td>\n",
       "      <td>6GB</td>\n",
       "      <td>1TB HDD</td>\n",
       "      <td>AMD Radeon R5 M330</td>\n",
       "      <td>Windows 10</td>\n",
       "      <td>2.19kg</td>\n",
       "      <td>764.00</td>\n",
       "    </tr>\n",
       "    <tr>\n",
       "      <th>1302</th>\n",
       "      <td>Asus</td>\n",
       "      <td>X553SA-XX031T (N3050/4GB/500GB/W10)</td>\n",
       "      <td>Notebook</td>\n",
       "      <td>15.6</td>\n",
       "      <td>1366x768</td>\n",
       "      <td>Intel Celeron Dual Core N3050 1.6GHz</td>\n",
       "      <td>4GB</td>\n",
       "      <td>500GB HDD</td>\n",
       "      <td>Intel HD Graphics</td>\n",
       "      <td>Windows 10</td>\n",
       "      <td>2.2kg</td>\n",
       "      <td>369.00</td>\n",
       "    </tr>\n",
       "  </tbody>\n",
       "</table>\n",
       "<p>1303 rows × 12 columns</p>\n",
       "</div>"
      ],
      "text/plain": [
       "     Company                              Product            TypeName  Inches  \\\n",
       "0      Apple                          MacBook Pro           Ultrabook    13.3   \n",
       "1      Apple                          Macbook Air           Ultrabook    13.3   \n",
       "2         HP                               250 G6            Notebook    15.6   \n",
       "3      Apple                          MacBook Pro           Ultrabook    15.4   \n",
       "4      Apple                          MacBook Pro           Ultrabook    13.3   \n",
       "...      ...                                  ...                 ...     ...   \n",
       "1298  Lenovo                       Yoga 500-14ISK  2 in 1 Convertible    14.0   \n",
       "1299  Lenovo                       Yoga 900-13ISK  2 in 1 Convertible    13.3   \n",
       "1300  Lenovo                   IdeaPad 100S-14IBR            Notebook    14.0   \n",
       "1301      HP  15-AC110nv (i7-6500U/6GB/1TB/Radeon            Notebook    15.6   \n",
       "1302    Asus  X553SA-XX031T (N3050/4GB/500GB/W10)            Notebook    15.6   \n",
       "\n",
       "                                ScreenResolution  \\\n",
       "0             IPS Panel Retina Display 2560x1600   \n",
       "1                                       1440x900   \n",
       "2                              Full HD 1920x1080   \n",
       "3             IPS Panel Retina Display 2880x1800   \n",
       "4             IPS Panel Retina Display 2560x1600   \n",
       "...                                          ...   \n",
       "1298   IPS Panel Full HD / Touchscreen 1920x1080   \n",
       "1299  IPS Panel Quad HD+ / Touchscreen 3200x1800   \n",
       "1300                                    1366x768   \n",
       "1301                                    1366x768   \n",
       "1302                                    1366x768   \n",
       "\n",
       "                                       Cpu   Ram               Memory  \\\n",
       "0                     Intel Core i5 2.3GHz   8GB            128GB SSD   \n",
       "1                     Intel Core i5 1.8GHz   8GB  128GB Flash Storage   \n",
       "2               Intel Core i5 7200U 2.5GHz   8GB            256GB SSD   \n",
       "3                     Intel Core i7 2.7GHz  16GB            512GB SSD   \n",
       "4                     Intel Core i5 3.1GHz   8GB            256GB SSD   \n",
       "...                                    ...   ...                  ...   \n",
       "1298            Intel Core i7 6500U 2.5GHz   4GB            128GB SSD   \n",
       "1299            Intel Core i7 6500U 2.5GHz  16GB            512GB SSD   \n",
       "1300  Intel Celeron Dual Core N3050 1.6GHz   2GB   64GB Flash Storage   \n",
       "1301            Intel Core i7 6500U 2.5GHz   6GB              1TB HDD   \n",
       "1302  Intel Celeron Dual Core N3050 1.6GHz   4GB            500GB HDD   \n",
       "\n",
       "                               Gpu       OpSys  Weight  Price_euros  \n",
       "0     Intel Iris Plus Graphics 640       macOS  1.37kg      1339.69  \n",
       "1           Intel HD Graphics 6000       macOS  1.34kg       898.94  \n",
       "2            Intel HD Graphics 620       No OS  1.86kg       575.00  \n",
       "3               AMD Radeon Pro 455       macOS  1.83kg      2537.45  \n",
       "4     Intel Iris Plus Graphics 650       macOS  1.37kg      1803.60  \n",
       "...                            ...         ...     ...          ...  \n",
       "1298         Intel HD Graphics 520  Windows 10   1.8kg       638.00  \n",
       "1299         Intel HD Graphics 520  Windows 10   1.3kg      1499.00  \n",
       "1300             Intel HD Graphics  Windows 10   1.5kg       229.00  \n",
       "1301            AMD Radeon R5 M330  Windows 10  2.19kg       764.00  \n",
       "1302             Intel HD Graphics  Windows 10   2.2kg       369.00  \n",
       "\n",
       "[1303 rows x 12 columns]"
      ]
     },
     "execution_count": 7,
     "metadata": {},
     "output_type": "execute_result"
    }
   ],
   "source": [
    "df = df.drop('laptop_ID', axis=1)\n",
    "df"
   ]
  },
  {
   "cell_type": "markdown",
   "id": "cb9d5e44-0d13-4e29-9185-e44e6588f837",
   "metadata": {},
   "source": [
    "## 3.1 Обработка категориальных переменных"
   ]
  },
  {
   "cell_type": "markdown",
   "id": "029e2ef1-f1fa-406d-b746-18afdd9da895",
   "metadata": {},
   "source": [
    "### 1. Обработка столбца Ram (удаление \"GB\" и преобразование в числовой формат):"
   ]
  },
  {
   "cell_type": "code",
   "execution_count": 8,
   "id": "e3f0e4fc-3fb9-4c41-9878-74fab0fc68e5",
   "metadata": {},
   "outputs": [],
   "source": [
    "df['Ram'] = df['Ram'].str.replace('GB', '').astype(int)"
   ]
  },
  {
   "cell_type": "markdown",
   "id": "f90fa9f4-f03d-4e84-8b9a-b2960e32c6c3",
   "metadata": {},
   "source": [
    "### 2. Обработка столбца Weight (удаление \"kg\" и преобразование в числовой формат):"
   ]
  },
  {
   "cell_type": "code",
   "execution_count": 9,
   "id": "0333d0f3-88ab-451c-88e4-49cb2fbf11ba",
   "metadata": {},
   "outputs": [],
   "source": [
    "df['Weight'] = df['Weight'].str.replace('kg', '').astype(float)"
   ]
  },
  {
   "cell_type": "markdown",
   "id": "c7990948-4f8a-4578-b4ec-9c8aae4e4673",
   "metadata": {},
   "source": [
    "### 3. Обработка столбца Memory (упрощение данных):"
   ]
  },
  {
   "cell_type": "markdown",
   "id": "12ddfcb4-e248-41f0-8b66-bfca34417b5a",
   "metadata": {},
   "source": [
    "Столбец Memory содержит сложные данные (например, \"128GB SSD\", \"1TB HDD\"). Для упрощения можно извлечь только объем памяти и тип хранилища. Мы создадим два новых столбца: Memory_Size (объем в GB) и Memory_Type (тип хранилища)."
   ]
  },
  {
   "cell_type": "code",
   "execution_count": 10,
   "id": "fade3f0e-27b5-46dc-bf2e-c6f36e9e8e40",
   "metadata": {},
   "outputs": [],
   "source": [
    "# Функция для извлечения объёма памяти\n",
    "def extract_memory_size(memory):\n",
    "    total_size = 0\n",
    "    parts = memory.split('+')\n",
    "    for part in parts:\n",
    "        part = part.strip()\n",
    "        if 'TB' in part:\n",
    "            size = float(''.join(filter(str.isdigit, part.split('TB')[0])))\n",
    "            total_size += size * 1000\n",
    "\n",
    "        elif 'GB' in part:\n",
    "            size = float(''.join(filter(str.isdigit, part.split('GB')[0])))\n",
    "            total_size += size\n",
    "    return total_size"
   ]
  },
  {
   "cell_type": "code",
   "execution_count": 11,
   "id": "19460d17-b800-44eb-8939-d60a0566761b",
   "metadata": {},
   "outputs": [],
   "source": [
    "# Функция для извлечения типа памяти\n",
    "def extract_memory_type(memory):\n",
    "    if 'SSD' in memory:\n",
    "        return 'SSD'\n",
    "    elif 'HDD' in memory:\n",
    "        return 'HDD'\n",
    "    elif 'Flash Storage' in memory:\n",
    "        return 'Flash Storage'\n",
    "    elif 'Hybrid' in memory:\n",
    "        return 'Hybrid'\n",
    "    else:\n",
    "        return 'Unknown'"
   ]
  },
  {
   "cell_type": "code",
   "execution_count": 12,
   "id": "1a0d5946-a6b1-4f41-bae4-9e5ba0de542b",
   "metadata": {},
   "outputs": [],
   "source": [
    "# Применение функций\n",
    "df['Memory_Size'] = df['Memory'].apply(extract_memory_size)\n",
    "df['Memory_Type'] = df['Memory'].apply(extract_memory_type)"
   ]
  },
  {
   "cell_type": "code",
   "execution_count": 13,
   "id": "44091e7e-53f8-4509-b862-2498e0a22fee",
   "metadata": {},
   "outputs": [],
   "source": [
    "df = df.drop('Memory', axis=1)"
   ]
  },
  {
   "cell_type": "markdown",
   "id": "528bbd22-38c6-436b-a105-df4b192e53ce",
   "metadata": {},
   "source": [
    "### 4. Обработка столбца ScreenResolution (извлечение разрешения):"
   ]
  },
  {
   "cell_type": "code",
   "execution_count": 14,
   "id": "4800bc4d-bc98-4050-86e7-074132bb97ee",
   "metadata": {},
   "outputs": [
    {
     "data": {
      "text/plain": [
       "array(['IPS Panel Retina Display 2560x1600', '1440x900',\n",
       "       'Full HD 1920x1080', 'IPS Panel Retina Display 2880x1800',\n",
       "       '1366x768', 'IPS Panel Full HD 1920x1080',\n",
       "       'IPS Panel Retina Display 2304x1440',\n",
       "       'IPS Panel Full HD / Touchscreen 1920x1080',\n",
       "       'Full HD / Touchscreen 1920x1080',\n",
       "       'Touchscreen / Quad HD+ 3200x1800',\n",
       "       'IPS Panel Touchscreen 1920x1200', 'Touchscreen 2256x1504',\n",
       "       'Quad HD+ / Touchscreen 3200x1800', 'IPS Panel 1366x768',\n",
       "       'IPS Panel 4K Ultra HD / Touchscreen 3840x2160',\n",
       "       'IPS Panel Full HD 2160x1440',\n",
       "       '4K Ultra HD / Touchscreen 3840x2160', 'Touchscreen 2560x1440',\n",
       "       '1600x900', 'IPS Panel 4K Ultra HD 3840x2160',\n",
       "       '4K Ultra HD 3840x2160', 'Touchscreen 1366x768',\n",
       "       'IPS Panel Full HD 1366x768', 'IPS Panel 2560x1440',\n",
       "       'IPS Panel Full HD 2560x1440',\n",
       "       'IPS Panel Retina Display 2736x1824', 'Touchscreen 2400x1600',\n",
       "       '2560x1440', 'IPS Panel Quad HD+ 2560x1440',\n",
       "       'IPS Panel Quad HD+ 3200x1800',\n",
       "       'IPS Panel Quad HD+ / Touchscreen 3200x1800',\n",
       "       'IPS Panel Touchscreen 1366x768', '1920x1080',\n",
       "       'IPS Panel Full HD 1920x1200',\n",
       "       'IPS Panel Touchscreen / 4K Ultra HD 3840x2160',\n",
       "       'IPS Panel Touchscreen 2560x1440',\n",
       "       'Touchscreen / Full HD 1920x1080', 'Quad HD+ 3200x1800',\n",
       "       'Touchscreen / 4K Ultra HD 3840x2160',\n",
       "       'IPS Panel Touchscreen 2400x1600'], dtype=object)"
      ]
     },
     "execution_count": 14,
     "metadata": {},
     "output_type": "execute_result"
    }
   ],
   "source": [
    "df['ScreenResolution'].unique()"
   ]
  },
  {
   "cell_type": "code",
   "execution_count": 15,
   "id": "141816d3-5387-419c-857c-43e6ffefd9ff",
   "metadata": {},
   "outputs": [
    {
     "data": {
      "text/html": [
       "<div>\n",
       "<style scoped>\n",
       "    .dataframe tbody tr th:only-of-type {\n",
       "        vertical-align: middle;\n",
       "    }\n",
       "\n",
       "    .dataframe tbody tr th {\n",
       "        vertical-align: top;\n",
       "    }\n",
       "\n",
       "    .dataframe thead th {\n",
       "        text-align: right;\n",
       "    }\n",
       "</style>\n",
       "<table border=\"1\" class=\"dataframe\">\n",
       "  <thead>\n",
       "    <tr style=\"text-align: right;\">\n",
       "      <th></th>\n",
       "      <th>Company</th>\n",
       "      <th>Product</th>\n",
       "      <th>TypeName</th>\n",
       "      <th>Inches</th>\n",
       "      <th>ScreenResolution</th>\n",
       "      <th>Cpu</th>\n",
       "      <th>Ram</th>\n",
       "      <th>Gpu</th>\n",
       "      <th>OpSys</th>\n",
       "      <th>Weight</th>\n",
       "      <th>Price_euros</th>\n",
       "      <th>Memory_Size</th>\n",
       "      <th>Memory_Type</th>\n",
       "      <th>Resolution</th>\n",
       "    </tr>\n",
       "  </thead>\n",
       "  <tbody>\n",
       "    <tr>\n",
       "      <th>0</th>\n",
       "      <td>Apple</td>\n",
       "      <td>MacBook Pro</td>\n",
       "      <td>Ultrabook</td>\n",
       "      <td>13.3</td>\n",
       "      <td>IPS Panel Retina Display 2560x1600</td>\n",
       "      <td>Intel Core i5 2.3GHz</td>\n",
       "      <td>8</td>\n",
       "      <td>Intel Iris Plus Graphics 640</td>\n",
       "      <td>macOS</td>\n",
       "      <td>1.37</td>\n",
       "      <td>1339.69</td>\n",
       "      <td>128.0</td>\n",
       "      <td>SSD</td>\n",
       "      <td>2560x1600</td>\n",
       "    </tr>\n",
       "    <tr>\n",
       "      <th>1</th>\n",
       "      <td>Apple</td>\n",
       "      <td>Macbook Air</td>\n",
       "      <td>Ultrabook</td>\n",
       "      <td>13.3</td>\n",
       "      <td>1440x900</td>\n",
       "      <td>Intel Core i5 1.8GHz</td>\n",
       "      <td>8</td>\n",
       "      <td>Intel HD Graphics 6000</td>\n",
       "      <td>macOS</td>\n",
       "      <td>1.34</td>\n",
       "      <td>898.94</td>\n",
       "      <td>128.0</td>\n",
       "      <td>Flash Storage</td>\n",
       "      <td>1440x900</td>\n",
       "    </tr>\n",
       "    <tr>\n",
       "      <th>2</th>\n",
       "      <td>HP</td>\n",
       "      <td>250 G6</td>\n",
       "      <td>Notebook</td>\n",
       "      <td>15.6</td>\n",
       "      <td>Full HD 1920x1080</td>\n",
       "      <td>Intel Core i5 7200U 2.5GHz</td>\n",
       "      <td>8</td>\n",
       "      <td>Intel HD Graphics 620</td>\n",
       "      <td>No OS</td>\n",
       "      <td>1.86</td>\n",
       "      <td>575.00</td>\n",
       "      <td>256.0</td>\n",
       "      <td>SSD</td>\n",
       "      <td>1920x1080</td>\n",
       "    </tr>\n",
       "    <tr>\n",
       "      <th>3</th>\n",
       "      <td>Apple</td>\n",
       "      <td>MacBook Pro</td>\n",
       "      <td>Ultrabook</td>\n",
       "      <td>15.4</td>\n",
       "      <td>IPS Panel Retina Display 2880x1800</td>\n",
       "      <td>Intel Core i7 2.7GHz</td>\n",
       "      <td>16</td>\n",
       "      <td>AMD Radeon Pro 455</td>\n",
       "      <td>macOS</td>\n",
       "      <td>1.83</td>\n",
       "      <td>2537.45</td>\n",
       "      <td>512.0</td>\n",
       "      <td>SSD</td>\n",
       "      <td>2880x1800</td>\n",
       "    </tr>\n",
       "    <tr>\n",
       "      <th>4</th>\n",
       "      <td>Apple</td>\n",
       "      <td>MacBook Pro</td>\n",
       "      <td>Ultrabook</td>\n",
       "      <td>13.3</td>\n",
       "      <td>IPS Panel Retina Display 2560x1600</td>\n",
       "      <td>Intel Core i5 3.1GHz</td>\n",
       "      <td>8</td>\n",
       "      <td>Intel Iris Plus Graphics 650</td>\n",
       "      <td>macOS</td>\n",
       "      <td>1.37</td>\n",
       "      <td>1803.60</td>\n",
       "      <td>256.0</td>\n",
       "      <td>SSD</td>\n",
       "      <td>2560x1600</td>\n",
       "    </tr>\n",
       "  </tbody>\n",
       "</table>\n",
       "</div>"
      ],
      "text/plain": [
       "  Company      Product   TypeName  Inches                    ScreenResolution  \\\n",
       "0   Apple  MacBook Pro  Ultrabook    13.3  IPS Panel Retina Display 2560x1600   \n",
       "1   Apple  Macbook Air  Ultrabook    13.3                            1440x900   \n",
       "2      HP       250 G6   Notebook    15.6                   Full HD 1920x1080   \n",
       "3   Apple  MacBook Pro  Ultrabook    15.4  IPS Panel Retina Display 2880x1800   \n",
       "4   Apple  MacBook Pro  Ultrabook    13.3  IPS Panel Retina Display 2560x1600   \n",
       "\n",
       "                          Cpu  Ram                           Gpu  OpSys  \\\n",
       "0        Intel Core i5 2.3GHz    8  Intel Iris Plus Graphics 640  macOS   \n",
       "1        Intel Core i5 1.8GHz    8        Intel HD Graphics 6000  macOS   \n",
       "2  Intel Core i5 7200U 2.5GHz    8         Intel HD Graphics 620  No OS   \n",
       "3        Intel Core i7 2.7GHz   16            AMD Radeon Pro 455  macOS   \n",
       "4        Intel Core i5 3.1GHz    8  Intel Iris Plus Graphics 650  macOS   \n",
       "\n",
       "   Weight  Price_euros  Memory_Size    Memory_Type Resolution  \n",
       "0    1.37      1339.69        128.0            SSD  2560x1600  \n",
       "1    1.34       898.94        128.0  Flash Storage   1440x900  \n",
       "2    1.86       575.00        256.0            SSD  1920x1080  \n",
       "3    1.83      2537.45        512.0            SSD  2880x1800  \n",
       "4    1.37      1803.60        256.0            SSD  2560x1600  "
      ]
     },
     "execution_count": 15,
     "metadata": {},
     "output_type": "execute_result"
    }
   ],
   "source": [
    "df['Resolution'] = df['ScreenResolution'].str.extract(r'(\\d+x\\d+)$')\n",
    "df.head()"
   ]
  },
  {
   "cell_type": "code",
   "execution_count": 16,
   "id": "622a9b4b-759c-4c27-8fa6-2de5806b6907",
   "metadata": {},
   "outputs": [],
   "source": [
    "df[['Resolution_Width', 'Resolution_Height']] = df['Resolution'].str.split('x', expand=True).astype(int)"
   ]
  },
  {
   "cell_type": "code",
   "execution_count": 17,
   "id": "f70cd54a-4382-4526-b86d-ed52caae3f2d",
   "metadata": {},
   "outputs": [
    {
     "data": {
      "text/html": [
       "<div>\n",
       "<style scoped>\n",
       "    .dataframe tbody tr th:only-of-type {\n",
       "        vertical-align: middle;\n",
       "    }\n",
       "\n",
       "    .dataframe tbody tr th {\n",
       "        vertical-align: top;\n",
       "    }\n",
       "\n",
       "    .dataframe thead th {\n",
       "        text-align: right;\n",
       "    }\n",
       "</style>\n",
       "<table border=\"1\" class=\"dataframe\">\n",
       "  <thead>\n",
       "    <tr style=\"text-align: right;\">\n",
       "      <th></th>\n",
       "      <th>Company</th>\n",
       "      <th>Product</th>\n",
       "      <th>TypeName</th>\n",
       "      <th>Inches</th>\n",
       "      <th>Cpu</th>\n",
       "      <th>Ram</th>\n",
       "      <th>Gpu</th>\n",
       "      <th>OpSys</th>\n",
       "      <th>Weight</th>\n",
       "      <th>Price_euros</th>\n",
       "      <th>Memory_Size</th>\n",
       "      <th>Memory_Type</th>\n",
       "      <th>Resolution_Width</th>\n",
       "      <th>Resolution_Height</th>\n",
       "    </tr>\n",
       "  </thead>\n",
       "  <tbody>\n",
       "    <tr>\n",
       "      <th>0</th>\n",
       "      <td>Apple</td>\n",
       "      <td>MacBook Pro</td>\n",
       "      <td>Ultrabook</td>\n",
       "      <td>13.3</td>\n",
       "      <td>Intel Core i5 2.3GHz</td>\n",
       "      <td>8</td>\n",
       "      <td>Intel Iris Plus Graphics 640</td>\n",
       "      <td>macOS</td>\n",
       "      <td>1.37</td>\n",
       "      <td>1339.69</td>\n",
       "      <td>128.0</td>\n",
       "      <td>SSD</td>\n",
       "      <td>2560</td>\n",
       "      <td>1600</td>\n",
       "    </tr>\n",
       "    <tr>\n",
       "      <th>1</th>\n",
       "      <td>Apple</td>\n",
       "      <td>Macbook Air</td>\n",
       "      <td>Ultrabook</td>\n",
       "      <td>13.3</td>\n",
       "      <td>Intel Core i5 1.8GHz</td>\n",
       "      <td>8</td>\n",
       "      <td>Intel HD Graphics 6000</td>\n",
       "      <td>macOS</td>\n",
       "      <td>1.34</td>\n",
       "      <td>898.94</td>\n",
       "      <td>128.0</td>\n",
       "      <td>Flash Storage</td>\n",
       "      <td>1440</td>\n",
       "      <td>900</td>\n",
       "    </tr>\n",
       "    <tr>\n",
       "      <th>2</th>\n",
       "      <td>HP</td>\n",
       "      <td>250 G6</td>\n",
       "      <td>Notebook</td>\n",
       "      <td>15.6</td>\n",
       "      <td>Intel Core i5 7200U 2.5GHz</td>\n",
       "      <td>8</td>\n",
       "      <td>Intel HD Graphics 620</td>\n",
       "      <td>No OS</td>\n",
       "      <td>1.86</td>\n",
       "      <td>575.00</td>\n",
       "      <td>256.0</td>\n",
       "      <td>SSD</td>\n",
       "      <td>1920</td>\n",
       "      <td>1080</td>\n",
       "    </tr>\n",
       "    <tr>\n",
       "      <th>3</th>\n",
       "      <td>Apple</td>\n",
       "      <td>MacBook Pro</td>\n",
       "      <td>Ultrabook</td>\n",
       "      <td>15.4</td>\n",
       "      <td>Intel Core i7 2.7GHz</td>\n",
       "      <td>16</td>\n",
       "      <td>AMD Radeon Pro 455</td>\n",
       "      <td>macOS</td>\n",
       "      <td>1.83</td>\n",
       "      <td>2537.45</td>\n",
       "      <td>512.0</td>\n",
       "      <td>SSD</td>\n",
       "      <td>2880</td>\n",
       "      <td>1800</td>\n",
       "    </tr>\n",
       "    <tr>\n",
       "      <th>4</th>\n",
       "      <td>Apple</td>\n",
       "      <td>MacBook Pro</td>\n",
       "      <td>Ultrabook</td>\n",
       "      <td>13.3</td>\n",
       "      <td>Intel Core i5 3.1GHz</td>\n",
       "      <td>8</td>\n",
       "      <td>Intel Iris Plus Graphics 650</td>\n",
       "      <td>macOS</td>\n",
       "      <td>1.37</td>\n",
       "      <td>1803.60</td>\n",
       "      <td>256.0</td>\n",
       "      <td>SSD</td>\n",
       "      <td>2560</td>\n",
       "      <td>1600</td>\n",
       "    </tr>\n",
       "    <tr>\n",
       "      <th>...</th>\n",
       "      <td>...</td>\n",
       "      <td>...</td>\n",
       "      <td>...</td>\n",
       "      <td>...</td>\n",
       "      <td>...</td>\n",
       "      <td>...</td>\n",
       "      <td>...</td>\n",
       "      <td>...</td>\n",
       "      <td>...</td>\n",
       "      <td>...</td>\n",
       "      <td>...</td>\n",
       "      <td>...</td>\n",
       "      <td>...</td>\n",
       "      <td>...</td>\n",
       "    </tr>\n",
       "    <tr>\n",
       "      <th>1298</th>\n",
       "      <td>Lenovo</td>\n",
       "      <td>Yoga 500-14ISK</td>\n",
       "      <td>2 in 1 Convertible</td>\n",
       "      <td>14.0</td>\n",
       "      <td>Intel Core i7 6500U 2.5GHz</td>\n",
       "      <td>4</td>\n",
       "      <td>Intel HD Graphics 520</td>\n",
       "      <td>Windows 10</td>\n",
       "      <td>1.80</td>\n",
       "      <td>638.00</td>\n",
       "      <td>128.0</td>\n",
       "      <td>SSD</td>\n",
       "      <td>1920</td>\n",
       "      <td>1080</td>\n",
       "    </tr>\n",
       "    <tr>\n",
       "      <th>1299</th>\n",
       "      <td>Lenovo</td>\n",
       "      <td>Yoga 900-13ISK</td>\n",
       "      <td>2 in 1 Convertible</td>\n",
       "      <td>13.3</td>\n",
       "      <td>Intel Core i7 6500U 2.5GHz</td>\n",
       "      <td>16</td>\n",
       "      <td>Intel HD Graphics 520</td>\n",
       "      <td>Windows 10</td>\n",
       "      <td>1.30</td>\n",
       "      <td>1499.00</td>\n",
       "      <td>512.0</td>\n",
       "      <td>SSD</td>\n",
       "      <td>3200</td>\n",
       "      <td>1800</td>\n",
       "    </tr>\n",
       "    <tr>\n",
       "      <th>1300</th>\n",
       "      <td>Lenovo</td>\n",
       "      <td>IdeaPad 100S-14IBR</td>\n",
       "      <td>Notebook</td>\n",
       "      <td>14.0</td>\n",
       "      <td>Intel Celeron Dual Core N3050 1.6GHz</td>\n",
       "      <td>2</td>\n",
       "      <td>Intel HD Graphics</td>\n",
       "      <td>Windows 10</td>\n",
       "      <td>1.50</td>\n",
       "      <td>229.00</td>\n",
       "      <td>64.0</td>\n",
       "      <td>Flash Storage</td>\n",
       "      <td>1366</td>\n",
       "      <td>768</td>\n",
       "    </tr>\n",
       "    <tr>\n",
       "      <th>1301</th>\n",
       "      <td>HP</td>\n",
       "      <td>15-AC110nv (i7-6500U/6GB/1TB/Radeon</td>\n",
       "      <td>Notebook</td>\n",
       "      <td>15.6</td>\n",
       "      <td>Intel Core i7 6500U 2.5GHz</td>\n",
       "      <td>6</td>\n",
       "      <td>AMD Radeon R5 M330</td>\n",
       "      <td>Windows 10</td>\n",
       "      <td>2.19</td>\n",
       "      <td>764.00</td>\n",
       "      <td>1000.0</td>\n",
       "      <td>HDD</td>\n",
       "      <td>1366</td>\n",
       "      <td>768</td>\n",
       "    </tr>\n",
       "    <tr>\n",
       "      <th>1302</th>\n",
       "      <td>Asus</td>\n",
       "      <td>X553SA-XX031T (N3050/4GB/500GB/W10)</td>\n",
       "      <td>Notebook</td>\n",
       "      <td>15.6</td>\n",
       "      <td>Intel Celeron Dual Core N3050 1.6GHz</td>\n",
       "      <td>4</td>\n",
       "      <td>Intel HD Graphics</td>\n",
       "      <td>Windows 10</td>\n",
       "      <td>2.20</td>\n",
       "      <td>369.00</td>\n",
       "      <td>500.0</td>\n",
       "      <td>HDD</td>\n",
       "      <td>1366</td>\n",
       "      <td>768</td>\n",
       "    </tr>\n",
       "  </tbody>\n",
       "</table>\n",
       "<p>1303 rows × 14 columns</p>\n",
       "</div>"
      ],
      "text/plain": [
       "     Company                              Product            TypeName  Inches  \\\n",
       "0      Apple                          MacBook Pro           Ultrabook    13.3   \n",
       "1      Apple                          Macbook Air           Ultrabook    13.3   \n",
       "2         HP                               250 G6            Notebook    15.6   \n",
       "3      Apple                          MacBook Pro           Ultrabook    15.4   \n",
       "4      Apple                          MacBook Pro           Ultrabook    13.3   \n",
       "...      ...                                  ...                 ...     ...   \n",
       "1298  Lenovo                       Yoga 500-14ISK  2 in 1 Convertible    14.0   \n",
       "1299  Lenovo                       Yoga 900-13ISK  2 in 1 Convertible    13.3   \n",
       "1300  Lenovo                   IdeaPad 100S-14IBR            Notebook    14.0   \n",
       "1301      HP  15-AC110nv (i7-6500U/6GB/1TB/Radeon            Notebook    15.6   \n",
       "1302    Asus  X553SA-XX031T (N3050/4GB/500GB/W10)            Notebook    15.6   \n",
       "\n",
       "                                       Cpu  Ram                           Gpu  \\\n",
       "0                     Intel Core i5 2.3GHz    8  Intel Iris Plus Graphics 640   \n",
       "1                     Intel Core i5 1.8GHz    8        Intel HD Graphics 6000   \n",
       "2               Intel Core i5 7200U 2.5GHz    8         Intel HD Graphics 620   \n",
       "3                     Intel Core i7 2.7GHz   16            AMD Radeon Pro 455   \n",
       "4                     Intel Core i5 3.1GHz    8  Intel Iris Plus Graphics 650   \n",
       "...                                    ...  ...                           ...   \n",
       "1298            Intel Core i7 6500U 2.5GHz    4         Intel HD Graphics 520   \n",
       "1299            Intel Core i7 6500U 2.5GHz   16         Intel HD Graphics 520   \n",
       "1300  Intel Celeron Dual Core N3050 1.6GHz    2             Intel HD Graphics   \n",
       "1301            Intel Core i7 6500U 2.5GHz    6            AMD Radeon R5 M330   \n",
       "1302  Intel Celeron Dual Core N3050 1.6GHz    4             Intel HD Graphics   \n",
       "\n",
       "           OpSys  Weight  Price_euros  Memory_Size    Memory_Type  \\\n",
       "0          macOS    1.37      1339.69        128.0            SSD   \n",
       "1          macOS    1.34       898.94        128.0  Flash Storage   \n",
       "2          No OS    1.86       575.00        256.0            SSD   \n",
       "3          macOS    1.83      2537.45        512.0            SSD   \n",
       "4          macOS    1.37      1803.60        256.0            SSD   \n",
       "...          ...     ...          ...          ...            ...   \n",
       "1298  Windows 10    1.80       638.00        128.0            SSD   \n",
       "1299  Windows 10    1.30      1499.00        512.0            SSD   \n",
       "1300  Windows 10    1.50       229.00         64.0  Flash Storage   \n",
       "1301  Windows 10    2.19       764.00       1000.0            HDD   \n",
       "1302  Windows 10    2.20       369.00        500.0            HDD   \n",
       "\n",
       "      Resolution_Width  Resolution_Height  \n",
       "0                 2560               1600  \n",
       "1                 1440                900  \n",
       "2                 1920               1080  \n",
       "3                 2880               1800  \n",
       "4                 2560               1600  \n",
       "...                ...                ...  \n",
       "1298              1920               1080  \n",
       "1299              3200               1800  \n",
       "1300              1366                768  \n",
       "1301              1366                768  \n",
       "1302              1366                768  \n",
       "\n",
       "[1303 rows x 14 columns]"
      ]
     },
     "execution_count": 17,
     "metadata": {},
     "output_type": "execute_result"
    }
   ],
   "source": [
    "df = df.drop(['ScreenResolution', 'Resolution'], axis=1)\n",
    "df"
   ]
  },
  {
   "cell_type": "markdown",
   "id": "7f98ec7e-6791-4e3f-b442-e58ef6e71ec0",
   "metadata": {},
   "source": [
    "### 5. Кодирование категориальных переменных:"
   ]
  },
  {
   "cell_type": "code",
   "execution_count": 18,
   "id": "35a04369-02ff-4c26-9b86-b00f3a038c6d",
   "metadata": {},
   "outputs": [],
   "source": [
    "# Список категориальных столбцов\n",
    "categorical_columns = ['Company', 'Product', 'TypeName', 'Cpu', 'Gpu', 'OpSys', 'Memory_Type']\n",
    "\n",
    "# Применение LabelEncoder\n",
    "label_encoders = {}\n",
    "for col in categorical_columns:\n",
    "    le = LabelEncoder()\n",
    "    df[col] = le.fit_transform(df[col])\n",
    "    label_encoders[col] = le   # Сохраняем encoder для возможного обратного преобразования"
   ]
  },
  {
   "cell_type": "markdown",
   "id": "28bd90ba-aeee-4afe-aed3-72b5ca57766c",
   "metadata": {},
   "source": [
    "## 3.2 Проверка корреляции"
   ]
  },
  {
   "cell_type": "code",
   "execution_count": 19,
   "id": "c7b0a053-32b2-4a2c-bd2b-e692602b8263",
   "metadata": {},
   "outputs": [
    {
     "data": {
      "text/html": [
       "<div>\n",
       "<style scoped>\n",
       "    .dataframe tbody tr th:only-of-type {\n",
       "        vertical-align: middle;\n",
       "    }\n",
       "\n",
       "    .dataframe tbody tr th {\n",
       "        vertical-align: top;\n",
       "    }\n",
       "\n",
       "    .dataframe thead th {\n",
       "        text-align: right;\n",
       "    }\n",
       "</style>\n",
       "<table border=\"1\" class=\"dataframe\">\n",
       "  <thead>\n",
       "    <tr style=\"text-align: right;\">\n",
       "      <th></th>\n",
       "      <th>Company</th>\n",
       "      <th>Product</th>\n",
       "      <th>TypeName</th>\n",
       "      <th>Inches</th>\n",
       "      <th>Cpu</th>\n",
       "      <th>Ram</th>\n",
       "      <th>Gpu</th>\n",
       "      <th>OpSys</th>\n",
       "      <th>Weight</th>\n",
       "      <th>Price_euros</th>\n",
       "      <th>Memory_Size</th>\n",
       "      <th>Memory_Type</th>\n",
       "      <th>Resolution_Width</th>\n",
       "      <th>Resolution_Height</th>\n",
       "    </tr>\n",
       "  </thead>\n",
       "  <tbody>\n",
       "    <tr>\n",
       "      <th>0</th>\n",
       "      <td>1</td>\n",
       "      <td>300</td>\n",
       "      <td>4</td>\n",
       "      <td>13.3</td>\n",
       "      <td>65</td>\n",
       "      <td>8</td>\n",
       "      <td>58</td>\n",
       "      <td>8</td>\n",
       "      <td>1.37</td>\n",
       "      <td>1339.69</td>\n",
       "      <td>128.0</td>\n",
       "      <td>3</td>\n",
       "      <td>2560</td>\n",
       "      <td>1600</td>\n",
       "    </tr>\n",
       "    <tr>\n",
       "      <th>1</th>\n",
       "      <td>1</td>\n",
       "      <td>301</td>\n",
       "      <td>4</td>\n",
       "      <td>13.3</td>\n",
       "      <td>63</td>\n",
       "      <td>8</td>\n",
       "      <td>51</td>\n",
       "      <td>8</td>\n",
       "      <td>1.34</td>\n",
       "      <td>898.94</td>\n",
       "      <td>128.0</td>\n",
       "      <td>0</td>\n",
       "      <td>1440</td>\n",
       "      <td>900</td>\n",
       "    </tr>\n",
       "    <tr>\n",
       "      <th>2</th>\n",
       "      <td>7</td>\n",
       "      <td>50</td>\n",
       "      <td>3</td>\n",
       "      <td>15.6</td>\n",
       "      <td>74</td>\n",
       "      <td>8</td>\n",
       "      <td>53</td>\n",
       "      <td>4</td>\n",
       "      <td>1.86</td>\n",
       "      <td>575.00</td>\n",
       "      <td>256.0</td>\n",
       "      <td>3</td>\n",
       "      <td>1920</td>\n",
       "      <td>1080</td>\n",
       "    </tr>\n",
       "    <tr>\n",
       "      <th>3</th>\n",
       "      <td>1</td>\n",
       "      <td>300</td>\n",
       "      <td>4</td>\n",
       "      <td>15.4</td>\n",
       "      <td>85</td>\n",
       "      <td>16</td>\n",
       "      <td>9</td>\n",
       "      <td>8</td>\n",
       "      <td>1.83</td>\n",
       "      <td>2537.45</td>\n",
       "      <td>512.0</td>\n",
       "      <td>3</td>\n",
       "      <td>2880</td>\n",
       "      <td>1800</td>\n",
       "    </tr>\n",
       "    <tr>\n",
       "      <th>4</th>\n",
       "      <td>1</td>\n",
       "      <td>300</td>\n",
       "      <td>4</td>\n",
       "      <td>13.3</td>\n",
       "      <td>67</td>\n",
       "      <td>8</td>\n",
       "      <td>59</td>\n",
       "      <td>8</td>\n",
       "      <td>1.37</td>\n",
       "      <td>1803.60</td>\n",
       "      <td>256.0</td>\n",
       "      <td>3</td>\n",
       "      <td>2560</td>\n",
       "      <td>1600</td>\n",
       "    </tr>\n",
       "    <tr>\n",
       "      <th>...</th>\n",
       "      <td>...</td>\n",
       "      <td>...</td>\n",
       "      <td>...</td>\n",
       "      <td>...</td>\n",
       "      <td>...</td>\n",
       "      <td>...</td>\n",
       "      <td>...</td>\n",
       "      <td>...</td>\n",
       "      <td>...</td>\n",
       "      <td>...</td>\n",
       "      <td>...</td>\n",
       "      <td>...</td>\n",
       "      <td>...</td>\n",
       "      <td>...</td>\n",
       "    </tr>\n",
       "    <tr>\n",
       "      <th>1298</th>\n",
       "      <td>10</td>\n",
       "      <td>580</td>\n",
       "      <td>0</td>\n",
       "      <td>14.0</td>\n",
       "      <td>89</td>\n",
       "      <td>4</td>\n",
       "      <td>47</td>\n",
       "      <td>5</td>\n",
       "      <td>1.80</td>\n",
       "      <td>638.00</td>\n",
       "      <td>128.0</td>\n",
       "      <td>3</td>\n",
       "      <td>1920</td>\n",
       "      <td>1080</td>\n",
       "    </tr>\n",
       "    <tr>\n",
       "      <th>1299</th>\n",
       "      <td>10</td>\n",
       "      <td>588</td>\n",
       "      <td>0</td>\n",
       "      <td>13.3</td>\n",
       "      <td>89</td>\n",
       "      <td>16</td>\n",
       "      <td>47</td>\n",
       "      <td>5</td>\n",
       "      <td>1.30</td>\n",
       "      <td>1499.00</td>\n",
       "      <td>512.0</td>\n",
       "      <td>3</td>\n",
       "      <td>3200</td>\n",
       "      <td>1800</td>\n",
       "    </tr>\n",
       "    <tr>\n",
       "      <th>1300</th>\n",
       "      <td>10</td>\n",
       "      <td>196</td>\n",
       "      <td>3</td>\n",
       "      <td>14.0</td>\n",
       "      <td>34</td>\n",
       "      <td>2</td>\n",
       "      <td>40</td>\n",
       "      <td>5</td>\n",
       "      <td>1.50</td>\n",
       "      <td>229.00</td>\n",
       "      <td>64.0</td>\n",
       "      <td>0</td>\n",
       "      <td>1366</td>\n",
       "      <td>768</td>\n",
       "    </tr>\n",
       "    <tr>\n",
       "      <th>1301</th>\n",
       "      <td>7</td>\n",
       "      <td>2</td>\n",
       "      <td>3</td>\n",
       "      <td>15.6</td>\n",
       "      <td>89</td>\n",
       "      <td>6</td>\n",
       "      <td>21</td>\n",
       "      <td>5</td>\n",
       "      <td>2.19</td>\n",
       "      <td>764.00</td>\n",
       "      <td>1000.0</td>\n",
       "      <td>1</td>\n",
       "      <td>1366</td>\n",
       "      <td>768</td>\n",
       "    </tr>\n",
       "    <tr>\n",
       "      <th>1302</th>\n",
       "      <td>2</td>\n",
       "      <td>568</td>\n",
       "      <td>3</td>\n",
       "      <td>15.6</td>\n",
       "      <td>34</td>\n",
       "      <td>4</td>\n",
       "      <td>40</td>\n",
       "      <td>5</td>\n",
       "      <td>2.20</td>\n",
       "      <td>369.00</td>\n",
       "      <td>500.0</td>\n",
       "      <td>1</td>\n",
       "      <td>1366</td>\n",
       "      <td>768</td>\n",
       "    </tr>\n",
       "  </tbody>\n",
       "</table>\n",
       "<p>1303 rows × 14 columns</p>\n",
       "</div>"
      ],
      "text/plain": [
       "      Company  Product  TypeName  Inches  Cpu  Ram  Gpu  OpSys  Weight  \\\n",
       "0           1      300         4    13.3   65    8   58      8    1.37   \n",
       "1           1      301         4    13.3   63    8   51      8    1.34   \n",
       "2           7       50         3    15.6   74    8   53      4    1.86   \n",
       "3           1      300         4    15.4   85   16    9      8    1.83   \n",
       "4           1      300         4    13.3   67    8   59      8    1.37   \n",
       "...       ...      ...       ...     ...  ...  ...  ...    ...     ...   \n",
       "1298       10      580         0    14.0   89    4   47      5    1.80   \n",
       "1299       10      588         0    13.3   89   16   47      5    1.30   \n",
       "1300       10      196         3    14.0   34    2   40      5    1.50   \n",
       "1301        7        2         3    15.6   89    6   21      5    2.19   \n",
       "1302        2      568         3    15.6   34    4   40      5    2.20   \n",
       "\n",
       "      Price_euros  Memory_Size  Memory_Type  Resolution_Width  \\\n",
       "0         1339.69        128.0            3              2560   \n",
       "1          898.94        128.0            0              1440   \n",
       "2          575.00        256.0            3              1920   \n",
       "3         2537.45        512.0            3              2880   \n",
       "4         1803.60        256.0            3              2560   \n",
       "...           ...          ...          ...               ...   \n",
       "1298       638.00        128.0            3              1920   \n",
       "1299      1499.00        512.0            3              3200   \n",
       "1300       229.00         64.0            0              1366   \n",
       "1301       764.00       1000.0            1              1366   \n",
       "1302       369.00        500.0            1              1366   \n",
       "\n",
       "      Resolution_Height  \n",
       "0                  1600  \n",
       "1                   900  \n",
       "2                  1080  \n",
       "3                  1800  \n",
       "4                  1600  \n",
       "...                 ...  \n",
       "1298               1080  \n",
       "1299               1800  \n",
       "1300                768  \n",
       "1301                768  \n",
       "1302                768  \n",
       "\n",
       "[1303 rows x 14 columns]"
      ]
     },
     "execution_count": 19,
     "metadata": {},
     "output_type": "execute_result"
    }
   ],
   "source": [
    "df"
   ]
  },
  {
   "cell_type": "code",
   "execution_count": 20,
   "id": "e9ddbccf-0e74-47b8-93ff-816098995a3f",
   "metadata": {},
   "outputs": [
    {
     "data": {
      "image/png": "[encoded data removed]",
      "text/plain": [
       "<Figure size 1200x800 with 2 Axes>"
      ]
     },
     "metadata": {},
     "output_type": "display_data"
    }
   ],
   "source": [
    "# Построение корреляционной матрицы\n",
    "plt.figure(figsize=(12, 8))\n",
    "sns.heatmap(df.corr(), annot=True, cmap='coolwarm', fmt='.2f')\n",
    "plt.title('Корреляционная матрица')\n",
    "plt.show()"
   ]
  },
  {
   "cell_type": "markdown",
   "id": "eaa5293b-0196-491b-b1e7-28aa2016bc15",
   "metadata": {},
   "source": [
    "# 4. Разделение данных"
   ]
  },
  {
   "cell_type": "code",
   "execution_count": 21,
   "id": "2fc1d88b-e465-444c-9b88-158af878d59b",
   "metadata": {},
   "outputs": [],
   "source": [
    "# Признаки (X) и целевая переменная (y)\n",
    "X = df.drop('Price_euros', axis=1)\n",
    "y = df['Price_euros']\n",
    "\n",
    "# Разделение на обучающую и тестовую выборки:\n",
    "X_train, X_test, y_train, y_test = train_test_split(X, y, test_size=0.2, random_state=42)"
   ]
  },
  {
   "cell_type": "markdown",
   "id": "5b2b406c-e62f-4c16-8fde-7126149d2884",
   "metadata": {},
   "source": [
    "# 5. Масштабирование данных"
   ]
  },
  {
   "cell_type": "code",
   "execution_count": 22,
   "id": "a2133f41-e574-48d0-bece-43fa9654bc34",
   "metadata": {},
   "outputs": [],
   "source": [
    "scaler = StandardScaler()\n",
    "X_train_scaled = scaler.fit_transform(X_train)\n",
    "X_test_scaled = scaler.transform(X_test)"
   ]
  },
  {
   "cell_type": "markdown",
   "id": "83d079e3-fca1-41a7-a99e-1d03a2aa9162",
   "metadata": {},
   "source": [
    "# 6. Обучение моделей"
   ]
  },
  {
   "cell_type": "markdown",
   "id": "6e45904b-1c8f-4818-9eb8-d2ccd09255a8",
   "metadata": {},
   "source": [
    "## 6.1 Линейная регрессия"
   ]
  },
  {
   "cell_type": "code",
   "execution_count": 23,
   "id": "692634fc-5899-4df0-9c77-d08de3a2630d",
   "metadata": {},
   "outputs": [
    {
     "name": "stdout",
     "output_type": "stream",
     "text": [
      "Линейная регрессия:\n",
      "Среднеквадратичная ошибка (MSE): 158709.78\n",
      "Коэффициент детерминации (R²): 0.69\n"
     ]
    }
   ],
   "source": [
    "lr_model = LinearRegression()\n",
    "lr_model.fit(X_train_scaled, y_train)\n",
    "\n",
    "# Предсказание\n",
    "y_pred_lr = lr_model.predict(X_test_scaled)\n",
    "\n",
    "# Оценка модели\n",
    "lr_mse = mean_squared_error(y_test, y_pred_lr)\n",
    "lr_r2 = r2_score(y_test, y_pred_lr)\n",
    "\n",
    "print(\"Линейная регрессия:\")\n",
    "print(f\"Среднеквадратичная ошибка (MSE): {lr_mse:.2f}\")\n",
    "print(f\"Коэффициент детерминации (R²): {lr_r2:.2f}\")"
   ]
  },
  {
   "cell_type": "markdown",
   "id": "bbe075c4-bff6-4294-9b52-93cbc5eec1dd",
   "metadata": {},
   "source": [
    "## 6.2 Случайный лес"
   ]
  },
  {
   "cell_type": "code",
   "execution_count": 24,
   "id": "e642ab1c-d769-4054-b84f-c893f70d265b",
   "metadata": {},
   "outputs": [
    {
     "name": "stdout",
     "output_type": "stream",
     "text": [
      "Случайный лес:\n",
      "Среднеквадратичная ошибка (MSE): 86341.67\n",
      "Коэффициент детерминации (R²): 0.83\n"
     ]
    }
   ],
   "source": [
    "rf_model = RandomForestRegressor(n_estimators=100, random_state=42)\n",
    "rf_model.fit(X_train_scaled, y_train)\n",
    "\n",
    "# Предсказание\n",
    "y_pred_rf = rf_model.predict(X_test_scaled)\n",
    "\n",
    "# Оценка модели\n",
    "rf_mse = mean_squared_error(y_test, y_pred_rf)\n",
    "rf_r2 = r2_score(y_test, y_pred_rf)\n",
    "\n",
    "print(\"Случайный лес:\")\n",
    "print(f\"Среднеквадратичная ошибка (MSE): {rf_mse:.2f}\")\n",
    "print(f\"Коэффициент детерминации (R²): {rf_r2:.2f}\")"
   ]
  },
  {
   "cell_type": "markdown",
   "id": "7b1197e1-c4eb-47a1-b1de-8c27273c8ca3",
   "metadata": {},
   "source": [
    "# 7. Анализ результатов"
   ]
  },
  {
   "cell_type": "markdown",
   "id": "5144b634-aabf-46f1-b777-ed46fbe6371d",
   "metadata": {},
   "source": [
    "## 7.1 Визуализация"
   ]
  },
  {
   "cell_type": "markdown",
   "id": "6e8b38f9-b9db-4f82-8c10-4e3db83131d6",
   "metadata": {},
   "source": [
    "### 1. График предсказанных значений против реальных (Scatter Plot):"
   ]
  },
  {
   "cell_type": "markdown",
   "id": "fc4953b8-a496-4e28-a033-55f5037e641b",
   "metadata": {},
   "source": [
    "Этот график поможет оценить, насколько предсказания моделей близки к реальным значениям. Идеальная модель будет иметь точки, расположенные вдоль диагональной линии ( y = x )."
   ]
  },
  {
   "cell_type": "code",
   "execution_count": 25,
   "id": "e7f8506f-34b8-4638-b3a2-e928e6bb67b5",
   "metadata": {},
   "outputs": [
    {
     "data": {
      "image/png": "[encoded data removed]",
      "text/plain": [
       "<Figure size 1200x600 with 2 Axes>"
      ]
     },
     "metadata": {},
     "output_type": "display_data"
    }
   ],
   "source": [
    "# Визуализация предсказаний для линейной регрессии\n",
    "plt.figure(figsize=(12, 6))\n",
    "\n",
    "plt.subplot(1, 2, 1)\n",
    "plt.scatter(y_test, y_pred_lr, alpha=0.5, color='blue')\n",
    "plt.plot([y_test.min(), y_test.max()], [y_test.min(), y_test.max()], 'r--', lw=2)\n",
    "plt.xlabel('Реальная цена (евро)')\n",
    "plt.ylabel('Предсказанная цена (евро)')\n",
    "plt.title('Линейная регрессия: Реальная vs Предсказанная цена')\n",
    "\n",
    "plt.subplot(1, 2, 2)\n",
    "plt.scatter(y_test, y_pred_rf, alpha=0.5, color='green')\n",
    "plt.plot([y_test.min(), y_test.max()], [y_test.min(), y_test.max()], 'r--', lw=2)\n",
    "plt.xlabel('Реальная цена (евро)')\n",
    "plt.ylabel('Предсказанная цена (евро)')\n",
    "plt.title('Случайный лес: Реальная vs Предсказанная цена')\n",
    "\n",
    "plt.tight_layout()\n",
    "plt.show()"
   ]
  },
  {
   "cell_type": "markdown",
   "id": "6ff31a4c-90f6-47dc-bddd-b8ff61dfedcc",
   "metadata": {},
   "source": [
    "### 2. График распределения ошибок (Residual Plot):"
   ]
  },
  {
   "cell_type": "markdown",
   "id": "af13dc1d-d9ee-4b1f-9032-3899d9718b87",
   "metadata": {},
   "source": [
    "Этот график показывает разницу между реальными и предсказанными значениями (остатки). Идеальная модель будет иметь остатки, распределенные случайным образом вокруг нуля, без явных закономерностей."
   ]
  },
  {
   "cell_type": "code",
   "execution_count": 26,
   "id": "aad3ba7b-fdfd-4c6f-827b-60afa47fac1a",
   "metadata": {},
   "outputs": [
    {
     "data": {
      "image/png": "[encoded data removed]",
      "text/plain": [
       "<Figure size 1200x600 with 2 Axes>"
      ]
     },
     "metadata": {},
     "output_type": "display_data"
    }
   ],
   "source": [
    "# Остатки для линейной регрессии\n",
    "lr_residuals = y_test - y_pred_lr\n",
    "\n",
    "# Остатки для случайного леса\n",
    "rf_residuals = y_test - y_pred_rf\n",
    "\n",
    "# Визуализация остатков\n",
    "plt.figure(figsize=(12, 6))\n",
    "plt.subplot(1, 2, 1)\n",
    "plt.scatter(y_pred_lr, lr_residuals, alpha=0.5, color='blue')\n",
    "plt.axhline(y=0, color='r', linestyle='--')\n",
    "plt.xlabel('Предсказанная цена (евро)')\n",
    "plt.ylabel('Остатки (евро)')\n",
    "plt.title('Линейная регрессия: Остатки')\n",
    "\n",
    "plt.subplot(1, 2, 2)\n",
    "plt.scatter(y_pred_rf, rf_residuals, alpha=0.5, color='green')\n",
    "plt.axhline(y=0, color='r', linestyle='--')\n",
    "plt.xlabel('Предсказанная цена (евро)')\n",
    "plt.ylabel('Остатки (евро)')\n",
    "plt.title('Случайный лес: Остатки')\n",
    "\n",
    "plt.tight_layout()\n",
    "plt.show()"
   ]
  },
  {
   "cell_type": "markdown",
   "id": "d1c06dda-0d56-4f79-8efc-5c5b8c816fce",
   "metadata": {},
   "source": [
    "### 3. Гистограмма ошибок:"
   ]
  },
  {
   "cell_type": "code",
   "execution_count": 27,
   "id": "70d7034b-c613-4ba1-b6e9-ba72f1c84b3c",
   "metadata": {},
   "outputs": [
    {
     "data": {
      "image/png": "[encoded data removed]",
      "text/plain": [
       "<Figure size 1200x600 with 2 Axes>"
      ]
     },
     "metadata": {},
     "output_type": "display_data"
    }
   ],
   "source": [
    "plt.figure(figsize=(12, 6))\n",
    "\n",
    "plt.subplot(1, 2, 1)\n",
    "plt.hist(lr_residuals, bins=30, color='blue', alpha=0.7)\n",
    "plt.xlabel('Остатки (евро)')\n",
    "plt.ylabel('Частота')\n",
    "plt.title('Линейная регрессия: Распределение ошибок')\n",
    "\n",
    "plt.subplot(1, 2, 2)\n",
    "plt.hist(rf_residuals, bins=30, color='green', alpha=0.7)\n",
    "plt.xlabel('Остатки (евро)')\n",
    "plt.ylabel('Частота')\n",
    "plt.title('Случайный лес: Распределение ошибок')\n",
    "\n",
    "plt.tight_layout()\n",
    "plt.show()"
   ]
  },
  {
   "cell_type": "markdown",
   "id": "8dc9cc9f-ae81-4fce-8abe-58af3a713033",
   "metadata": {},
   "source": [
    "## 7.2 Важность признаков (для случайного леса)"
   ]
  },
  {
   "cell_type": "code",
   "execution_count": 28,
   "id": "58c049fc-2e61-4452-9283-82d4cb332b58",
   "metadata": {},
   "outputs": [
    {
     "data": {
      "image/png": "[encoded data removed]",
      "text/plain": [
       "<Figure size 1000x600 with 1 Axes>"
      ]
     },
     "metadata": {},
     "output_type": "display_data"
    }
   ],
   "source": [
    "feature_importance = pd.DataFrame({\n",
    "    'Feature': X.columns,\n",
    "    'Importance': rf_model.feature_importances_\n",
    "})\n",
    "feature_importance = feature_importance.sort_values('Importance', ascending=False)\n",
    "\n",
    "# Визуализация важности признаков\n",
    "plt.figure(figsize=(10, 6))\n",
    "sns.barplot(x='Importance', y='Feature', data=feature_importance, palette='viridis')\n",
    "plt.title('Важность признаков')\n",
    "plt.show()"
   ]
  },
  {
   "cell_type": "markdown",
   "id": "af7acd11-b7d7-4eff-aa2b-afa7a56fa3e3",
   "metadata": {},
   "source": [
    "Признаки с наибольшей важностью оказывают наибольшее влияние на цену."
   ]
  },
  {
   "cell_type": "markdown",
   "id": "ac3cdf1e-9dac-4278-80b2-5a72fd4cb46c",
   "metadata": {},
   "source": [
    "## 7.3 Сравнение моделей"
   ]
  },
  {
   "cell_type": "code",
   "execution_count": 29,
   "id": "ca91fd6a-8b94-498c-a11c-d504a7f6643e",
   "metadata": {},
   "outputs": [
    {
     "name": "stdout",
     "output_type": "stream",
     "text": [
      "Сравнение моделей:\n",
      "Линейная регрессия: MSE = 158709.78, R² = 0.69\n",
      "Случайный лес: MSE = 86341.67, R² = 0.83\n",
      "Случайный лес показал лучшие результаты, чем линейная регрессия.\n"
     ]
    }
   ],
   "source": [
    "# Сравнение метрик\n",
    "print(\"Сравнение моделей:\")\n",
    "print(f\"Линейная регрессия: MSE = {lr_mse:.2f}, R² = {lr_r2:.2f}\")\n",
    "print(f\"Случайный лес: MSE = {rf_mse:.2f}, R² = {rf_r2:.2f}\")\n",
    "\n",
    "if rf_r2 > lr_r2:\n",
    "    print(\"Случайный лес показал лучшие результаты, чем линейная регрессия.\")\n",
    "else:\n",
    "    print(\"Линейная регрессия показала лучшие результаты, чем случайный лес.\")"
   ]
  },
  {
   "cell_type": "markdown",
   "id": "9275d6e7-f4a8-4b43-a10a-4f1b025297ae",
   "metadata": {},
   "source": [
    "# 8. Оптимизация модели"
   ]
  },
  {
   "cell_type": "markdown",
   "id": "3a6475e0-85dd-487e-b415-771b4373106a",
   "metadata": {},
   "source": [
    "## 8.1 Подбор гиперпараметров для случайного леса"
   ]
  },
  {
   "cell_type": "markdown",
   "id": "adcdb2de-02c6-4952-a311-c745d21cd64c",
   "metadata": {},
   "source": [
    "Используем GridSearchCV для поиска оптимальных гиперпараметров модели случайного леса."
   ]
  },
  {
   "cell_type": "code",
   "execution_count": 30,
   "id": "039414b2-723c-4178-b46b-e1ad4817f19d",
   "metadata": {},
   "outputs": [],
   "source": [
    "from sklearn.model_selection import GridSearchCV"
   ]
  },
  {
   "cell_type": "code",
   "execution_count": 31,
   "id": "11b62c56-eaee-40ef-91bf-50ab3eee740d",
   "metadata": {},
   "outputs": [
    {
     "name": "stdout",
     "output_type": "stream",
     "text": [
      "Fitting 5 folds for each of 108 candidates, totalling 540 fits\n",
      "Лучшая модель случайного леса:\n",
      "Лучшие параметры: {'max_depth': None, 'min_samples_leaf': 1, 'min_samples_split': 2, 'n_estimators': 200}\n",
      "Среднеквадратичная ошибка (MSE): 84286.06\n",
      "Коэффициент детерминации (R²): 0.83\n"
     ]
    }
   ],
   "source": [
    "# Определение параметров для поиска\n",
    "param_grid = {\n",
    "    'n_estimators': [100, 200, 300],\n",
    "    'max_depth': [10, 20, 30, None],\n",
    "    'min_samples_split': [2, 5, 10],\n",
    "    'min_samples_leaf': [1, 2, 4]\n",
    "}\n",
    "\n",
    "# Создание модели\n",
    "rf = RandomForestRegressor(random_state=42)\n",
    "\n",
    "# Поиск оптимальных параметров\n",
    "grid_search = GridSearchCV(estimator=rf, param_grid=param_grid, cv=5, n_jobs=-1, verbose=2)\n",
    "grid_search.fit(X_train_scaled, y_train)\n",
    "\n",
    "# Лучшая модель\n",
    "best_rf_model = grid_search.best_estimator_\n",
    "\n",
    "# Предсказание с лучшей моделью\n",
    "y_pred_best_rf = best_rf_model.predict(X_test_scaled)\n",
    "\n",
    "# Оценка лучшей модели\n",
    "best_rf_mse = mean_squared_error(y_test, y_pred_best_rf)\n",
    "best_rf_r2 = r2_score(y_test, y_pred_best_rf)\n",
    "\n",
    "print('Лучшая модель случайного леса:')\n",
    "print(f'Лучшие параметры: {grid_search.best_params_}')\n",
    "print(f'Среднеквадратичная ошибка (MSE): {best_rf_mse:.2f}')\n",
    "print(f'Коэффициент детерминации (R²): {best_rf_r2:.2f}')"
   ]
  },
  {
   "cell_type": "markdown",
   "id": "00b69217-2d49-44a2-97e4-55ce5ac37bd4",
   "metadata": {},
   "source": [
    "## 8.2 Использование других моделей"
   ]
  },
  {
   "cell_type": "markdown",
   "id": "25900498-193d-4468-a66f-4b3e8ea26586",
   "metadata": {},
   "source": [
    "### 1. Пример с градиентным бустингом (GradientBoostingRegressor)"
   ]
  },
  {
   "cell_type": "code",
   "execution_count": 32,
   "id": "6ea14c9c-3a5c-450c-9d50-d2fee19cc130",
   "metadata": {},
   "outputs": [],
   "source": [
    "from sklearn.ensemble import GradientBoostingRegressor"
   ]
  },
  {
   "cell_type": "code",
   "execution_count": 33,
   "id": "343b414b-bdf4-413c-9916-f94bfe6f2849",
   "metadata": {},
   "outputs": [
    {
     "name": "stdout",
     "output_type": "stream",
     "text": [
      "Градиентный бустинг:\n",
      "Среднеквадратичная ошибка (MSE): 83271.08\n",
      "Коэффициент детерминации (R²): 0.84\n"
     ]
    }
   ],
   "source": [
    "# Обучение модели градиентного бустинга\n",
    "gb_model = GradientBoostingRegressor(n_estimators=100, learning_rate=0.1, max_depth=3, random_state=42)\n",
    "gb_model.fit(X_train_scaled, y_train)\n",
    "\n",
    "# Предсказания\n",
    "y_pred_gb = gb_model.predict(X_test_scaled)\n",
    "\n",
    "# Оценка модели\n",
    "gb_mse = mean_squared_error(y_test, y_pred_gb)\n",
    "gb_r2 = r2_score(y_test, y_pred_gb)\n",
    "\n",
    "print('Градиентный бустинг:')\n",
    "print(f'Среднеквадратичная ошибка (MSE): {gb_mse:.2f}')\n",
    "print(f'Коэффициент детерминации (R²): {gb_r2:.2f}')"
   ]
  },
  {
   "cell_type": "markdown",
   "id": "49d4659d-5ebb-4712-b8b3-1ccafb53d466",
   "metadata": {},
   "source": [
    "### 2. Пример с XGBoost"
   ]
  },
  {
   "cell_type": "code",
   "execution_count": 34,
   "id": "999fba63-42e2-485d-a623-eaa33266b174",
   "metadata": {},
   "outputs": [
    {
     "name": "stdout",
     "output_type": "stream",
     "text": [
      "Requirement already satisfied: xgboost in a:\\mikhailiuk\\soft\\anaconda\\lib\\site-packages (3.0.0)\n",
      "Requirement already satisfied: numpy in a:\\mikhailiuk\\soft\\anaconda\\lib\\site-packages (from xgboost) (1.26.4)\n",
      "Requirement already satisfied: scipy in a:\\mikhailiuk\\soft\\anaconda\\lib\\site-packages (from xgboost) (1.11.4)\n"
     ]
    }
   ],
   "source": [
    "!pip install xgboost"
   ]
  },
  {
   "cell_type": "code",
   "execution_count": 35,
   "id": "1a22bd5e-3b3f-4d60-aa83-ae87ffd20b7f",
   "metadata": {},
   "outputs": [],
   "source": [
    "import xgboost as xgb"
   ]
  },
  {
   "cell_type": "code",
   "execution_count": 36,
   "id": "05b20074-b2fa-49ac-a98a-56da410a036b",
   "metadata": {},
   "outputs": [
    {
     "name": "stdout",
     "output_type": "stream",
     "text": [
      "XGBoost:\n",
      "Среднеквадратичная ошибка (MSE): 87460.01\n",
      "Коэффициент детерминации (R²): 0.83\n"
     ]
    }
   ],
   "source": [
    "# Обучение модели XGBoost\n",
    "xgb_model = xgb.XGBRegressor(n_estimators=100, learning_rate=0.1, max_depth=3, random_state=42)\n",
    "xgb_model.fit(X_train_scaled, y_train)\n",
    "\n",
    "# Предсказания\n",
    "y_pred_xgb = xgb_model.predict(X_test_scaled)\n",
    "\n",
    "# Оценка модели\n",
    "xgb_mse = mean_squared_error(y_test, y_pred_xgb)\n",
    "xgb_r2 = r2_score(y_test, y_pred_xgb)\n",
    "\n",
    "print('XGBoost:')\n",
    "print(f'Среднеквадратичная ошибка (MSE): {xgb_mse:.2f}')\n",
    "print(f'Коэффициент детерминации (R²): {xgb_r2:.2f}')"
   ]
  },
  {
   "cell_type": "markdown",
   "id": "2db26367-f22a-4768-a21e-4d9a85de67a0",
   "metadata": {},
   "source": [
    "#### Подбор гиперпараметров для XGBoost"
   ]
  },
  {
   "cell_type": "code",
   "execution_count": 37,
   "id": "f95604bd-b8f1-4abe-9c86-dbd500042cba",
   "metadata": {},
   "outputs": [
    {
     "name": "stdout",
     "output_type": "stream",
     "text": [
      "Fitting 5 folds for each of 108 candidates, totalling 540 fits\n",
      "Лучшая модель XGBoost:\n",
      "Лучшие параметры: {'colsample_bytree': 0.8, 'learning_rate': 0.1, 'max_depth': 3, 'n_estimators': 300, 'subsample': 0.8}\n",
      "Среднеквадратичная ошибка (MSE): 71780.48\n",
      "Коэффициент детерминации (R²): 0.86\n"
     ]
    }
   ],
   "source": [
    "# Определение параметров для поиска\n",
    "param_grid_xgb = {\n",
    "    'n_estimators': [100, 200, 300],\n",
    "    'learning_rate': [0.01, 0.1, 0.2],\n",
    "    'max_depth': [3, 5, 7],\n",
    "    'subsample': [0.8, 1.0],\n",
    "    'colsample_bytree': [0.8, 1.0]\n",
    "}\n",
    "\n",
    "# Создание модели\n",
    "xgb = xgb.XGBRegressor(random_state=42)\n",
    "\n",
    "# Поиск оптимальных параметров\n",
    "grid_search_xgb = GridSearchCV(estimator=xgb, param_grid=param_grid_xgb, cv=5, n_jobs=-1, verbose=2)\n",
    "grid_search_xgb.fit(X_train_scaled, y_train)\n",
    "\n",
    "# Лучшая модель\n",
    "best_xgb_model = grid_search_xgb.best_estimator_\n",
    "\n",
    "# Предсказания с лучшей моделью\n",
    "y_pred_best_xgb = best_xgb_model.predict(X_test_scaled)\n",
    "\n",
    "# Оценка лучшей модели\n",
    "best_xgb_mse = mean_squared_error(y_test, y_pred_best_xgb)\n",
    "best_xgb_r2 = r2_score(y_test, y_pred_best_xgb)\n",
    "\n",
    "print('Лучшая модель XGBoost:')\n",
    "print(f'Лучшие параметры: {grid_search_xgb.best_params_}')\n",
    "print(f'Среднеквадратичная ошибка (MSE): {best_xgb_mse:.2f}')\n",
    "print(f'Коэффициент детерминации (R²): {best_xgb_r2:.2f}')"
   ]
  },
  {
   "cell_type": "markdown",
   "id": "1cdbaa55-859b-4b80-b04f-62892a38053a",
   "metadata": {},
   "source": [
    "### 3. Пример с LightGBM"
   ]
  },
  {
   "cell_type": "markdown",
   "id": "5c6865d9-56b9-4536-994e-b92346e98ca0",
   "metadata": {},
   "source": [
    "LightGBM — мощная библиотека градиентного бустинга, которая часто работает быстрее, чем XGBoost, особенно на больших наборах данных."
   ]
  },
  {
   "cell_type": "code",
   "execution_count": 38,
   "id": "18017f07-1067-4f22-9e4e-0e1164758c6a",
   "metadata": {},
   "outputs": [
    {
     "name": "stdout",
     "output_type": "stream",
     "text": [
      "Requirement already satisfied: lightgbm in a:\\mikhailiuk\\soft\\anaconda\\lib\\site-packages (4.6.0)\n",
      "Requirement already satisfied: numpy>=1.17.0 in a:\\mikhailiuk\\soft\\anaconda\\lib\\site-packages (from lightgbm) (1.26.4)\n",
      "Requirement already satisfied: scipy in a:\\mikhailiuk\\soft\\anaconda\\lib\\site-packages (from lightgbm) (1.11.4)\n"
     ]
    }
   ],
   "source": [
    "!pip install lightgbm"
   ]
  },
  {
   "cell_type": "code",
   "execution_count": 39,
   "id": "e3e7a8e9-aceb-4387-b33b-af10af91d9d5",
   "metadata": {},
   "outputs": [],
   "source": [
    "import lightgbm as lgb"
   ]
  },
  {
   "cell_type": "code",
   "execution_count": 40,
   "id": "e1a3aa49-3fbb-460f-86a3-52ff72fa8893",
   "metadata": {},
   "outputs": [
    {
     "name": "stdout",
     "output_type": "stream",
     "text": [
      "[LightGBM] [Info] Auto-choosing row-wise multi-threading, the overhead of testing was 0.000092 seconds.\n",
      "You can set `force_row_wise=true` to remove the overhead.\n",
      "And if memory is not enough, you can set `force_col_wise=true`.\n",
      "[LightGBM] [Info] Total Bins 596\n",
      "[LightGBM] [Info] Number of data points in the train set: 1042, number of used features: 13\n",
      "[LightGBM] [Info] Start training from score 1128.344711\n",
      "[LightGBM] [Warning] No further splits with positive gain, best gain: -inf\n",
      "[LightGBM] [Warning] No further splits with positive gain, best gain: -inf\n",
      "[LightGBM] [Warning] No further splits with positive gain, best gain: -inf\n",
      "[LightGBM] [Warning] No further splits with positive gain, best gain: -inf\n",
      "[LightGBM] [Warning] No further splits with positive gain, best gain: -inf\n",
      "[LightGBM] [Warning] No further splits with positive gain, best gain: -inf\n",
      "[LightGBM] [Warning] No further splits with positive gain, best gain: -inf\n",
      "[LightGBM] [Warning] No further splits with positive gain, best gain: -inf\n",
      "[LightGBM] [Warning] No further splits with positive gain, best gain: -inf\n",
      "[LightGBM] [Warning] No further splits with positive gain, best gain: -inf\n",
      "[LightGBM] [Warning] No further splits with positive gain, best gain: -inf\n",
      "[LightGBM] [Warning] No further splits with positive gain, best gain: -inf\n",
      "[LightGBM] [Warning] No further splits with positive gain, best gain: -inf\n",
      "[LightGBM] [Warning] No further splits with positive gain, best gain: -inf\n",
      "[LightGBM] [Warning] No further splits with positive gain, best gain: -inf\n",
      "[LightGBM] [Warning] No further splits with positive gain, best gain: -inf\n",
      "[LightGBM] [Warning] No further splits with positive gain, best gain: -inf\n",
      "[LightGBM] [Warning] No further splits with positive gain, best gain: -inf\n",
      "[LightGBM] [Warning] No further splits with positive gain, best gain: -inf\n",
      "[LightGBM] [Warning] No further splits with positive gain, best gain: -inf\n",
      "[LightGBM] [Warning] No further splits with positive gain, best gain: -inf\n",
      "[LightGBM] [Warning] No further splits with positive gain, best gain: -inf\n",
      "[LightGBM] [Warning] No further splits with positive gain, best gain: -inf\n",
      "[LightGBM] [Warning] No further splits with positive gain, best gain: -inf\n",
      "[LightGBM] [Warning] No further splits with positive gain, best gain: -inf\n",
      "[LightGBM] [Warning] No further splits with positive gain, best gain: -inf\n",
      "[LightGBM] [Warning] No further splits with positive gain, best gain: -inf\n",
      "[LightGBM] [Warning] No further splits with positive gain, best gain: -inf\n",
      "[LightGBM] [Warning] No further splits with positive gain, best gain: -inf\n",
      "[LightGBM] [Warning] No further splits with positive gain, best gain: -inf\n",
      "[LightGBM] [Warning] No further splits with positive gain, best gain: -inf\n",
      "[LightGBM] [Warning] No further splits with positive gain, best gain: -inf\n",
      "[LightGBM] [Warning] No further splits with positive gain, best gain: -inf\n",
      "[LightGBM] [Warning] No further splits with positive gain, best gain: -inf\n",
      "[LightGBM] [Warning] No further splits with positive gain, best gain: -inf\n",
      "[LightGBM] [Warning] No further splits with positive gain, best gain: -inf\n",
      "[LightGBM] [Warning] No further splits with positive gain, best gain: -inf\n",
      "[LightGBM] [Warning] No further splits with positive gain, best gain: -inf\n",
      "[LightGBM] [Warning] No further splits with positive gain, best gain: -inf\n",
      "[LightGBM] [Warning] No further splits with positive gain, best gain: -inf\n",
      "[LightGBM] [Warning] No further splits with positive gain, best gain: -inf\n",
      "[LightGBM] [Warning] No further splits with positive gain, best gain: -inf\n",
      "[LightGBM] [Warning] No further splits with positive gain, best gain: -inf\n",
      "[LightGBM] [Warning] No further splits with positive gain, best gain: -inf\n",
      "[LightGBM] [Warning] No further splits with positive gain, best gain: -inf\n",
      "[LightGBM] [Warning] No further splits with positive gain, best gain: -inf\n",
      "[LightGBM] [Warning] No further splits with positive gain, best gain: -inf\n",
      "[LightGBM] [Warning] No further splits with positive gain, best gain: -inf\n",
      "[LightGBM] [Warning] No further splits with positive gain, best gain: -inf\n",
      "[LightGBM] [Warning] No further splits with positive gain, best gain: -inf\n",
      "[LightGBM] [Warning] No further splits with positive gain, best gain: -inf\n",
      "[LightGBM] [Warning] No further splits with positive gain, best gain: -inf\n",
      "[LightGBM] [Warning] No further splits with positive gain, best gain: -inf\n",
      "[LightGBM] [Warning] No further splits with positive gain, best gain: -inf\n",
      "[LightGBM] [Warning] No further splits with positive gain, best gain: -inf\n",
      "[LightGBM] [Warning] No further splits with positive gain, best gain: -inf\n",
      "[LightGBM] [Warning] No further splits with positive gain, best gain: -inf\n",
      "[LightGBM] [Warning] No further splits with positive gain, best gain: -inf\n",
      "[LightGBM] [Warning] No further splits with positive gain, best gain: -inf\n",
      "[LightGBM] [Warning] No further splits with positive gain, best gain: -inf\n",
      "[LightGBM] [Warning] No further splits with positive gain, best gain: -inf\n",
      "[LightGBM] [Warning] No further splits with positive gain, best gain: -inf\n",
      "[LightGBM] [Warning] No further splits with positive gain, best gain: -inf\n",
      "[LightGBM] [Warning] No further splits with positive gain, best gain: -inf\n",
      "[LightGBM] [Warning] No further splits with positive gain, best gain: -inf\n",
      "[LightGBM] [Warning] No further splits with positive gain, best gain: -inf\n",
      "[LightGBM] [Warning] No further splits with positive gain, best gain: -inf\n",
      "[LightGBM] [Warning] No further splits with positive gain, best gain: -inf\n",
      "[LightGBM] [Warning] No further splits with positive gain, best gain: -inf\n",
      "[LightGBM] [Warning] No further splits with positive gain, best gain: -inf\n",
      "[LightGBM] [Warning] No further splits with positive gain, best gain: -inf\n",
      "[LightGBM] [Warning] No further splits with positive gain, best gain: -inf\n",
      "[LightGBM] [Warning] No further splits with positive gain, best gain: -inf\n",
      "[LightGBM] [Warning] No further splits with positive gain, best gain: -inf\n",
      "[LightGBM] [Warning] No further splits with positive gain, best gain: -inf\n",
      "[LightGBM] [Warning] No further splits with positive gain, best gain: -inf\n",
      "[LightGBM] [Warning] No further splits with positive gain, best gain: -inf\n",
      "[LightGBM] [Warning] No further splits with positive gain, best gain: -inf\n",
      "[LightGBM] [Warning] No further splits with positive gain, best gain: -inf\n",
      "[LightGBM] [Warning] No further splits with positive gain, best gain: -inf\n",
      "[LightGBM] [Warning] No further splits with positive gain, best gain: -inf\n",
      "[LightGBM] [Warning] No further splits with positive gain, best gain: -inf\n",
      "[LightGBM] [Warning] No further splits with positive gain, best gain: -inf\n",
      "[LightGBM] [Warning] No further splits with positive gain, best gain: -inf\n",
      "[LightGBM] [Warning] No further splits with positive gain, best gain: -inf\n",
      "[LightGBM] [Warning] No further splits with positive gain, best gain: -inf\n",
      "[LightGBM] [Warning] No further splits with positive gain, best gain: -inf\n",
      "[LightGBM] [Warning] No further splits with positive gain, best gain: -inf\n",
      "[LightGBM] [Warning] No further splits with positive gain, best gain: -inf\n",
      "[LightGBM] [Warning] No further splits with positive gain, best gain: -inf\n",
      "[LightGBM] [Warning] No further splits with positive gain, best gain: -inf\n",
      "[LightGBM] [Warning] No further splits with positive gain, best gain: -inf\n",
      "[LightGBM] [Warning] No further splits with positive gain, best gain: -inf\n",
      "[LightGBM] [Warning] No further splits with positive gain, best gain: -inf\n",
      "[LightGBM] [Warning] No further splits with positive gain, best gain: -inf\n",
      "[LightGBM] [Warning] No further splits with positive gain, best gain: -inf\n",
      "[LightGBM] [Warning] No further splits with positive gain, best gain: -inf\n",
      "[LightGBM] [Warning] No further splits with positive gain, best gain: -inf\n",
      "[LightGBM] [Warning] No further splits with positive gain, best gain: -inf\n",
      "[LightGBM] [Warning] No further splits with positive gain, best gain: -inf\n",
      "LightGBM:\n",
      "Среднеквадратичная ошибка (MSE): 102221.73\n",
      "Коэффициент детерминации (R²): 0.80\n"
     ]
    }
   ],
   "source": [
    "# Обучение модели LightGBM\n",
    "lgb_model = lgb.LGBMRegressor(n_estimators=100, learning_rate=0.1, max_depth=3, random_state=42)\n",
    "lgb_model.fit(X_train_scaled, y_train)\n",
    "\n",
    "# Предсказания\n",
    "y_pred_lgb = lgb_model.predict(X_test_scaled)\n",
    "\n",
    "# Оценка модели\n",
    "lgb_mse = mean_squared_error(y_test, y_pred_lgb)\n",
    "lgb_r2 = r2_score(y_test, y_pred_lgb)\n",
    "\n",
    "print(\"LightGBM:\")\n",
    "print(f\"Среднеквадратичная ошибка (MSE): {lgb_mse:.2f}\")\n",
    "print(f\"Коэффициент детерминации (R²): {lgb_r2:.2f}\")"
   ]
  },
  {
   "cell_type": "markdown",
   "id": "144ba53e-94de-4637-a693-7ea56ab41e28",
   "metadata": {},
   "source": [
    "#### Подбор гиперпараметров для LightGBM"
   ]
  },
  {
   "cell_type": "code",
   "execution_count": 41,
   "id": "94158f1f-b117-4b91-a635-71cc17618879",
   "metadata": {},
   "outputs": [
    {
     "name": "stdout",
     "output_type": "stream",
     "text": [
      "Fitting 5 folds for each of 162 candidates, totalling 810 fits\n",
      "[LightGBM] [Info] Auto-choosing col-wise multi-threading, the overhead of testing was 0.000096 seconds.\n",
      "You can set `force_col_wise=true` to remove the overhead.\n",
      "[LightGBM] [Info] Total Bins 596\n",
      "[LightGBM] [Info] Number of data points in the train set: 1042, number of used features: 13\n",
      "[LightGBM] [Info] Start training from score 1128.344711\n",
      "[LightGBM] [Warning] No further splits with positive gain, best gain: -inf\n",
      "[LightGBM] [Warning] No further splits with positive gain, best gain: -inf\n",
      "[LightGBM] [Warning] No further splits with positive gain, best gain: -inf\n",
      "[LightGBM] [Warning] No further splits with positive gain, best gain: -inf\n",
      "[LightGBM] [Warning] No further splits with positive gain, best gain: -inf\n",
      "[LightGBM] [Warning] No further splits with positive gain, best gain: -inf\n",
      "[LightGBM] [Warning] No further splits with positive gain, best gain: -inf\n",
      "[LightGBM] [Warning] No further splits with positive gain, best gain: -inf\n",
      "[LightGBM] [Warning] No further splits with positive gain, best gain: -inf\n",
      "[LightGBM] [Warning] No further splits with positive gain, best gain: -inf\n",
      "[LightGBM] [Warning] No further splits with positive gain, best gain: -inf\n",
      "[LightGBM] [Warning] No further splits with positive gain, best gain: -inf\n",
      "[LightGBM] [Warning] No further splits with positive gain, best gain: -inf\n",
      "[LightGBM] [Warning] No further splits with positive gain, best gain: -inf\n",
      "[LightGBM] [Warning] No further splits with positive gain, best gain: -inf\n",
      "[LightGBM] [Warning] No further splits with positive gain, best gain: -inf\n",
      "[LightGBM] [Warning] No further splits with positive gain, best gain: -inf\n",
      "[LightGBM] [Warning] No further splits with positive gain, best gain: -inf\n",
      "[LightGBM] [Warning] No further splits with positive gain, best gain: -inf\n",
      "[LightGBM] [Warning] No further splits with positive gain, best gain: -inf\n",
      "[LightGBM] [Warning] No further splits with positive gain, best gain: -inf\n",
      "[LightGBM] [Warning] No further splits with positive gain, best gain: -inf\n",
      "[LightGBM] [Warning] No further splits with positive gain, best gain: -inf\n",
      "[LightGBM] [Warning] No further splits with positive gain, best gain: -inf\n",
      "[LightGBM] [Warning] No further splits with positive gain, best gain: -inf\n",
      "[LightGBM] [Warning] No further splits with positive gain, best gain: -inf\n",
      "[LightGBM] [Warning] No further splits with positive gain, best gain: -inf\n",
      "[LightGBM] [Warning] No further splits with positive gain, best gain: -inf\n",
      "[LightGBM] [Warning] No further splits with positive gain, best gain: -inf\n",
      "[LightGBM] [Warning] No further splits with positive gain, best gain: -inf\n",
      "[LightGBM] [Warning] No further splits with positive gain, best gain: -inf\n",
      "[LightGBM] [Warning] No further splits with positive gain, best gain: -inf\n",
      "[LightGBM] [Warning] No further splits with positive gain, best gain: -inf\n",
      "[LightGBM] [Warning] No further splits with positive gain, best gain: -inf\n",
      "[LightGBM] [Warning] No further splits with positive gain, best gain: -inf\n",
      "[LightGBM] [Warning] No further splits with positive gain, best gain: -inf\n",
      "[LightGBM] [Warning] No further splits with positive gain, best gain: -inf\n",
      "[LightGBM] [Warning] No further splits with positive gain, best gain: -inf\n",
      "[LightGBM] [Warning] No further splits with positive gain, best gain: -inf\n",
      "[LightGBM] [Warning] No further splits with positive gain, best gain: -inf\n",
      "[LightGBM] [Warning] No further splits with positive gain, best gain: -inf\n",
      "[LightGBM] [Warning] No further splits with positive gain, best gain: -inf\n",
      "[LightGBM] [Warning] No further splits with positive gain, best gain: -inf\n",
      "[LightGBM] [Warning] No further splits with positive gain, best gain: -inf\n",
      "[LightGBM] [Warning] No further splits with positive gain, best gain: -inf\n",
      "[LightGBM] [Warning] No further splits with positive gain, best gain: -inf\n",
      "[LightGBM] [Warning] No further splits with positive gain, best gain: -inf\n",
      "[LightGBM] [Warning] No further splits with positive gain, best gain: -inf\n",
      "[LightGBM] [Warning] No further splits with positive gain, best gain: -inf\n",
      "[LightGBM] [Warning] No further splits with positive gain, best gain: -inf\n",
      "[LightGBM] [Warning] No further splits with positive gain, best gain: -inf\n",
      "[LightGBM] [Warning] No further splits with positive gain, best gain: -inf\n",
      "[LightGBM] [Warning] No further splits with positive gain, best gain: -inf\n",
      "[LightGBM] [Warning] No further splits with positive gain, best gain: -inf\n",
      "[LightGBM] [Warning] No further splits with positive gain, best gain: -inf\n",
      "[LightGBM] [Warning] No further splits with positive gain, best gain: -inf\n",
      "[LightGBM] [Warning] No further splits with positive gain, best gain: -inf\n",
      "[LightGBM] [Warning] No further splits with positive gain, best gain: -inf\n",
      "[LightGBM] [Warning] No further splits with positive gain, best gain: -inf\n",
      "[LightGBM] [Warning] No further splits with positive gain, best gain: -inf\n",
      "[LightGBM] [Warning] No further splits with positive gain, best gain: -inf\n",
      "[LightGBM] [Warning] No further splits with positive gain, best gain: -inf\n",
      "[LightGBM] [Warning] No further splits with positive gain, best gain: -inf\n",
      "[LightGBM] [Warning] No further splits with positive gain, best gain: -inf\n",
      "[LightGBM] [Warning] No further splits with positive gain, best gain: -inf\n",
      "[LightGBM] [Warning] No further splits with positive gain, best gain: -inf\n",
      "[LightGBM] [Warning] No further splits with positive gain, best gain: -inf\n",
      "[LightGBM] [Warning] No further splits with positive gain, best gain: -inf\n",
      "[LightGBM] [Warning] No further splits with positive gain, best gain: -inf\n",
      "[LightGBM] [Warning] No further splits with positive gain, best gain: -inf\n",
      "[LightGBM] [Warning] No further splits with positive gain, best gain: -inf\n",
      "[LightGBM] [Warning] No further splits with positive gain, best gain: -inf\n",
      "[LightGBM] [Warning] No further splits with positive gain, best gain: -inf\n",
      "[LightGBM] [Warning] No further splits with positive gain, best gain: -inf\n",
      "[LightGBM] [Warning] No further splits with positive gain, best gain: -inf\n",
      "[LightGBM] [Warning] No further splits with positive gain, best gain: -inf\n",
      "[LightGBM] [Warning] No further splits with positive gain, best gain: -inf\n",
      "[LightGBM] [Warning] No further splits with positive gain, best gain: -inf\n",
      "[LightGBM] [Warning] No further splits with positive gain, best gain: -inf\n",
      "[LightGBM] [Warning] No further splits with positive gain, best gain: -inf\n",
      "[LightGBM] [Warning] No further splits with positive gain, best gain: -inf\n",
      "[LightGBM] [Warning] No further splits with positive gain, best gain: -inf\n",
      "[LightGBM] [Warning] No further splits with positive gain, best gain: -inf\n",
      "[LightGBM] [Warning] No further splits with positive gain, best gain: -inf\n",
      "[LightGBM] [Warning] No further splits with positive gain, best gain: -inf\n",
      "[LightGBM] [Warning] No further splits with positive gain, best gain: -inf\n",
      "[LightGBM] [Warning] No further splits with positive gain, best gain: -inf\n",
      "[LightGBM] [Warning] No further splits with positive gain, best gain: -inf\n",
      "[LightGBM] [Warning] No further splits with positive gain, best gain: -inf\n",
      "[LightGBM] [Warning] No further splits with positive gain, best gain: -inf\n",
      "[LightGBM] [Warning] No further splits with positive gain, best gain: -inf\n",
      "[LightGBM] [Warning] No further splits with positive gain, best gain: -inf\n",
      "[LightGBM] [Warning] No further splits with positive gain, best gain: -inf\n",
      "[LightGBM] [Warning] No further splits with positive gain, best gain: -inf\n",
      "[LightGBM] [Warning] No further splits with positive gain, best gain: -inf\n",
      "[LightGBM] [Warning] No further splits with positive gain, best gain: -inf\n",
      "[LightGBM] [Warning] No further splits with positive gain, best gain: -inf\n",
      "[LightGBM] [Warning] No further splits with positive gain, best gain: -inf\n",
      "[LightGBM] [Warning] No further splits with positive gain, best gain: -inf\n",
      "[LightGBM] [Warning] No further splits with positive gain, best gain: -inf\n",
      "[LightGBM] [Warning] No further splits with positive gain, best gain: -inf\n",
      "[LightGBM] [Warning] No further splits with positive gain, best gain: -inf\n",
      "[LightGBM] [Warning] No further splits with positive gain, best gain: -inf\n",
      "[LightGBM] [Warning] No further splits with positive gain, best gain: -inf\n",
      "[LightGBM] [Warning] No further splits with positive gain, best gain: -inf\n",
      "[LightGBM] [Warning] No further splits with positive gain, best gain: -inf\n",
      "[LightGBM] [Warning] No further splits with positive gain, best gain: -inf\n",
      "[LightGBM] [Warning] No further splits with positive gain, best gain: -inf\n",
      "[LightGBM] [Warning] No further splits with positive gain, best gain: -inf\n",
      "[LightGBM] [Warning] No further splits with positive gain, best gain: -inf\n",
      "[LightGBM] [Warning] No further splits with positive gain, best gain: -inf\n",
      "[LightGBM] [Warning] No further splits with positive gain, best gain: -inf\n",
      "[LightGBM] [Warning] No further splits with positive gain, best gain: -inf\n",
      "[LightGBM] [Warning] No further splits with positive gain, best gain: -inf\n",
      "[LightGBM] [Warning] No further splits with positive gain, best gain: -inf\n",
      "[LightGBM] [Warning] No further splits with positive gain, best gain: -inf\n",
      "[LightGBM] [Warning] No further splits with positive gain, best gain: -inf\n",
      "[LightGBM] [Warning] No further splits with positive gain, best gain: -inf\n",
      "[LightGBM] [Warning] No further splits with positive gain, best gain: -inf\n",
      "[LightGBM] [Warning] No further splits with positive gain, best gain: -inf\n",
      "[LightGBM] [Warning] No further splits with positive gain, best gain: -inf\n",
      "[LightGBM] [Warning] No further splits with positive gain, best gain: -inf\n",
      "[LightGBM] [Warning] No further splits with positive gain, best gain: -inf\n",
      "[LightGBM] [Warning] No further splits with positive gain, best gain: -inf\n",
      "[LightGBM] [Warning] No further splits with positive gain, best gain: -inf\n",
      "[LightGBM] [Warning] No further splits with positive gain, best gain: -inf\n",
      "[LightGBM] [Warning] No further splits with positive gain, best gain: -inf\n",
      "[LightGBM] [Warning] No further splits with positive gain, best gain: -inf\n",
      "[LightGBM] [Warning] No further splits with positive gain, best gain: -inf\n",
      "[LightGBM] [Warning] No further splits with positive gain, best gain: -inf\n",
      "[LightGBM] [Warning] No further splits with positive gain, best gain: -inf\n",
      "[LightGBM] [Warning] No further splits with positive gain, best gain: -inf\n",
      "[LightGBM] [Warning] No further splits with positive gain, best gain: -inf\n",
      "[LightGBM] [Warning] No further splits with positive gain, best gain: -inf\n",
      "[LightGBM] [Warning] No further splits with positive gain, best gain: -inf\n",
      "[LightGBM] [Warning] No further splits with positive gain, best gain: -inf\n",
      "[LightGBM] [Warning] No further splits with positive gain, best gain: -inf\n",
      "[LightGBM] [Warning] No further splits with positive gain, best gain: -inf\n",
      "[LightGBM] [Warning] No further splits with positive gain, best gain: -inf\n",
      "[LightGBM] [Warning] No further splits with positive gain, best gain: -inf\n",
      "[LightGBM] [Warning] No further splits with positive gain, best gain: -inf\n",
      "[LightGBM] [Warning] No further splits with positive gain, best gain: -inf\n",
      "[LightGBM] [Warning] No further splits with positive gain, best gain: -inf\n",
      "[LightGBM] [Warning] No further splits with positive gain, best gain: -inf\n",
      "[LightGBM] [Warning] No further splits with positive gain, best gain: -inf\n",
      "[LightGBM] [Warning] No further splits with positive gain, best gain: -inf\n",
      "[LightGBM] [Warning] No further splits with positive gain, best gain: -inf\n",
      "[LightGBM] [Warning] No further splits with positive gain, best gain: -inf\n",
      "[LightGBM] [Warning] No further splits with positive gain, best gain: -inf\n",
      "[LightGBM] [Warning] No further splits with positive gain, best gain: -inf\n",
      "[LightGBM] [Warning] No further splits with positive gain, best gain: -inf\n",
      "[LightGBM] [Warning] No further splits with positive gain, best gain: -inf\n",
      "[LightGBM] [Warning] No further splits with positive gain, best gain: -inf\n",
      "[LightGBM] [Warning] No further splits with positive gain, best gain: -inf\n",
      "[LightGBM] [Warning] No further splits with positive gain, best gain: -inf\n",
      "[LightGBM] [Warning] No further splits with positive gain, best gain: -inf\n",
      "[LightGBM] [Warning] No further splits with positive gain, best gain: -inf\n",
      "[LightGBM] [Warning] No further splits with positive gain, best gain: -inf\n",
      "[LightGBM] [Warning] No further splits with positive gain, best gain: -inf\n",
      "[LightGBM] [Warning] No further splits with positive gain, best gain: -inf\n",
      "[LightGBM] [Warning] No further splits with positive gain, best gain: -inf\n",
      "[LightGBM] [Warning] No further splits with positive gain, best gain: -inf\n",
      "[LightGBM] [Warning] No further splits with positive gain, best gain: -inf\n",
      "[LightGBM] [Warning] No further splits with positive gain, best gain: -inf\n",
      "[LightGBM] [Warning] No further splits with positive gain, best gain: -inf\n",
      "[LightGBM] [Warning] No further splits with positive gain, best gain: -inf\n",
      "[LightGBM] [Warning] No further splits with positive gain, best gain: -inf\n",
      "[LightGBM] [Warning] No further splits with positive gain, best gain: -inf\n",
      "[LightGBM] [Warning] No further splits with positive gain, best gain: -inf\n",
      "[LightGBM] [Warning] No further splits with positive gain, best gain: -inf\n",
      "[LightGBM] [Warning] No further splits with positive gain, best gain: -inf\n",
      "[LightGBM] [Warning] No further splits with positive gain, best gain: -inf\n",
      "[LightGBM] [Warning] No further splits with positive gain, best gain: -inf\n",
      "[LightGBM] [Warning] No further splits with positive gain, best gain: -inf\n",
      "[LightGBM] [Warning] No further splits with positive gain, best gain: -inf\n",
      "[LightGBM] [Warning] No further splits with positive gain, best gain: -inf\n",
      "[LightGBM] [Warning] No further splits with positive gain, best gain: -inf\n",
      "[LightGBM] [Warning] No further splits with positive gain, best gain: -inf\n",
      "[LightGBM] [Warning] No further splits with positive gain, best gain: -inf\n",
      "[LightGBM] [Warning] No further splits with positive gain, best gain: -inf\n",
      "[LightGBM] [Warning] No further splits with positive gain, best gain: -inf\n",
      "[LightGBM] [Warning] No further splits with positive gain, best gain: -inf\n",
      "[LightGBM] [Warning] No further splits with positive gain, best gain: -inf\n",
      "[LightGBM] [Warning] No further splits with positive gain, best gain: -inf\n",
      "[LightGBM] [Warning] No further splits with positive gain, best gain: -inf\n",
      "[LightGBM] [Warning] No further splits with positive gain, best gain: -inf\n",
      "[LightGBM] [Warning] No further splits with positive gain, best gain: -inf\n",
      "[LightGBM] [Warning] No further splits with positive gain, best gain: -inf\n",
      "[LightGBM] [Warning] No further splits with positive gain, best gain: -inf\n",
      "[LightGBM] [Warning] No further splits with positive gain, best gain: -inf\n",
      "[LightGBM] [Warning] No further splits with positive gain, best gain: -inf\n",
      "[LightGBM] [Warning] No further splits with positive gain, best gain: -inf\n",
      "[LightGBM] [Warning] No further splits with positive gain, best gain: -inf\n",
      "[LightGBM] [Warning] No further splits with positive gain, best gain: -inf\n",
      "[LightGBM] [Warning] No further splits with positive gain, best gain: -inf\n",
      "[LightGBM] [Warning] No further splits with positive gain, best gain: -inf\n",
      "[LightGBM] [Warning] No further splits with positive gain, best gain: -inf\n",
      "[LightGBM] [Warning] No further splits with positive gain, best gain: -inf\n",
      "[LightGBM] [Warning] No further splits with positive gain, best gain: -inf\n",
      "[LightGBM] [Warning] No further splits with positive gain, best gain: -inf\n",
      "[LightGBM] [Warning] No further splits with positive gain, best gain: -inf\n",
      "[LightGBM] [Warning] No further splits with positive gain, best gain: -inf\n",
      "[LightGBM] [Warning] No further splits with positive gain, best gain: -inf\n",
      "[LightGBM] [Warning] No further splits with positive gain, best gain: -inf\n",
      "[LightGBM] [Warning] No further splits with positive gain, best gain: -inf\n",
      "[LightGBM] [Warning] No further splits with positive gain, best gain: -inf\n",
      "[LightGBM] [Warning] No further splits with positive gain, best gain: -inf\n",
      "[LightGBM] [Warning] No further splits with positive gain, best gain: -inf\n",
      "[LightGBM] [Warning] No further splits with positive gain, best gain: -inf\n",
      "[LightGBM] [Warning] No further splits with positive gain, best gain: -inf\n",
      "[LightGBM] [Warning] No further splits with positive gain, best gain: -inf\n",
      "[LightGBM] [Warning] No further splits with positive gain, best gain: -inf\n",
      "[LightGBM] [Warning] No further splits with positive gain, best gain: -inf\n",
      "[LightGBM] [Warning] No further splits with positive gain, best gain: -inf\n",
      "[LightGBM] [Warning] No further splits with positive gain, best gain: -inf\n",
      "[LightGBM] [Warning] No further splits with positive gain, best gain: -inf\n",
      "[LightGBM] [Warning] No further splits with positive gain, best gain: -inf\n",
      "[LightGBM] [Warning] No further splits with positive gain, best gain: -inf\n",
      "[LightGBM] [Warning] No further splits with positive gain, best gain: -inf\n",
      "[LightGBM] [Warning] No further splits with positive gain, best gain: -inf\n",
      "[LightGBM] [Warning] No further splits with positive gain, best gain: -inf\n",
      "[LightGBM] [Warning] No further splits with positive gain, best gain: -inf\n",
      "[LightGBM] [Warning] No further splits with positive gain, best gain: -inf\n",
      "[LightGBM] [Warning] No further splits with positive gain, best gain: -inf\n",
      "[LightGBM] [Warning] No further splits with positive gain, best gain: -inf\n",
      "[LightGBM] [Warning] No further splits with positive gain, best gain: -inf\n",
      "[LightGBM] [Warning] No further splits with positive gain, best gain: -inf\n",
      "[LightGBM] [Warning] No further splits with positive gain, best gain: -inf\n",
      "[LightGBM] [Warning] No further splits with positive gain, best gain: -inf\n",
      "[LightGBM] [Warning] No further splits with positive gain, best gain: -inf\n",
      "[LightGBM] [Warning] No further splits with positive gain, best gain: -inf\n",
      "[LightGBM] [Warning] No further splits with positive gain, best gain: -inf\n",
      "[LightGBM] [Warning] No further splits with positive gain, best gain: -inf\n",
      "[LightGBM] [Warning] No further splits with positive gain, best gain: -inf\n",
      "[LightGBM] [Warning] No further splits with positive gain, best gain: -inf\n",
      "[LightGBM] [Warning] No further splits with positive gain, best gain: -inf\n",
      "[LightGBM] [Warning] No further splits with positive gain, best gain: -inf\n",
      "[LightGBM] [Warning] No further splits with positive gain, best gain: -inf\n",
      "[LightGBM] [Warning] No further splits with positive gain, best gain: -inf\n",
      "[LightGBM] [Warning] No further splits with positive gain, best gain: -inf\n",
      "[LightGBM] [Warning] No further splits with positive gain, best gain: -inf\n",
      "[LightGBM] [Warning] No further splits with positive gain, best gain: -inf\n",
      "[LightGBM] [Warning] No further splits with positive gain, best gain: -inf\n",
      "[LightGBM] [Warning] No further splits with positive gain, best gain: -inf\n",
      "[LightGBM] [Warning] No further splits with positive gain, best gain: -inf\n",
      "[LightGBM] [Warning] No further splits with positive gain, best gain: -inf\n",
      "[LightGBM] [Warning] No further splits with positive gain, best gain: -inf\n",
      "[LightGBM] [Warning] No further splits with positive gain, best gain: -inf\n",
      "[LightGBM] [Warning] No further splits with positive gain, best gain: -inf\n",
      "[LightGBM] [Warning] No further splits with positive gain, best gain: -inf\n",
      "[LightGBM] [Warning] No further splits with positive gain, best gain: -inf\n",
      "[LightGBM] [Warning] No further splits with positive gain, best gain: -inf\n",
      "[LightGBM] [Warning] No further splits with positive gain, best gain: -inf\n",
      "[LightGBM] [Warning] No further splits with positive gain, best gain: -inf\n",
      "[LightGBM] [Warning] No further splits with positive gain, best gain: -inf\n",
      "[LightGBM] [Warning] No further splits with positive gain, best gain: -inf\n",
      "[LightGBM] [Warning] No further splits with positive gain, best gain: -inf\n",
      "[LightGBM] [Warning] No further splits with positive gain, best gain: -inf\n",
      "[LightGBM] [Warning] No further splits with positive gain, best gain: -inf\n",
      "[LightGBM] [Warning] No further splits with positive gain, best gain: -inf\n",
      "[LightGBM] [Warning] No further splits with positive gain, best gain: -inf\n",
      "[LightGBM] [Warning] No further splits with positive gain, best gain: -inf\n",
      "[LightGBM] [Warning] No further splits with positive gain, best gain: -inf\n",
      "[LightGBM] [Warning] No further splits with positive gain, best gain: -inf\n",
      "[LightGBM] [Warning] No further splits with positive gain, best gain: -inf\n",
      "[LightGBM] [Warning] No further splits with positive gain, best gain: -inf\n",
      "[LightGBM] [Warning] No further splits with positive gain, best gain: -inf\n",
      "[LightGBM] [Warning] No further splits with positive gain, best gain: -inf\n",
      "[LightGBM] [Warning] No further splits with positive gain, best gain: -inf\n",
      "[LightGBM] [Warning] No further splits with positive gain, best gain: -inf\n",
      "[LightGBM] [Warning] No further splits with positive gain, best gain: -inf\n",
      "[LightGBM] [Warning] No further splits with positive gain, best gain: -inf\n",
      "[LightGBM] [Warning] No further splits with positive gain, best gain: -inf\n",
      "[LightGBM] [Warning] No further splits with positive gain, best gain: -inf\n",
      "[LightGBM] [Warning] No further splits with positive gain, best gain: -inf\n",
      "[LightGBM] [Warning] No further splits with positive gain, best gain: -inf\n",
      "[LightGBM] [Warning] No further splits with positive gain, best gain: -inf\n",
      "[LightGBM] [Warning] No further splits with positive gain, best gain: -inf\n",
      "[LightGBM] [Warning] No further splits with positive gain, best gain: -inf\n",
      "[LightGBM] [Warning] No further splits with positive gain, best gain: -inf\n",
      "[LightGBM] [Warning] No further splits with positive gain, best gain: -inf\n",
      "[LightGBM] [Warning] No further splits with positive gain, best gain: -inf\n",
      "[LightGBM] [Warning] No further splits with positive gain, best gain: -inf\n",
      "[LightGBM] [Warning] No further splits with positive gain, best gain: -inf\n",
      "[LightGBM] [Warning] No further splits with positive gain, best gain: -inf\n",
      "[LightGBM] [Warning] No further splits with positive gain, best gain: -inf\n",
      "[LightGBM] [Warning] No further splits with positive gain, best gain: -inf\n",
      "Лучшая модель LightGBM:\n",
      "Лучшие параметры: {'learning_rate': 0.1, 'max_depth': 7, 'n_estimators': 300, 'num_leaves': 31, 'subsample': 0.8}\n",
      "Среднеквадратическая ошибка (MSE): 82825.38\n",
      "Коэффициент детерминации (R²): 0.84\n"
     ]
    }
   ],
   "source": [
    "# Определение параметров для поиска\n",
    "param_grid_lgb = {\n",
    "    'n_estimators': [100, 200, 300],\n",
    "    'learning_rate': [0.01, 0.1, 0.2],\n",
    "    'max_depth': [3, 5, 7],\n",
    "    'num_leaves': [31, 50, 70],\n",
    "    'subsample': [0.8, 1.0]\n",
    "}\n",
    "\n",
    "# Создание модели\n",
    "lgb = lgb.LGBMRegressor(random_state=42)\n",
    "\n",
    "# Поиск оптимальных параметров\n",
    "grid_search_lgb = GridSearchCV(estimator=lgb, param_grid=param_grid_lgb, cv=5, n_jobs=-1, verbose=2)\n",
    "grid_search_lgb.fit(X_train_scaled, y_train)\n",
    "\n",
    "# Лучшая модель\n",
    "best_lgb_model = grid_search_lgb.best_estimator_\n",
    "\n",
    "# Предсказание с лучшей моделью\n",
    "y_pred_best_lgb = best_lgb_model.predict(X_test_scaled)\n",
    "\n",
    "# Оценка лучшей модели\n",
    "best_lgb_mse = mean_squared_error(y_test, y_pred_best_lgb)\n",
    "best_lgb_r2 = r2_score(y_test, y_pred_best_lgb)\n",
    "\n",
    "print('Лучшая модель LightGBM:')\n",
    "print(f'Лучшие параметры: {grid_search_lgb.best_params_}')\n",
    "print(f'Среднеквадратическая ошибка (MSE): {best_lgb_mse:.2f}')\n",
    "print(f'Коэффициент детерминации (R²): {best_lgb_r2:.2f}')"
   ]
  },
  {
   "cell_type": "markdown",
   "id": "94d341d0-c675-4dcf-8986-5cb477c58b08",
   "metadata": {},
   "source": [
    "### 4. Сравнение всех моделей"
   ]
  },
  {
   "cell_type": "code",
   "execution_count": 42,
   "id": "ee154db0-1092-4660-8317-859c5fe6d7fc",
   "metadata": {},
   "outputs": [
    {
     "name": "stdout",
     "output_type": "stream",
     "text": [
      "Сравнение всех моделей\n",
      "Линейная регрессия: MSE = 158709.78, R² = 0.69\n",
      "Случайный лес: MSE = 86341.67, R² = 0.83\n",
      "Градиентный бустинг: MSE = 83271.08, R² = 0.84\n",
      "XGBoost: MSE = 87460.01, R² = 0.83\n",
      "LightGBM: MSE = 102221.73, R² = 0.80\n",
      "Лучшая XGBoost: MSE = 71780.48, R² = 0.86\n",
      "Лучшая LightGBM: MSE = 82825.38, R² = 0.84\n"
     ]
    }
   ],
   "source": [
    "print('Сравнение всех моделей')\n",
    "print(f\"Линейная регрессия: MSE = {lr_mse:.2f}, R² = {lr_r2:.2f}\")\n",
    "print(f\"Случайный лес: MSE = {rf_mse:.2f}, R² = {rf_r2:.2f}\")\n",
    "print(f\"Градиентный бустинг: MSE = {gb_mse:.2f}, R² = {gb_r2:.2f}\")\n",
    "print(f\"XGBoost: MSE = {xgb_mse:.2f}, R² = {xgb_r2:.2f}\")\n",
    "print(f\"LightGBM: MSE = {lgb_mse:.2f}, R² = {lgb_r2:.2f}\")\n",
    "print(f\"Лучшая XGBoost: MSE = {best_xgb_mse:.2f}, R² = {best_xgb_r2:.2f}\")\n",
    "print(f\"Лучшая LightGBM: MSE = {best_lgb_mse:.2f}, R² = {best_lgb_r2:.2f}\")"
   ]
  },
  {
   "cell_type": "code",
   "execution_count": 43,
   "id": "7c2a9dde-8b51-45bd-ae43-2e4b14d7215b",
   "metadata": {},
   "outputs": [
    {
     "name": "stdout",
     "output_type": "stream",
     "text": [
      "\n",
      "Лучшая модель: Best XGBoost c R² = 0.86\n"
     ]
    }
   ],
   "source": [
    "# Определение лучшей модели\n",
    "models_comparison = {\n",
    "    'Linear Regression': lr_r2,\n",
    "    'Random Forest': rf_r2,\n",
    "    'Gradient Boosting': gb_r2,\n",
    "    'XGBoost': xgb_r2,\n",
    "    'LightGBM': lgb_r2,\n",
    "    'Best XGBoost': best_xgb_r2,\n",
    "    'Best LightGBM': best_lgb_r2\n",
    "}\n",
    "\n",
    "best_model_name = max(models_comparison, key=models_comparison.get)\n",
    "print(f'\\nЛучшая модель: {best_model_name} c R² = {models_comparison[best_model_name]:.2f}')"
   ]
  },
  {
   "cell_type": "markdown",
   "id": "64017f82-34c7-4f05-9122-d089f109762f",
   "metadata": {},
   "source": [
    "## 8.3 Использование нейронных сетей"
   ]
  },
  {
   "cell_type": "markdown",
   "id": "902c9798-0901-42a2-9263-33b8b0a278d0",
   "metadata": {},
   "source": [
    "### 1. Создание и обучение нейронной сети"
   ]
  },
  {
   "cell_type": "code",
   "execution_count": 44,
   "id": "7dd995ab-b909-4f55-9a61-be6e018e5308",
   "metadata": {},
   "outputs": [
    {
     "name": "stdout",
     "output_type": "stream",
     "text": [
      "Requirement already satisfied: tensorflow==2.18 in a:\\mikhailiuk\\soft\\anaconda\\lib\\site-packages (2.18.0)Note: you may need to restart the kernel to use updated packages.\n",
      "\n",
      "Requirement already satisfied: tensorflow-intel==2.18.0 in a:\\mikhailiuk\\soft\\anaconda\\lib\\site-packages (from tensorflow==2.18) (2.18.0)\n",
      "Requirement already satisfied: absl-py>=1.0.0 in a:\\mikhailiuk\\soft\\anaconda\\lib\\site-packages (from tensorflow-intel==2.18.0->tensorflow==2.18) (2.1.0)\n",
      "Requirement already satisfied: astunparse>=1.6.0 in a:\\mikhailiuk\\soft\\anaconda\\lib\\site-packages (from tensorflow-intel==2.18.0->tensorflow==2.18) (1.6.3)\n",
      "Requirement already satisfied: flatbuffers>=24.3.25 in a:\\mikhailiuk\\soft\\anaconda\\lib\\site-packages (from tensorflow-intel==2.18.0->tensorflow==2.18) (25.2.10)\n",
      "Requirement already satisfied: gast!=0.5.0,!=0.5.1,!=0.5.2,>=0.2.1 in a:\\mikhailiuk\\soft\\anaconda\\lib\\site-packages (from tensorflow-intel==2.18.0->tensorflow==2.18) (0.6.0)\n",
      "Requirement already satisfied: google-pasta>=0.1.1 in a:\\mikhailiuk\\soft\\anaconda\\lib\\site-packages (from tensorflow-intel==2.18.0->tensorflow==2.18) (0.2.0)\n",
      "Requirement already satisfied: libclang>=13.0.0 in a:\\mikhailiuk\\soft\\anaconda\\lib\\site-packages (from tensorflow-intel==2.18.0->tensorflow==2.18) (18.1.1)\n",
      "Requirement already satisfied: opt-einsum>=2.3.2 in a:\\mikhailiuk\\soft\\anaconda\\lib\\site-packages (from tensorflow-intel==2.18.0->tensorflow==2.18) (3.4.0)\n",
      "Requirement already satisfied: packaging in a:\\mikhailiuk\\soft\\anaconda\\lib\\site-packages (from tensorflow-intel==2.18.0->tensorflow==2.18) (23.1)\n",
      "Requirement already satisfied: protobuf!=4.21.0,!=4.21.1,!=4.21.2,!=4.21.3,!=4.21.4,!=4.21.5,<6.0.0dev,>=3.20.3 in a:\\mikhailiuk\\soft\\anaconda\\lib\\site-packages (from tensorflow-intel==2.18.0->tensorflow==2.18) (3.20.3)\n",
      "Requirement already satisfied: requests<3,>=2.21.0 in a:\\mikhailiuk\\soft\\anaconda\\lib\\site-packages (from tensorflow-intel==2.18.0->tensorflow==2.18) (2.31.0)\n",
      "Requirement already satisfied: setuptools in a:\\mikhailiuk\\soft\\anaconda\\lib\\site-packages (from tensorflow-intel==2.18.0->tensorflow==2.18) (68.2.2)\n",
      "Requirement already satisfied: six>=1.12.0 in a:\\mikhailiuk\\soft\\anaconda\\lib\\site-packages (from tensorflow-intel==2.18.0->tensorflow==2.18) (1.16.0)\n",
      "Requirement already satisfied: termcolor>=1.1.0 in a:\\mikhailiuk\\soft\\anaconda\\lib\\site-packages (from tensorflow-intel==2.18.0->tensorflow==2.18) (2.5.0)\n",
      "Requirement already satisfied: typing-extensions>=3.6.6 in a:\\mikhailiuk\\soft\\anaconda\\lib\\site-packages (from tensorflow-intel==2.18.0->tensorflow==2.18) (4.9.0)\n",
      "Requirement already satisfied: wrapt>=1.11.0 in a:\\mikhailiuk\\soft\\anaconda\\lib\\site-packages (from tensorflow-intel==2.18.0->tensorflow==2.18) (1.14.1)\n",
      "Requirement already satisfied: grpcio<2.0,>=1.24.3 in a:\\mikhailiuk\\soft\\anaconda\\lib\\site-packages (from tensorflow-intel==2.18.0->tensorflow==2.18) (1.71.0)\n",
      "Requirement already satisfied: tensorboard<2.19,>=2.18 in a:\\mikhailiuk\\soft\\anaconda\\lib\\site-packages (from tensorflow-intel==2.18.0->tensorflow==2.18) (2.18.0)\n",
      "Requirement already satisfied: keras>=3.5.0 in a:\\mikhailiuk\\soft\\anaconda\\lib\\site-packages (from tensorflow-intel==2.18.0->tensorflow==2.18) (3.9.0)\n",
      "Requirement already satisfied: numpy<2.1.0,>=1.26.0 in a:\\mikhailiuk\\soft\\anaconda\\lib\\site-packages (from tensorflow-intel==2.18.0->tensorflow==2.18) (1.26.4)\n",
      "Requirement already satisfied: h5py>=3.11.0 in a:\\mikhailiuk\\soft\\anaconda\\lib\\site-packages (from tensorflow-intel==2.18.0->tensorflow==2.18) (3.13.0)\n",
      "Requirement already satisfied: ml-dtypes<0.5.0,>=0.4.0 in a:\\mikhailiuk\\soft\\anaconda\\lib\\site-packages (from tensorflow-intel==2.18.0->tensorflow==2.18) (0.4.1)\n",
      "Requirement already satisfied: tensorflow-io-gcs-filesystem>=0.23.1 in a:\\mikhailiuk\\soft\\anaconda\\lib\\site-packages (from tensorflow-intel==2.18.0->tensorflow==2.18) (0.31.0)\n",
      "Requirement already satisfied: wheel<1.0,>=0.23.0 in a:\\mikhailiuk\\soft\\anaconda\\lib\\site-packages (from astunparse>=1.6.0->tensorflow-intel==2.18.0->tensorflow==2.18) (0.41.2)\n",
      "Requirement already satisfied: rich in a:\\mikhailiuk\\soft\\anaconda\\lib\\site-packages (from keras>=3.5.0->tensorflow-intel==2.18.0->tensorflow==2.18) (13.3.5)\n",
      "Requirement already satisfied: namex in a:\\mikhailiuk\\soft\\anaconda\\lib\\site-packages (from keras>=3.5.0->tensorflow-intel==2.18.0->tensorflow==2.18) (0.0.8)\n",
      "Requirement already satisfied: optree in a:\\mikhailiuk\\soft\\anaconda\\lib\\site-packages (from keras>=3.5.0->tensorflow-intel==2.18.0->tensorflow==2.18) (0.14.1)\n",
      "Requirement already satisfied: charset-normalizer<4,>=2 in a:\\mikhailiuk\\soft\\anaconda\\lib\\site-packages (from requests<3,>=2.21.0->tensorflow-intel==2.18.0->tensorflow==2.18) (2.0.4)\n",
      "Requirement already satisfied: idna<4,>=2.5 in a:\\mikhailiuk\\soft\\anaconda\\lib\\site-packages (from requests<3,>=2.21.0->tensorflow-intel==2.18.0->tensorflow==2.18) (3.4)\n",
      "Requirement already satisfied: urllib3<3,>=1.21.1 in a:\\mikhailiuk\\soft\\anaconda\\lib\\site-packages (from requests<3,>=2.21.0->tensorflow-intel==2.18.0->tensorflow==2.18) (2.0.7)\n",
      "Requirement already satisfied: certifi>=2017.4.17 in a:\\mikhailiuk\\soft\\anaconda\\lib\\site-packages (from requests<3,>=2.21.0->tensorflow-intel==2.18.0->tensorflow==2.18) (2024.2.2)\n",
      "Requirement already satisfied: markdown>=2.6.8 in a:\\mikhailiuk\\soft\\anaconda\\lib\\site-packages (from tensorboard<2.19,>=2.18->tensorflow-intel==2.18.0->tensorflow==2.18) (3.4.1)\n",
      "Requirement already satisfied: tensorboard-data-server<0.8.0,>=0.7.0 in a:\\mikhailiuk\\soft\\anaconda\\lib\\site-packages (from tensorboard<2.19,>=2.18->tensorflow-intel==2.18.0->tensorflow==2.18) (0.7.2)\n",
      "Requirement already satisfied: werkzeug>=1.0.1 in a:\\mikhailiuk\\soft\\anaconda\\lib\\site-packages (from tensorboard<2.19,>=2.18->tensorflow-intel==2.18.0->tensorflow==2.18) (2.2.3)\n",
      "Requirement already satisfied: MarkupSafe>=2.1.1 in a:\\mikhailiuk\\soft\\anaconda\\lib\\site-packages (from werkzeug>=1.0.1->tensorboard<2.19,>=2.18->tensorflow-intel==2.18.0->tensorflow==2.18) (2.1.3)\n",
      "Requirement already satisfied: markdown-it-py<3.0.0,>=2.2.0 in a:\\mikhailiuk\\soft\\anaconda\\lib\\site-packages (from rich->keras>=3.5.0->tensorflow-intel==2.18.0->tensorflow==2.18) (2.2.0)\n",
      "Requirement already satisfied: pygments<3.0.0,>=2.13.0 in a:\\mikhailiuk\\soft\\anaconda\\lib\\site-packages (from rich->keras>=3.5.0->tensorflow-intel==2.18.0->tensorflow==2.18) (2.15.1)\n",
      "Requirement already satisfied: mdurl~=0.1 in a:\\mikhailiuk\\soft\\anaconda\\lib\\site-packages (from markdown-it-py<3.0.0,>=2.2.0->rich->keras>=3.5.0->tensorflow-intel==2.18.0->tensorflow==2.18) (0.1.0)\n"
     ]
    }
   ],
   "source": [
    "pip install tensorflow==2.18"
   ]
  },
  {
   "cell_type": "code",
   "execution_count": 45,
   "id": "5ad116cb-4323-48ba-995d-8615338221ec",
   "metadata": {},
   "outputs": [],
   "source": [
    "import tensorflow as tf\n",
    "from tensorflow.keras.models import Sequential\n",
    "from tensorflow.keras.layers import Dense, Dropout\n",
    "from tensorflow.keras.callbacks import EarlyStopping"
   ]
  },
  {
   "cell_type": "markdown",
   "id": "f2d425e1-c6a4-4c69-9c8b-982704f01bc3",
   "metadata": {},
   "source": [
    "**Архитектура сети:** Простая полносвязная нейронная сеть с тремя скрытыми слоями (128, 64 и 32 нейрона) и функцией активации *ReLU*.  \r\n",
    "**Выходной слой:** Имеет один нейрон без функции активации, так как это задача регрессии.  \r\n",
    "**Dropout:** Добавлен для предотвращения переобучения (20% нейронов случайным образом отключаются на каждой итерации).  \r\n",
    "**Оптимизатор:** Используется `adam`, который хорошо подходит для большинства задач.  \r\n",
    "**Функция потерь:** Используется `mse` (среднеквадратичная ошибка), так как это задача регрессии.  \r\n",
    "**Ранняя остановка:** Если качество на валидационной выборке перестает улучшаться в течение 10 эпох, обучение останавливается, и восстанавливаются лучшие веса.еса."
   ]
  },
  {
   "cell_type": "code",
   "execution_count": 46,
   "id": "3a44167d-1da8-49f1-981f-ea51fcd08cec",
   "metadata": {},
   "outputs": [
    {
     "name": "stdout",
     "output_type": "stream",
     "text": [
      "Epoch 1/100\n"
     ]
    },
    {
     "name": "stderr",
     "output_type": "stream",
     "text": [
      "A:\\Mikhailiuk\\SOFT\\Anaconda\\Lib\\site-packages\\keras\\src\\layers\\core\\dense.py:87: UserWarning: Do not pass an `input_shape`/`input_dim` argument to a layer. When using Sequential models, prefer using an `Input(shape)` object as the first layer in the model instead.\n",
      "  super().__init__(activity_regularizer=activity_regularizer, **kwargs)\n"
     ]
    },
    {
     "name": "stdout",
     "output_type": "stream",
     "text": [
      "\u001b[1m27/27\u001b[0m \u001b[32m━━━━━━━━━━━━━━━━━━━━\u001b[0m\u001b[37m\u001b[0m \u001b[1m2s\u001b[0m 17ms/step - loss: 1738345.0000 - mae: 1117.5287 - val_loss: 1744684.8750 - val_mae: 1135.9374\n",
      "Epoch 2/100\n",
      "\u001b[1m27/27\u001b[0m \u001b[32m━━━━━━━━━━━━━━━━━━━━\u001b[0m\u001b[37m\u001b[0m \u001b[1m0s\u001b[0m 4ms/step - loss: 1723685.6250 - mae: 1108.0278 - val_loss: 1667043.8750 - val_mae: 1106.6091\n",
      "Epoch 3/100\n",
      "\u001b[1m27/27\u001b[0m \u001b[32m━━━━━━━━━━━━━━━━━━━━\u001b[0m\u001b[37m\u001b[0m \u001b[1m0s\u001b[0m 4ms/step - loss: 1754344.0000 - mae: 1111.5391 - val_loss: 1372971.7500 - val_mae: 995.0965\n",
      "Epoch 4/100\n",
      "\u001b[1m27/27\u001b[0m \u001b[32m━━━━━━━━━━━━━━━━━━━━\u001b[0m\u001b[37m\u001b[0m \u001b[1m0s\u001b[0m 4ms/step - loss: 1281616.8750 - mae: 924.5801 - val_loss: 708216.8750 - val_mae: 683.4084\n",
      "Epoch 5/100\n",
      "\u001b[1m27/27\u001b[0m \u001b[32m━━━━━━━━━━━━━━━━━━━━\u001b[0m\u001b[37m\u001b[0m \u001b[1m0s\u001b[0m 4ms/step - loss: 520565.1250 - mae: 571.5916 - val_loss: 256603.4688 - val_mae: 371.9210\n",
      "Epoch 6/100\n",
      "\u001b[1m27/27\u001b[0m \u001b[32m━━━━━━━━━━━━━━━━━━━━\u001b[0m\u001b[37m\u001b[0m \u001b[1m0s\u001b[0m 4ms/step - loss: 186720.6406 - mae: 312.3406 - val_loss: 226778.3281 - val_mae: 347.8191\n",
      "Epoch 7/100\n",
      "\u001b[1m27/27\u001b[0m \u001b[32m━━━━━━━━━━━━━━━━━━━━\u001b[0m\u001b[37m\u001b[0m \u001b[1m0s\u001b[0m 5ms/step - loss: 168823.5469 - mae: 289.8808 - val_loss: 191274.9844 - val_mae: 323.5354\n",
      "Epoch 8/100\n",
      "\u001b[1m27/27\u001b[0m \u001b[32m━━━━━━━━━━━━━━━━━━━━\u001b[0m\u001b[37m\u001b[0m \u001b[1m0s\u001b[0m 4ms/step - loss: 143650.3750 - mae: 282.9432 - val_loss: 178705.8594 - val_mae: 314.6145\n",
      "Epoch 9/100\n",
      "\u001b[1m27/27\u001b[0m \u001b[32m━━━━━━━━━━━━━━━━━━━━\u001b[0m\u001b[37m\u001b[0m \u001b[1m0s\u001b[0m 4ms/step - loss: 157057.4062 - mae: 289.2057 - val_loss: 172122.5469 - val_mae: 307.7632\n",
      "Epoch 10/100\n",
      "\u001b[1m27/27\u001b[0m \u001b[32m━━━━━━━━━━━━━━━━━━━━\u001b[0m\u001b[37m\u001b[0m \u001b[1m0s\u001b[0m 4ms/step - loss: 149960.1719 - mae: 283.5148 - val_loss: 168421.9688 - val_mae: 306.1469\n",
      "Epoch 11/100\n",
      "\u001b[1m27/27\u001b[0m \u001b[32m━━━━━━━━━━━━━━━━━━━━\u001b[0m\u001b[37m\u001b[0m \u001b[1m0s\u001b[0m 4ms/step - loss: 145632.4062 - mae: 278.6035 - val_loss: 164665.5312 - val_mae: 302.3698\n",
      "Epoch 12/100\n",
      "\u001b[1m27/27\u001b[0m \u001b[32m━━━━━━━━━━━━━━━━━━━━\u001b[0m\u001b[37m\u001b[0m \u001b[1m0s\u001b[0m 4ms/step - loss: 138085.7812 - mae: 280.1424 - val_loss: 161209.1719 - val_mae: 293.4356\n",
      "Epoch 13/100\n",
      "\u001b[1m27/27\u001b[0m \u001b[32m━━━━━━━━━━━━━━━━━━━━\u001b[0m\u001b[37m\u001b[0m \u001b[1m0s\u001b[0m 4ms/step - loss: 134781.2031 - mae: 265.5346 - val_loss: 161296.4375 - val_mae: 302.2260\n",
      "Epoch 14/100\n",
      "\u001b[1m27/27\u001b[0m \u001b[32m━━━━━━━━━━━━━━━━━━━━\u001b[0m\u001b[37m\u001b[0m \u001b[1m0s\u001b[0m 4ms/step - loss: 133550.5469 - mae: 277.2820 - val_loss: 156739.2812 - val_mae: 294.6422\n",
      "Epoch 15/100\n",
      "\u001b[1m27/27\u001b[0m \u001b[32m━━━━━━━━━━━━━━━━━━━━\u001b[0m\u001b[37m\u001b[0m \u001b[1m0s\u001b[0m 4ms/step - loss: 134632.0625 - mae: 264.6745 - val_loss: 157112.2812 - val_mae: 293.7318\n",
      "Epoch 16/100\n",
      "\u001b[1m27/27\u001b[0m \u001b[32m━━━━━━━━━━━━━━━━━━━━\u001b[0m\u001b[37m\u001b[0m \u001b[1m0s\u001b[0m 5ms/step - loss: 127106.4141 - mae: 261.3181 - val_loss: 155099.9844 - val_mae: 288.5560\n",
      "Epoch 17/100\n",
      "\u001b[1m27/27\u001b[0m \u001b[32m━━━━━━━━━━━━━━━━━━━━\u001b[0m\u001b[37m\u001b[0m \u001b[1m0s\u001b[0m 4ms/step - loss: 126486.4219 - mae: 257.2123 - val_loss: 152819.5000 - val_mae: 287.0591\n",
      "Epoch 18/100\n",
      "\u001b[1m27/27\u001b[0m \u001b[32m━━━━━━━━━━━━━━━━━━━━\u001b[0m\u001b[37m\u001b[0m \u001b[1m0s\u001b[0m 4ms/step - loss: 114089.6953 - mae: 248.0911 - val_loss: 151728.4531 - val_mae: 287.8474\n",
      "Epoch 19/100\n",
      "\u001b[1m27/27\u001b[0m \u001b[32m━━━━━━━━━━━━━━━━━━━━\u001b[0m\u001b[37m\u001b[0m \u001b[1m0s\u001b[0m 4ms/step - loss: 134536.7500 - mae: 268.4158 - val_loss: 148897.5469 - val_mae: 279.5120\n",
      "Epoch 20/100\n",
      "\u001b[1m27/27\u001b[0m \u001b[32m━━━━━━━━━━━━━━━━━━━━\u001b[0m\u001b[37m\u001b[0m \u001b[1m0s\u001b[0m 4ms/step - loss: 128792.2500 - mae: 257.7549 - val_loss: 150809.5938 - val_mae: 286.8299\n",
      "Epoch 21/100\n",
      "\u001b[1m27/27\u001b[0m \u001b[32m━━━━━━━━━━━━━━━━━━━━\u001b[0m\u001b[37m\u001b[0m \u001b[1m0s\u001b[0m 4ms/step - loss: 116030.8750 - mae: 256.6040 - val_loss: 154758.7344 - val_mae: 293.1992\n",
      "Epoch 22/100\n",
      "\u001b[1m27/27\u001b[0m \u001b[32m━━━━━━━━━━━━━━━━━━━━\u001b[0m\u001b[37m\u001b[0m \u001b[1m0s\u001b[0m 4ms/step - loss: 127545.9141 - mae: 252.5927 - val_loss: 150533.0469 - val_mae: 282.6786\n",
      "Epoch 23/100\n",
      "\u001b[1m27/27\u001b[0m \u001b[32m━━━━━━━━━━━━━━━━━━━━\u001b[0m\u001b[37m\u001b[0m \u001b[1m0s\u001b[0m 4ms/step - loss: 126794.7891 - mae: 256.7093 - val_loss: 148574.7344 - val_mae: 281.5837\n",
      "Epoch 24/100\n",
      "\u001b[1m27/27\u001b[0m \u001b[32m━━━━━━━━━━━━━━━━━━━━\u001b[0m\u001b[37m\u001b[0m \u001b[1m0s\u001b[0m 4ms/step - loss: 109095.0234 - mae: 243.2493 - val_loss: 147422.8438 - val_mae: 280.1980\n",
      "Epoch 25/100\n",
      "\u001b[1m27/27\u001b[0m \u001b[32m━━━━━━━━━━━━━━━━━━━━\u001b[0m\u001b[37m\u001b[0m \u001b[1m0s\u001b[0m 4ms/step - loss: 130374.5547 - mae: 248.6463 - val_loss: 147767.6094 - val_mae: 281.8813\n",
      "Epoch 26/100\n",
      "\u001b[1m27/27\u001b[0m \u001b[32m━━━━━━━━━━━━━━━━━━━━\u001b[0m\u001b[37m\u001b[0m \u001b[1m0s\u001b[0m 4ms/step - loss: 117787.2188 - mae: 249.2288 - val_loss: 146775.3438 - val_mae: 278.7807\n",
      "Epoch 27/100\n",
      "\u001b[1m27/27\u001b[0m \u001b[32m━━━━━━━━━━━━━━━━━━━━\u001b[0m\u001b[37m\u001b[0m \u001b[1m0s\u001b[0m 4ms/step - loss: 114369.9453 - mae: 249.3455 - val_loss: 148295.1875 - val_mae: 284.1156\n",
      "Epoch 28/100\n",
      "\u001b[1m27/27\u001b[0m \u001b[32m━━━━━━━━━━━━━━━━━━━━\u001b[0m\u001b[37m\u001b[0m \u001b[1m0s\u001b[0m 4ms/step - loss: 108776.6094 - mae: 244.4508 - val_loss: 149110.4375 - val_mae: 281.7612\n",
      "Epoch 29/100\n",
      "\u001b[1m27/27\u001b[0m \u001b[32m━━━━━━━━━━━━━━━━━━━━\u001b[0m\u001b[37m\u001b[0m \u001b[1m0s\u001b[0m 4ms/step - loss: 133959.4375 - mae: 256.5725 - val_loss: 146416.5469 - val_mae: 278.2333\n",
      "Epoch 30/100\n",
      "\u001b[1m27/27\u001b[0m \u001b[32m━━━━━━━━━━━━━━━━━━━━\u001b[0m\u001b[37m\u001b[0m \u001b[1m0s\u001b[0m 4ms/step - loss: 123776.2812 - mae: 248.7335 - val_loss: 146740.5312 - val_mae: 278.9189\n",
      "Epoch 31/100\n",
      "\u001b[1m27/27\u001b[0m \u001b[32m━━━━━━━━━━━━━━━━━━━━\u001b[0m\u001b[37m\u001b[0m \u001b[1m0s\u001b[0m 4ms/step - loss: 115359.8516 - mae: 248.6907 - val_loss: 148874.3906 - val_mae: 283.5289\n",
      "Epoch 32/100\n",
      "\u001b[1m27/27\u001b[0m \u001b[32m━━━━━━━━━━━━━━━━━━━━\u001b[0m\u001b[37m\u001b[0m \u001b[1m0s\u001b[0m 5ms/step - loss: 110797.3203 - mae: 241.7312 - val_loss: 146734.8750 - val_mae: 280.2323\n",
      "Epoch 33/100\n",
      "\u001b[1m27/27\u001b[0m \u001b[32m━━━━━━━━━━━━━━━━━━━━\u001b[0m\u001b[37m\u001b[0m \u001b[1m0s\u001b[0m 4ms/step - loss: 124024.8672 - mae: 254.5918 - val_loss: 144422.6719 - val_mae: 275.3951\n",
      "Epoch 34/100\n",
      "\u001b[1m27/27\u001b[0m \u001b[32m━━━━━━━━━━━━━━━━━━━━\u001b[0m\u001b[37m\u001b[0m \u001b[1m0s\u001b[0m 5ms/step - loss: 121701.1484 - mae: 245.5792 - val_loss: 143443.5469 - val_mae: 274.9124\n",
      "Epoch 35/100\n",
      "\u001b[1m27/27\u001b[0m \u001b[32m━━━━━━━━━━━━━━━━━━━━\u001b[0m\u001b[37m\u001b[0m \u001b[1m0s\u001b[0m 4ms/step - loss: 112326.3906 - mae: 242.6358 - val_loss: 143404.2969 - val_mae: 276.4958\n",
      "Epoch 36/100\n",
      "\u001b[1m27/27\u001b[0m \u001b[32m━━━━━━━━━━━━━━━━━━━━\u001b[0m\u001b[37m\u001b[0m \u001b[1m0s\u001b[0m 4ms/step - loss: 117780.1562 - mae: 246.9335 - val_loss: 142489.2188 - val_mae: 273.8584\n",
      "Epoch 37/100\n",
      "\u001b[1m27/27\u001b[0m \u001b[32m━━━━━━━━━━━━━━━━━━━━\u001b[0m\u001b[37m\u001b[0m \u001b[1m0s\u001b[0m 4ms/step - loss: 99626.0391 - mae: 233.3232 - val_loss: 142162.4375 - val_mae: 275.1321\n",
      "Epoch 38/100\n",
      "\u001b[1m27/27\u001b[0m \u001b[32m━━━━━━━━━━━━━━━━━━━━\u001b[0m\u001b[37m\u001b[0m \u001b[1m0s\u001b[0m 4ms/step - loss: 117105.0859 - mae: 241.4061 - val_loss: 141466.5781 - val_mae: 272.1761\n",
      "Epoch 39/100\n",
      "\u001b[1m27/27\u001b[0m \u001b[32m━━━━━━━━━━━━━━━━━━━━\u001b[0m\u001b[37m\u001b[0m \u001b[1m0s\u001b[0m 4ms/step - loss: 124567.1797 - mae: 244.9174 - val_loss: 140822.8438 - val_mae: 271.6632\n",
      "Epoch 40/100\n",
      "\u001b[1m27/27\u001b[0m \u001b[32m━━━━━━━━━━━━━━━━━━━━\u001b[0m\u001b[37m\u001b[0m \u001b[1m0s\u001b[0m 4ms/step - loss: 107758.5781 - mae: 240.6176 - val_loss: 140891.4688 - val_mae: 270.9817\n",
      "Epoch 41/100\n",
      "\u001b[1m27/27\u001b[0m \u001b[32m━━━━━━━━━━━━━━━━━━━━\u001b[0m\u001b[37m\u001b[0m \u001b[1m0s\u001b[0m 4ms/step - loss: 107306.6719 - mae: 235.8607 - val_loss: 142242.5312 - val_mae: 275.7574\n",
      "Epoch 42/100\n",
      "\u001b[1m27/27\u001b[0m \u001b[32m━━━━━━━━━━━━━━━━━━━━\u001b[0m\u001b[37m\u001b[0m \u001b[1m0s\u001b[0m 4ms/step - loss: 104864.8672 - mae: 238.7911 - val_loss: 140174.9531 - val_mae: 270.3968\n",
      "Epoch 43/100\n",
      "\u001b[1m27/27\u001b[0m \u001b[32m━━━━━━━━━━━━━━━━━━━━\u001b[0m\u001b[37m\u001b[0m \u001b[1m0s\u001b[0m 4ms/step - loss: 99532.6484 - mae: 232.9279 - val_loss: 140864.2812 - val_mae: 271.5177\n",
      "Epoch 44/100\n",
      "\u001b[1m27/27\u001b[0m \u001b[32m━━━━━━━━━━━━━━━━━━━━\u001b[0m\u001b[37m\u001b[0m \u001b[1m0s\u001b[0m 4ms/step - loss: 128517.6562 - mae: 253.0270 - val_loss: 138767.1406 - val_mae: 265.9393\n",
      "Epoch 45/100\n",
      "\u001b[1m27/27\u001b[0m \u001b[32m━━━━━━━━━━━━━━━━━━━━\u001b[0m\u001b[37m\u001b[0m \u001b[1m0s\u001b[0m 4ms/step - loss: 115958.0000 - mae: 240.6562 - val_loss: 140271.8125 - val_mae: 273.2186\n",
      "Epoch 46/100\n",
      "\u001b[1m27/27\u001b[0m \u001b[32m━━━━━━━━━━━━━━━━━━━━\u001b[0m\u001b[37m\u001b[0m \u001b[1m0s\u001b[0m 4ms/step - loss: 123410.6875 - mae: 253.0585 - val_loss: 137201.9531 - val_mae: 265.2114\n",
      "Epoch 47/100\n",
      "\u001b[1m27/27\u001b[0m \u001b[32m━━━━━━━━━━━━━━━━━━━━\u001b[0m\u001b[37m\u001b[0m \u001b[1m0s\u001b[0m 5ms/step - loss: 122475.8281 - mae: 249.1578 - val_loss: 137898.9062 - val_mae: 270.9350\n",
      "Epoch 48/100\n",
      "\u001b[1m27/27\u001b[0m \u001b[32m━━━━━━━━━━━━━━━━━━━━\u001b[0m\u001b[37m\u001b[0m \u001b[1m0s\u001b[0m 4ms/step - loss: 99497.2266 - mae: 225.4308 - val_loss: 139429.2188 - val_mae: 272.0063\n",
      "Epoch 49/100\n",
      "\u001b[1m27/27\u001b[0m \u001b[32m━━━━━━━━━━━━━━━━━━━━\u001b[0m\u001b[37m\u001b[0m \u001b[1m0s\u001b[0m 4ms/step - loss: 121567.4922 - mae: 252.0399 - val_loss: 136690.5156 - val_mae: 267.1523\n",
      "Epoch 50/100\n",
      "\u001b[1m27/27\u001b[0m \u001b[32m━━━━━━━━━━━━━━━━━━━━\u001b[0m\u001b[37m\u001b[0m \u001b[1m0s\u001b[0m 4ms/step - loss: 123749.1719 - mae: 239.1792 - val_loss: 137242.3750 - val_mae: 267.9105\n",
      "Epoch 51/100\n",
      "\u001b[1m27/27\u001b[0m \u001b[32m━━━━━━━━━━━━━━━━━━━━\u001b[0m\u001b[37m\u001b[0m \u001b[1m0s\u001b[0m 4ms/step - loss: 107285.7188 - mae: 230.9389 - val_loss: 137197.1719 - val_mae: 267.4987\n",
      "Epoch 52/100\n",
      "\u001b[1m27/27\u001b[0m \u001b[32m━━━━━━━━━━━━━━━━━━━━\u001b[0m\u001b[37m\u001b[0m \u001b[1m0s\u001b[0m 5ms/step - loss: 109672.7266 - mae: 242.8009 - val_loss: 135871.2188 - val_mae: 264.5420\n",
      "Epoch 53/100\n",
      "\u001b[1m27/27\u001b[0m \u001b[32m━━━━━━━━━━━━━━━━━━━━\u001b[0m\u001b[37m\u001b[0m \u001b[1m0s\u001b[0m 4ms/step - loss: 109490.6406 - mae: 246.0184 - val_loss: 135865.0312 - val_mae: 265.8410\n",
      "Epoch 54/100\n",
      "\u001b[1m27/27\u001b[0m \u001b[32m━━━━━━━━━━━━━━━━━━━━\u001b[0m\u001b[37m\u001b[0m \u001b[1m0s\u001b[0m 4ms/step - loss: 108767.5547 - mae: 235.1449 - val_loss: 136022.5938 - val_mae: 264.2963\n",
      "Epoch 55/100\n",
      "\u001b[1m27/27\u001b[0m \u001b[32m━━━━━━━━━━━━━━━━━━━━\u001b[0m\u001b[37m\u001b[0m \u001b[1m0s\u001b[0m 4ms/step - loss: 113554.9453 - mae: 238.1641 - val_loss: 135379.7188 - val_mae: 263.5279\n",
      "Epoch 56/100\n",
      "\u001b[1m27/27\u001b[0m \u001b[32m━━━━━━━━━━━━━━━━━━━━\u001b[0m\u001b[37m\u001b[0m \u001b[1m0s\u001b[0m 4ms/step - loss: 94694.0781 - mae: 224.1848 - val_loss: 135178.9844 - val_mae: 261.7894\n",
      "Epoch 57/100\n",
      "\u001b[1m27/27\u001b[0m \u001b[32m━━━━━━━━━━━━━━━━━━━━\u001b[0m\u001b[37m\u001b[0m \u001b[1m0s\u001b[0m 5ms/step - loss: 107613.2812 - mae: 236.2861 - val_loss: 135444.9531 - val_mae: 263.9697\n",
      "Epoch 58/100\n",
      "\u001b[1m27/27\u001b[0m \u001b[32m━━━━━━━━━━━━━━━━━━━━\u001b[0m\u001b[37m\u001b[0m \u001b[1m0s\u001b[0m 4ms/step - loss: 103773.6172 - mae: 236.2503 - val_loss: 134343.7344 - val_mae: 262.7200\n",
      "Epoch 59/100\n",
      "\u001b[1m27/27\u001b[0m \u001b[32m━━━━━━━━━━━━━━━━━━━━\u001b[0m\u001b[37m\u001b[0m \u001b[1m0s\u001b[0m 4ms/step - loss: 116851.3125 - mae: 240.1527 - val_loss: 135187.2656 - val_mae: 266.0049\n",
      "Epoch 60/100\n",
      "\u001b[1m27/27\u001b[0m \u001b[32m━━━━━━━━━━━━━━━━━━━━\u001b[0m\u001b[37m\u001b[0m \u001b[1m0s\u001b[0m 4ms/step - loss: 111470.1562 - mae: 235.2085 - val_loss: 133549.2500 - val_mae: 260.9238\n",
      "Epoch 61/100\n",
      "\u001b[1m27/27\u001b[0m \u001b[32m━━━━━━━━━━━━━━━━━━━━\u001b[0m\u001b[37m\u001b[0m \u001b[1m0s\u001b[0m 4ms/step - loss: 113536.5234 - mae: 238.7023 - val_loss: 134808.2812 - val_mae: 262.6656\n",
      "Epoch 62/100\n",
      "\u001b[1m27/27\u001b[0m \u001b[32m━━━━━━━━━━━━━━━━━━━━\u001b[0m\u001b[37m\u001b[0m \u001b[1m0s\u001b[0m 4ms/step - loss: 107439.7734 - mae: 237.3971 - val_loss: 133713.8750 - val_mae: 260.6331\n",
      "Epoch 63/100\n",
      "\u001b[1m27/27\u001b[0m \u001b[32m━━━━━━━━━━━━━━━━━━━━\u001b[0m\u001b[37m\u001b[0m \u001b[1m0s\u001b[0m 4ms/step - loss: 100098.6875 - mae: 232.8846 - val_loss: 134174.2812 - val_mae: 263.3638\n",
      "Epoch 64/100\n",
      "\u001b[1m27/27\u001b[0m \u001b[32m━━━━━━━━━━━━━━━━━━━━\u001b[0m\u001b[37m\u001b[0m \u001b[1m0s\u001b[0m 4ms/step - loss: 114730.1719 - mae: 247.9994 - val_loss: 132479.0781 - val_mae: 260.3581\n",
      "Epoch 65/100\n",
      "\u001b[1m27/27\u001b[0m \u001b[32m━━━━━━━━━━━━━━━━━━━━\u001b[0m\u001b[37m\u001b[0m \u001b[1m0s\u001b[0m 4ms/step - loss: 107671.3359 - mae: 235.6425 - val_loss: 134081.3438 - val_mae: 263.9711\n",
      "Epoch 66/100\n",
      "\u001b[1m27/27\u001b[0m \u001b[32m━━━━━━━━━━━━━━━━━━━━\u001b[0m\u001b[37m\u001b[0m \u001b[1m0s\u001b[0m 4ms/step - loss: 105433.2500 - mae: 235.6057 - val_loss: 131290.2656 - val_mae: 259.9987\n",
      "Epoch 67/100\n",
      "\u001b[1m27/27\u001b[0m \u001b[32m━━━━━━━━━━━━━━━━━━━━\u001b[0m\u001b[37m\u001b[0m \u001b[1m0s\u001b[0m 4ms/step - loss: 122926.2656 - mae: 247.1301 - val_loss: 133129.7656 - val_mae: 263.6572\n",
      "Epoch 68/100\n",
      "\u001b[1m27/27\u001b[0m \u001b[32m━━━━━━━━━━━━━━━━━━━━\u001b[0m\u001b[37m\u001b[0m \u001b[1m0s\u001b[0m 4ms/step - loss: 102934.8281 - mae: 232.8952 - val_loss: 131987.2969 - val_mae: 261.3340\n",
      "Epoch 69/100\n",
      "\u001b[1m27/27\u001b[0m \u001b[32m━━━━━━━━━━━━━━━━━━━━\u001b[0m\u001b[37m\u001b[0m \u001b[1m0s\u001b[0m 4ms/step - loss: 97568.6484 - mae: 225.1475 - val_loss: 131872.3281 - val_mae: 258.9662\n",
      "Epoch 70/100\n",
      "\u001b[1m27/27\u001b[0m \u001b[32m━━━━━━━━━━━━━━━━━━━━\u001b[0m\u001b[37m\u001b[0m \u001b[1m0s\u001b[0m 4ms/step - loss: 101401.0859 - mae: 227.1433 - val_loss: 130619.0703 - val_mae: 260.0817\n",
      "Epoch 71/100\n",
      "\u001b[1m27/27\u001b[0m \u001b[32m━━━━━━━━━━━━━━━━━━━━\u001b[0m\u001b[37m\u001b[0m \u001b[1m0s\u001b[0m 4ms/step - loss: 102474.4141 - mae: 232.4253 - val_loss: 130216.8359 - val_mae: 259.6228\n",
      "Epoch 72/100\n",
      "\u001b[1m27/27\u001b[0m \u001b[32m━━━━━━━━━━━━━━━━━━━━\u001b[0m\u001b[37m\u001b[0m \u001b[1m0s\u001b[0m 4ms/step - loss: 112004.2422 - mae: 246.2435 - val_loss: 130565.8594 - val_mae: 258.2794\n",
      "Epoch 73/100\n",
      "\u001b[1m27/27\u001b[0m \u001b[32m━━━━━━━━━━━━━━━━━━━━\u001b[0m\u001b[37m\u001b[0m \u001b[1m0s\u001b[0m 4ms/step - loss: 104326.1406 - mae: 232.3785 - val_loss: 135948.7344 - val_mae: 268.2632\n",
      "Epoch 74/100\n",
      "\u001b[1m27/27\u001b[0m \u001b[32m━━━━━━━━━━━━━━━━━━━━\u001b[0m\u001b[37m\u001b[0m \u001b[1m0s\u001b[0m 4ms/step - loss: 94039.7578 - mae: 224.0275 - val_loss: 133193.9062 - val_mae: 261.4813\n",
      "Epoch 75/100\n",
      "\u001b[1m27/27\u001b[0m \u001b[32m━━━━━━━━━━━━━━━━━━━━\u001b[0m\u001b[37m\u001b[0m \u001b[1m0s\u001b[0m 4ms/step - loss: 110729.3750 - mae: 238.9855 - val_loss: 132021.7656 - val_mae: 259.5004\n",
      "Epoch 76/100\n",
      "\u001b[1m27/27\u001b[0m \u001b[32m━━━━━━━━━━━━━━━━━━━━\u001b[0m\u001b[37m\u001b[0m \u001b[1m0s\u001b[0m 5ms/step - loss: 106143.1562 - mae: 238.5311 - val_loss: 131228.6094 - val_mae: 260.0101\n",
      "Epoch 77/100\n",
      "\u001b[1m27/27\u001b[0m \u001b[32m━━━━━━━━━━━━━━━━━━━━\u001b[0m\u001b[37m\u001b[0m \u001b[1m0s\u001b[0m 4ms/step - loss: 107509.3047 - mae: 234.0788 - val_loss: 130783.8438 - val_mae: 258.1245\n",
      "Epoch 78/100\n",
      "\u001b[1m27/27\u001b[0m \u001b[32m━━━━━━━━━━━━━━━━━━━━\u001b[0m\u001b[37m\u001b[0m \u001b[1m0s\u001b[0m 4ms/step - loss: 102939.2969 - mae: 234.1711 - val_loss: 132140.4688 - val_mae: 259.8953\n",
      "Epoch 79/100\n",
      "\u001b[1m27/27\u001b[0m \u001b[32m━━━━━━━━━━━━━━━━━━━━\u001b[0m\u001b[37m\u001b[0m \u001b[1m0s\u001b[0m 5ms/step - loss: 107815.8438 - mae: 238.0665 - val_loss: 128796.3750 - val_mae: 256.6254\n",
      "Epoch 80/100\n",
      "\u001b[1m27/27\u001b[0m \u001b[32m━━━━━━━━━━━━━━━━━━━━\u001b[0m\u001b[37m\u001b[0m \u001b[1m0s\u001b[0m 4ms/step - loss: 115213.1641 - mae: 232.5181 - val_loss: 130656.8438 - val_mae: 257.9343\n",
      "Epoch 81/100\n",
      "\u001b[1m27/27\u001b[0m \u001b[32m━━━━━━━━━━━━━━━━━━━━\u001b[0m\u001b[37m\u001b[0m \u001b[1m0s\u001b[0m 4ms/step - loss: 108230.3047 - mae: 239.0777 - val_loss: 129774.9375 - val_mae: 258.2029\n",
      "Epoch 82/100\n",
      "\u001b[1m27/27\u001b[0m \u001b[32m━━━━━━━━━━━━━━━━━━━━\u001b[0m\u001b[37m\u001b[0m \u001b[1m0s\u001b[0m 6ms/step - loss: 125353.6094 - mae: 245.4303 - val_loss: 128679.6094 - val_mae: 256.7798\n",
      "Epoch 83/100\n",
      "\u001b[1m27/27\u001b[0m \u001b[32m━━━━━━━━━━━━━━━━━━━━\u001b[0m\u001b[37m\u001b[0m \u001b[1m0s\u001b[0m 4ms/step - loss: 103629.8906 - mae: 230.6302 - val_loss: 133185.7188 - val_mae: 257.5127\n",
      "Epoch 84/100\n",
      "\u001b[1m27/27\u001b[0m \u001b[32m━━━━━━━━━━━━━━━━━━━━\u001b[0m\u001b[37m\u001b[0m \u001b[1m0s\u001b[0m 4ms/step - loss: 101560.1641 - mae: 229.9923 - val_loss: 131828.6250 - val_mae: 257.9978\n",
      "Epoch 85/100\n",
      "\u001b[1m27/27\u001b[0m \u001b[32m━━━━━━━━━━━━━━━━━━━━\u001b[0m\u001b[37m\u001b[0m \u001b[1m0s\u001b[0m 4ms/step - loss: 104703.3750 - mae: 232.1841 - val_loss: 132702.9688 - val_mae: 260.8188\n",
      "Epoch 86/100\n",
      "\u001b[1m27/27\u001b[0m \u001b[32m━━━━━━━━━━━━━━━━━━━━\u001b[0m\u001b[37m\u001b[0m \u001b[1m0s\u001b[0m 4ms/step - loss: 101386.3125 - mae: 234.4359 - val_loss: 127983.5234 - val_mae: 253.0651\n",
      "Epoch 87/100\n",
      "\u001b[1m27/27\u001b[0m \u001b[32m━━━━━━━━━━━━━━━━━━━━\u001b[0m\u001b[37m\u001b[0m \u001b[1m0s\u001b[0m 4ms/step - loss: 105104.3594 - mae: 234.1219 - val_loss: 127699.1484 - val_mae: 254.1834\n",
      "Epoch 88/100\n",
      "\u001b[1m27/27\u001b[0m \u001b[32m━━━━━━━━━━━━━━━━━━━━\u001b[0m\u001b[37m\u001b[0m \u001b[1m0s\u001b[0m 4ms/step - loss: 95119.7812 - mae: 225.2041 - val_loss: 129297.3516 - val_mae: 255.1071\n",
      "Epoch 89/100\n",
      "\u001b[1m27/27\u001b[0m \u001b[32m━━━━━━━━━━━━━━━━━━━━\u001b[0m\u001b[37m\u001b[0m \u001b[1m0s\u001b[0m 4ms/step - loss: 110869.0938 - mae: 239.2418 - val_loss: 130262.7812 - val_mae: 256.3955\n",
      "Epoch 90/100\n",
      "\u001b[1m27/27\u001b[0m \u001b[32m━━━━━━━━━━━━━━━━━━━━\u001b[0m\u001b[37m\u001b[0m \u001b[1m0s\u001b[0m 4ms/step - loss: 108959.0859 - mae: 235.2916 - val_loss: 129300.7812 - val_mae: 255.4772\n",
      "Epoch 91/100\n",
      "\u001b[1m27/27\u001b[0m \u001b[32m━━━━━━━━━━━━━━━━━━━━\u001b[0m\u001b[37m\u001b[0m \u001b[1m0s\u001b[0m 4ms/step - loss: 105937.0781 - mae: 229.2510 - val_loss: 130246.2188 - val_mae: 257.9883\n",
      "Epoch 92/100\n",
      "\u001b[1m27/27\u001b[0m \u001b[32m━━━━━━━━━━━━━━━━━━━━\u001b[0m\u001b[37m\u001b[0m \u001b[1m0s\u001b[0m 4ms/step - loss: 105340.1094 - mae: 234.7790 - val_loss: 132893.3906 - val_mae: 261.2032\n",
      "Epoch 93/100\n",
      "\u001b[1m27/27\u001b[0m \u001b[32m━━━━━━━━━━━━━━━━━━━━\u001b[0m\u001b[37m\u001b[0m \u001b[1m0s\u001b[0m 4ms/step - loss: 97580.1328 - mae: 225.7869 - val_loss: 130060.6875 - val_mae: 256.3294\n",
      "Epoch 94/100\n",
      "\u001b[1m27/27\u001b[0m \u001b[32m━━━━━━━━━━━━━━━━━━━━\u001b[0m\u001b[37m\u001b[0m \u001b[1m0s\u001b[0m 4ms/step - loss: 114453.6094 - mae: 242.8190 - val_loss: 128989.8438 - val_mae: 254.5898\n",
      "Epoch 95/100\n",
      "\u001b[1m27/27\u001b[0m \u001b[32m━━━━━━━━━━━━━━━━━━━━\u001b[0m\u001b[37m\u001b[0m \u001b[1m0s\u001b[0m 4ms/step - loss: 113906.1797 - mae: 241.2479 - val_loss: 128731.2266 - val_mae: 252.8457\n",
      "Epoch 96/100\n",
      "\u001b[1m27/27\u001b[0m \u001b[32m━━━━━━━━━━━━━━━━━━━━\u001b[0m\u001b[37m\u001b[0m \u001b[1m0s\u001b[0m 4ms/step - loss: 96205.4141 - mae: 224.4048 - val_loss: 129156.0469 - val_mae: 256.7252\n",
      "Epoch 97/100\n",
      "\u001b[1m27/27\u001b[0m \u001b[32m━━━━━━━━━━━━━━━━━━━━\u001b[0m\u001b[37m\u001b[0m \u001b[1m0s\u001b[0m 4ms/step - loss: 109663.6406 - mae: 238.0139 - val_loss: 129501.9531 - val_mae: 256.3197\n",
      "\u001b[1m9/9\u001b[0m \u001b[32m━━━━━━━━━━━━━━━━━━━━\u001b[0m\u001b[37m\u001b[0m \u001b[1m0s\u001b[0m 8ms/step \n",
      "Нейронная сеть:\n",
      "Среднеквадратичная ошибка (MSE): 131622.53\n",
      "Коэффициент детерминации (R²): 0.74\n"
     ]
    }
   ],
   "source": [
    "# Создание модели нейронной сети\n",
    "model = Sequential([\n",
    "    Dense(128, activation='relu', input_shape=(X_train_scaled.shape[1],)),\n",
    "    Dropout(0.2),\n",
    "    Dense(64, activation='relu'),\n",
    "    Dropout(0.2),\n",
    "    Dense(32, activation='relu'),\n",
    "    Dense(1)\n",
    "])\n",
    "\n",
    "# Компиляция модели\n",
    "model.compile(optimizer='adam', loss='mse', metrics=['mae'])\n",
    "\n",
    "# Ранняя остановка для предотвращения переобучения\n",
    "early_stopping = EarlyStopping(monitor='val_loss', patience=10, restore_best_weights=True)\n",
    "\n",
    "# Обучение модели\n",
    "history = model.fit(X_train_scaled, y_train, validation_split=0.2, epochs=100, batch_size=32, callbacks=[early_stopping], verbose=1)\n",
    "\n",
    "# Предсказание\n",
    "y_pred_nn = model.predict(X_test_scaled).flatten()\n",
    "\n",
    "# Оценка модели\n",
    "nn_mse = mean_squared_error(y_test, y_pred_nn)\n",
    "nn_r2 = r2_score(y_test, y_pred_nn)\n",
    "\n",
    "print('Нейронная сеть:')\n",
    "print(f'Среднеквадратичная ошибка (MSE): {nn_mse:.2f}')\n",
    "print(f'Коэффициент детерминации (R²): {nn_r2:.2f}')"
   ]
  },
  {
   "cell_type": "markdown",
   "id": "ce8d231b-d41c-48fd-867a-79e43fe5a550",
   "metadata": {},
   "source": [
    "### 2. Визуализация процесса обучения"
   ]
  },
  {
   "cell_type": "code",
   "execution_count": 47,
   "id": "f2b2b228-d837-4c8c-b19f-1f3011449901",
   "metadata": {},
   "outputs": [
    {
     "data": {
      "image/png": "[encoded data removed]",
      "text/plain": [
       "<Figure size 1200x600 with 2 Axes>"
      ]
     },
     "metadata": {},
     "output_type": "display_data"
    }
   ],
   "source": [
    "# График функции потерь\n",
    "plt.figure(figsize=(12, 6))\n",
    "\n",
    "plt.subplot(1, 2, 1)\n",
    "plt.plot(history.history['loss'], label='Обучающая выборка')\n",
    "plt.plot(history.history['val_loss'], label='Валидационная выборка')\n",
    "plt.xlabel('Эпоха')\n",
    "plt.ylabel('MSE (функция потерь)')\n",
    "plt.title('Функция потерь')\n",
    "plt.legend()\n",
    "\n",
    "# График метрики MAE\n",
    "plt.subplot(1, 2, 2)\n",
    "plt.plot(history.history['mae'], label='Обучающая выборка')\n",
    "plt.plot(history.history['val_mae'], label='Валидационная выборка')\n",
    "plt.xlabel('Эпоха')\n",
    "plt.ylabel('MAE')\n",
    "plt.title('Средняя абсолютная ошибка (MAE)')\n",
    "plt.legend()\n",
    "\n",
    "plt.tight_layout()\n",
    "plt.show()"
   ]
  },
  {
   "cell_type": "markdown",
   "id": "d6555efb-2f85-4f00-9ae8-662b6c1714c2",
   "metadata": {},
   "source": [
    "#### Интерпретация графиков"
   ]
  },
  {
   "cell_type": "markdown",
   "id": "dfefa6fd-ba98-46f2-bfb6-25089d997d4a",
   "metadata": {},
   "source": [
    "Если функция потерь на валидационной выборке начинает расти, а на обучающей продолжает падать, это признак переобучения"
   ]
  },
  {
   "cell_type": "markdown",
   "id": "b98f7db7-a04e-4d8c-970e-de86e473d909",
   "metadata": {},
   "source": [
    "Если обе кривые стабилизируются, модель достигла своего предела на текущих данных"
   ]
  },
  {
   "cell_type": "markdown",
   "id": "2cd8a451-f17b-4b4f-a5b6-9c3caa3019ca",
   "metadata": {},
   "source": [
    "### 3. Оптимизация нейронной сети"
   ]
  },
  {
   "cell_type": "markdown",
   "id": "3b492f0b-a6dc-4638-a37c-882d97dc24f9",
   "metadata": {},
   "source": [
    "Если результаты нейронной сети неудовлетворительны, можно попробовать улучшить модель, изменяя архитектуру или гиперпараметры.  \n",
    "\n",
    "**Вот несколько подходов:**  \n",
    "\n",
    "**Изменение архитектуры сети:** Добавить больше слоев или нейронов, изменить функцию активации (например, tanh вместо relu), или увеличить/уменьшить коэффициент Dropout.  \n",
    "**Изменение гиперпараметров:** Изменить скорость обучения (learning_rate), размер батча (batch_size) или количество эпох (epochs).  \n",
    "**Нормализация данных:** Убедиться, что данные хорошо масштабированы (мы уже использовали StandardScaler, но можно попробовать другие методы, например, MinMaxScaler).  \n",
    "**Аугментация данных:** Если данных мало, можно попробовать искусственно увеличить объем данных, используя методы аугментации (например, добавление шума к числовым признакам)."
   ]
  },
  {
   "cell_type": "markdown",
   "id": "04f20306-d801-40ef-98ac-65681c9dce57",
   "metadata": {},
   "source": [
    "#### Пример изменения скорости обучения\n"
   ]
  },
  {
   "cell_type": "code",
   "execution_count": 48,
   "id": "b29d2b6b-9f72-4fc7-9932-b35966857e6b",
   "metadata": {},
   "outputs": [],
   "source": [
    "from tensorflow.keras.optimizers import Adam"
   ]
  },
  {
   "cell_type": "code",
   "execution_count": 49,
   "id": "6e03139c-6d58-40c6-837f-84d3364f55cb",
   "metadata": {},
   "outputs": [
    {
     "name": "stdout",
     "output_type": "stream",
     "text": [
      "Epoch 1/100\n"
     ]
    },
    {
     "name": "stderr",
     "output_type": "stream",
     "text": [
      "A:\\Mikhailiuk\\SOFT\\Anaconda\\Lib\\site-packages\\keras\\src\\layers\\core\\dense.py:87: UserWarning: Do not pass an `input_shape`/`input_dim` argument to a layer. When using Sequential models, prefer using an `Input(shape)` object as the first layer in the model instead.\n",
      "  super().__init__(activity_regularizer=activity_regularizer, **kwargs)\n"
     ]
    },
    {
     "name": "stdout",
     "output_type": "stream",
     "text": [
      "\u001b[1m27/27\u001b[0m \u001b[32m━━━━━━━━━━━━━━━━━━━━\u001b[0m\u001b[37m\u001b[0m \u001b[1m2s\u001b[0m 11ms/step - loss: 1699206.2500 - mae: 1113.3605 - val_loss: 1745404.1250 - val_mae: 1136.3729\n",
      "Epoch 2/100\n",
      "\u001b[1m27/27\u001b[0m \u001b[32m━━━━━━━━━━━━━━━━━━━━\u001b[0m\u001b[37m\u001b[0m \u001b[1m0s\u001b[0m 4ms/step - loss: 1719073.5000 - mae: 1118.2087 - val_loss: 1689691.8750 - val_mae: 1115.2314\n",
      "Epoch 3/100\n",
      "\u001b[1m27/27\u001b[0m \u001b[32m━━━━━━━━━━━━━━━━━━━━\u001b[0m\u001b[37m\u001b[0m \u001b[1m0s\u001b[0m 4ms/step - loss: 1710665.7500 - mae: 1101.3062 - val_loss: 1492566.2500 - val_mae: 1041.8408\n",
      "Epoch 4/100\n",
      "\u001b[1m27/27\u001b[0m \u001b[32m━━━━━━━━━━━━━━━━━━━━\u001b[0m\u001b[37m\u001b[0m \u001b[1m0s\u001b[0m 4ms/step - loss: 1333552.6250 - mae: 975.7850 - val_loss: 1008955.8750 - val_mae: 841.3348\n",
      "Epoch 5/100\n",
      "\u001b[1m27/27\u001b[0m \u001b[32m━━━━━━━━━━━━━━━━━━━━\u001b[0m\u001b[37m\u001b[0m \u001b[1m0s\u001b[0m 4ms/step - loss: 835335.1250 - mae: 748.1649 - val_loss: 368331.7188 - val_mae: 459.9419\n",
      "Epoch 6/100\n",
      "\u001b[1m27/27\u001b[0m \u001b[32m━━━━━━━━━━━━━━━━━━━━\u001b[0m\u001b[37m\u001b[0m \u001b[1m0s\u001b[0m 4ms/step - loss: 284058.4688 - mae: 388.5245 - val_loss: 233467.1562 - val_mae: 361.1187\n",
      "Epoch 7/100\n",
      "\u001b[1m27/27\u001b[0m \u001b[32m━━━━━━━━━━━━━━━━━━━━\u001b[0m\u001b[37m\u001b[0m \u001b[1m0s\u001b[0m 4ms/step - loss: 160835.3438 - mae: 292.4012 - val_loss: 201620.4375 - val_mae: 333.3564\n",
      "Epoch 8/100\n",
      "\u001b[1m27/27\u001b[0m \u001b[32m━━━━━━━━━━━━━━━━━━━━\u001b[0m\u001b[37m\u001b[0m \u001b[1m0s\u001b[0m 4ms/step - loss: 164645.5312 - mae: 292.7636 - val_loss: 181630.7344 - val_mae: 316.8316\n",
      "Epoch 9/100\n",
      "\u001b[1m27/27\u001b[0m \u001b[32m━━━━━━━━━━━━━━━━━━━━\u001b[0m\u001b[37m\u001b[0m \u001b[1m0s\u001b[0m 4ms/step - loss: 150941.7812 - mae: 288.1704 - val_loss: 175911.3750 - val_mae: 313.5492\n",
      "Epoch 10/100\n",
      "\u001b[1m27/27\u001b[0m \u001b[32m━━━━━━━━━━━━━━━━━━━━\u001b[0m\u001b[37m\u001b[0m \u001b[1m0s\u001b[0m 4ms/step - loss: 164781.7500 - mae: 299.2292 - val_loss: 168774.9531 - val_mae: 305.7180\n",
      "Epoch 11/100\n",
      "\u001b[1m27/27\u001b[0m \u001b[32m━━━━━━━━━━━━━━━━━━━━\u001b[0m\u001b[37m\u001b[0m \u001b[1m0s\u001b[0m 4ms/step - loss: 137010.3438 - mae: 278.8446 - val_loss: 164218.3750 - val_mae: 300.5012\n",
      "Epoch 12/100\n",
      "\u001b[1m27/27\u001b[0m \u001b[32m━━━━━━━━━━━━━━━━━━━━\u001b[0m\u001b[37m\u001b[0m \u001b[1m0s\u001b[0m 4ms/step - loss: 140155.8281 - mae: 274.2485 - val_loss: 162486.3281 - val_mae: 299.6321\n",
      "Epoch 13/100\n",
      "\u001b[1m27/27\u001b[0m \u001b[32m━━━━━━━━━━━━━━━━━━━━\u001b[0m\u001b[37m\u001b[0m \u001b[1m0s\u001b[0m 4ms/step - loss: 158810.4844 - mae: 292.6581 - val_loss: 158693.7500 - val_mae: 293.3511\n",
      "Epoch 14/100\n",
      "\u001b[1m27/27\u001b[0m \u001b[32m━━━━━━━━━━━━━━━━━━━━\u001b[0m\u001b[37m\u001b[0m \u001b[1m0s\u001b[0m 5ms/step - loss: 131653.4531 - mae: 263.8861 - val_loss: 158562.2812 - val_mae: 295.1322\n",
      "Epoch 15/100\n",
      "\u001b[1m27/27\u001b[0m \u001b[32m━━━━━━━━━━━━━━━━━━━━\u001b[0m\u001b[37m\u001b[0m \u001b[1m0s\u001b[0m 4ms/step - loss: 119979.7500 - mae: 256.4930 - val_loss: 157431.6406 - val_mae: 291.8082\n",
      "Epoch 16/100\n",
      "\u001b[1m27/27\u001b[0m \u001b[32m━━━━━━━━━━━━━━━━━━━━\u001b[0m\u001b[37m\u001b[0m \u001b[1m0s\u001b[0m 4ms/step - loss: 118212.2109 - mae: 254.2560 - val_loss: 156585.8906 - val_mae: 292.9371\n",
      "Epoch 17/100\n",
      "\u001b[1m27/27\u001b[0m \u001b[32m━━━━━━━━━━━━━━━━━━━━\u001b[0m\u001b[37m\u001b[0m \u001b[1m0s\u001b[0m 4ms/step - loss: 125500.1719 - mae: 254.5721 - val_loss: 155259.3281 - val_mae: 288.1517\n",
      "Epoch 18/100\n",
      "\u001b[1m27/27\u001b[0m \u001b[32m━━━━━━━━━━━━━━━━━━━━\u001b[0m\u001b[37m\u001b[0m \u001b[1m0s\u001b[0m 4ms/step - loss: 122736.5156 - mae: 249.3435 - val_loss: 153789.0781 - val_mae: 285.8232\n",
      "Epoch 19/100\n",
      "\u001b[1m27/27\u001b[0m \u001b[32m━━━━━━━━━━━━━━━━━━━━\u001b[0m\u001b[37m\u001b[0m \u001b[1m0s\u001b[0m 4ms/step - loss: 141451.0156 - mae: 273.1409 - val_loss: 152172.9844 - val_mae: 283.6427\n",
      "Epoch 20/100\n",
      "\u001b[1m27/27\u001b[0m \u001b[32m━━━━━━━━━━━━━━━━━━━━\u001b[0m\u001b[37m\u001b[0m \u001b[1m0s\u001b[0m 4ms/step - loss: 118635.7812 - mae: 255.0052 - val_loss: 149101.9844 - val_mae: 282.0710\n",
      "Epoch 21/100\n",
      "\u001b[1m27/27\u001b[0m \u001b[32m━━━━━━━━━━━━━━━━━━━━\u001b[0m\u001b[37m\u001b[0m \u001b[1m0s\u001b[0m 4ms/step - loss: 135601.2656 - mae: 265.7354 - val_loss: 149673.9844 - val_mae: 278.8804\n",
      "Epoch 22/100\n",
      "\u001b[1m27/27\u001b[0m \u001b[32m━━━━━━━━━━━━━━━━━━━━\u001b[0m\u001b[37m\u001b[0m \u001b[1m0s\u001b[0m 5ms/step - loss: 124566.8828 - mae: 254.3949 - val_loss: 148081.2031 - val_mae: 282.0496\n",
      "Epoch 23/100\n",
      "\u001b[1m27/27\u001b[0m \u001b[32m━━━━━━━━━━━━━━━━━━━━\u001b[0m\u001b[37m\u001b[0m \u001b[1m0s\u001b[0m 9ms/step - loss: 122750.4219 - mae: 255.7285 - val_loss: 148080.5938 - val_mae: 280.9445\n",
      "Epoch 24/100\n",
      "\u001b[1m27/27\u001b[0m \u001b[32m━━━━━━━━━━━━━━━━━━━━\u001b[0m\u001b[37m\u001b[0m \u001b[1m0s\u001b[0m 8ms/step - loss: 110550.9375 - mae: 247.6046 - val_loss: 149133.0781 - val_mae: 283.2036\n",
      "Epoch 25/100\n",
      "\u001b[1m27/27\u001b[0m \u001b[32m━━━━━━━━━━━━━━━━━━━━\u001b[0m\u001b[37m\u001b[0m \u001b[1m0s\u001b[0m 5ms/step - loss: 113426.7109 - mae: 244.7149 - val_loss: 147821.5781 - val_mae: 280.7642\n",
      "Epoch 26/100\n",
      "\u001b[1m27/27\u001b[0m \u001b[32m━━━━━━━━━━━━━━━━━━━━\u001b[0m\u001b[37m\u001b[0m \u001b[1m0s\u001b[0m 5ms/step - loss: 125479.0156 - mae: 256.7123 - val_loss: 145936.9375 - val_mae: 275.5398\n",
      "Epoch 27/100\n",
      "\u001b[1m27/27\u001b[0m \u001b[32m━━━━━━━━━━━━━━━━━━━━\u001b[0m\u001b[37m\u001b[0m \u001b[1m0s\u001b[0m 4ms/step - loss: 134284.9531 - mae: 263.9154 - val_loss: 144924.9219 - val_mae: 275.4337\n",
      "Epoch 28/100\n",
      "\u001b[1m27/27\u001b[0m \u001b[32m━━━━━━━━━━━━━━━━━━━━\u001b[0m\u001b[37m\u001b[0m \u001b[1m0s\u001b[0m 4ms/step - loss: 125354.4297 - mae: 245.6393 - val_loss: 145025.4688 - val_mae: 276.9265\n",
      "Epoch 29/100\n",
      "\u001b[1m27/27\u001b[0m \u001b[32m━━━━━━━━━━━━━━━━━━━━\u001b[0m\u001b[37m\u001b[0m \u001b[1m0s\u001b[0m 4ms/step - loss: 114694.7188 - mae: 249.2778 - val_loss: 144348.4375 - val_mae: 274.2337\n",
      "Epoch 30/100\n",
      "\u001b[1m27/27\u001b[0m \u001b[32m━━━━━━━━━━━━━━━━━━━━\u001b[0m\u001b[37m\u001b[0m \u001b[1m0s\u001b[0m 4ms/step - loss: 111777.7891 - mae: 246.9226 - val_loss: 144847.2188 - val_mae: 276.1064\n",
      "Epoch 31/100\n",
      "\u001b[1m27/27\u001b[0m \u001b[32m━━━━━━━━━━━━━━━━━━━━\u001b[0m\u001b[37m\u001b[0m \u001b[1m0s\u001b[0m 4ms/step - loss: 115418.4531 - mae: 247.5024 - val_loss: 144915.6719 - val_mae: 276.5845\n",
      "Epoch 32/100\n",
      "\u001b[1m27/27\u001b[0m \u001b[32m━━━━━━━━━━━━━━━━━━━━\u001b[0m\u001b[37m\u001b[0m \u001b[1m0s\u001b[0m 4ms/step - loss: 134549.8750 - mae: 265.2113 - val_loss: 144364.2656 - val_mae: 274.7891\n",
      "Epoch 33/100\n",
      "\u001b[1m27/27\u001b[0m \u001b[32m━━━━━━━━━━━━━━━━━━━━\u001b[0m\u001b[37m\u001b[0m \u001b[1m0s\u001b[0m 4ms/step - loss: 116042.6562 - mae: 245.3366 - val_loss: 142871.8281 - val_mae: 272.9044\n",
      "Epoch 34/100\n",
      "\u001b[1m27/27\u001b[0m \u001b[32m━━━━━━━━━━━━━━━━━━━━\u001b[0m\u001b[37m\u001b[0m \u001b[1m0s\u001b[0m 4ms/step - loss: 119020.2812 - mae: 250.9770 - val_loss: 143403.0469 - val_mae: 275.0350\n",
      "Epoch 35/100\n",
      "\u001b[1m27/27\u001b[0m \u001b[32m━━━━━━━━━━━━━━━━━━━━\u001b[0m\u001b[37m\u001b[0m \u001b[1m0s\u001b[0m 4ms/step - loss: 123509.0000 - mae: 253.6645 - val_loss: 142322.4375 - val_mae: 272.8814\n",
      "Epoch 36/100\n",
      "\u001b[1m27/27\u001b[0m \u001b[32m━━━━━━━━━━━━━━━━━━━━\u001b[0m\u001b[37m\u001b[0m \u001b[1m0s\u001b[0m 4ms/step - loss: 125232.6484 - mae: 250.1043 - val_loss: 142455.6719 - val_mae: 271.6140\n",
      "Epoch 37/100\n",
      "\u001b[1m27/27\u001b[0m \u001b[32m━━━━━━━━━━━━━━━━━━━━\u001b[0m\u001b[37m\u001b[0m \u001b[1m0s\u001b[0m 4ms/step - loss: 112716.2891 - mae: 242.0828 - val_loss: 142141.2656 - val_mae: 271.0096\n",
      "Epoch 38/100\n",
      "\u001b[1m27/27\u001b[0m \u001b[32m━━━━━━━━━━━━━━━━━━━━\u001b[0m\u001b[37m\u001b[0m \u001b[1m0s\u001b[0m 4ms/step - loss: 119268.1953 - mae: 247.1533 - val_loss: 144157.6406 - val_mae: 275.8306\n",
      "Epoch 39/100\n",
      "\u001b[1m27/27\u001b[0m \u001b[32m━━━━━━━━━━━━━━━━━━━━\u001b[0m\u001b[37m\u001b[0m \u001b[1m0s\u001b[0m 4ms/step - loss: 111410.3203 - mae: 249.4182 - val_loss: 142450.1562 - val_mae: 273.8768\n",
      "Epoch 40/100\n",
      "\u001b[1m27/27\u001b[0m \u001b[32m━━━━━━━━━━━━━━━━━━━━\u001b[0m\u001b[37m\u001b[0m \u001b[1m0s\u001b[0m 4ms/step - loss: 119982.9844 - mae: 241.1909 - val_loss: 141236.0156 - val_mae: 269.4155\n",
      "Epoch 41/100\n",
      "\u001b[1m27/27\u001b[0m \u001b[32m━━━━━━━━━━━━━━━━━━━━\u001b[0m\u001b[37m\u001b[0m \u001b[1m0s\u001b[0m 4ms/step - loss: 108717.5469 - mae: 233.7963 - val_loss: 141846.9219 - val_mae: 274.9071\n",
      "Epoch 42/100\n",
      "\u001b[1m27/27\u001b[0m \u001b[32m━━━━━━━━━━━━━━━━━━━━\u001b[0m\u001b[37m\u001b[0m \u001b[1m0s\u001b[0m 4ms/step - loss: 146186.5625 - mae: 279.6754 - val_loss: 160688.3125 - val_mae: 296.0655\n",
      "Epoch 43/100\n",
      "\u001b[1m27/27\u001b[0m \u001b[32m━━━━━━━━━━━━━━━━━━━━\u001b[0m\u001b[37m\u001b[0m \u001b[1m0s\u001b[0m 4ms/step - loss: 132037.7500 - mae: 259.8474 - val_loss: 142647.8125 - val_mae: 271.1447\n",
      "Epoch 44/100\n",
      "\u001b[1m27/27\u001b[0m \u001b[32m━━━━━━━━━━━━━━━━━━━━\u001b[0m\u001b[37m\u001b[0m \u001b[1m0s\u001b[0m 4ms/step - loss: 114324.4141 - mae: 243.3717 - val_loss: 142739.7969 - val_mae: 273.8828\n",
      "Epoch 45/100\n",
      "\u001b[1m27/27\u001b[0m \u001b[32m━━━━━━━━━━━━━━━━━━━━\u001b[0m\u001b[37m\u001b[0m \u001b[1m0s\u001b[0m 4ms/step - loss: 123526.7969 - mae: 251.0338 - val_loss: 139964.4844 - val_mae: 269.2376\n",
      "Epoch 46/100\n",
      "\u001b[1m27/27\u001b[0m \u001b[32m━━━━━━━━━━━━━━━━━━━━\u001b[0m\u001b[37m\u001b[0m \u001b[1m0s\u001b[0m 4ms/step - loss: 125274.4609 - mae: 250.7249 - val_loss: 138898.3125 - val_mae: 267.6970\n",
      "Epoch 47/100\n",
      "\u001b[1m27/27\u001b[0m \u001b[32m━━━━━━━━━━━━━━━━━━━━\u001b[0m\u001b[37m\u001b[0m \u001b[1m0s\u001b[0m 4ms/step - loss: 131674.8125 - mae: 259.4215 - val_loss: 140238.7969 - val_mae: 271.8413\n",
      "Epoch 48/100\n",
      "\u001b[1m27/27\u001b[0m \u001b[32m━━━━━━━━━━━━━━━━━━━━\u001b[0m\u001b[37m\u001b[0m \u001b[1m0s\u001b[0m 4ms/step - loss: 119934.4062 - mae: 247.3050 - val_loss: 137663.3281 - val_mae: 266.3755\n",
      "Epoch 49/100\n",
      "\u001b[1m27/27\u001b[0m \u001b[32m━━━━━━━━━━━━━━━━━━━━\u001b[0m\u001b[37m\u001b[0m \u001b[1m0s\u001b[0m 4ms/step - loss: 111863.8672 - mae: 248.2778 - val_loss: 138209.8125 - val_mae: 268.0044\n",
      "Epoch 50/100\n",
      "\u001b[1m27/27\u001b[0m \u001b[32m━━━━━━━━━━━━━━━━━━━━\u001b[0m\u001b[37m\u001b[0m \u001b[1m0s\u001b[0m 4ms/step - loss: 106574.0234 - mae: 237.2261 - val_loss: 137728.0000 - val_mae: 267.2694\n",
      "Epoch 51/100\n",
      "\u001b[1m27/27\u001b[0m \u001b[32m━━━━━━━━━━━━━━━━━━━━\u001b[0m\u001b[37m\u001b[0m \u001b[1m0s\u001b[0m 4ms/step - loss: 105588.2812 - mae: 237.4220 - val_loss: 136859.6875 - val_mae: 266.8918\n",
      "Epoch 52/100\n",
      "\u001b[1m27/27\u001b[0m \u001b[32m━━━━━━━━━━━━━━━━━━━━\u001b[0m\u001b[37m\u001b[0m \u001b[1m0s\u001b[0m 4ms/step - loss: 107003.1953 - mae: 239.7233 - val_loss: 137520.2969 - val_mae: 268.0657\n",
      "Epoch 53/100\n",
      "\u001b[1m27/27\u001b[0m \u001b[32m━━━━━━━━━━━━━━━━━━━━\u001b[0m\u001b[37m\u001b[0m \u001b[1m0s\u001b[0m 4ms/step - loss: 120431.6406 - mae: 246.5875 - val_loss: 135560.4375 - val_mae: 264.8890\n",
      "Epoch 54/100\n",
      "\u001b[1m27/27\u001b[0m \u001b[32m━━━━━━━━━━━━━━━━━━━━\u001b[0m\u001b[37m\u001b[0m \u001b[1m0s\u001b[0m 4ms/step - loss: 117771.5000 - mae: 246.0913 - val_loss: 136185.3750 - val_mae: 266.1826\n",
      "Epoch 55/100\n",
      "\u001b[1m27/27\u001b[0m \u001b[32m━━━━━━━━━━━━━━━━━━━━\u001b[0m\u001b[37m\u001b[0m \u001b[1m0s\u001b[0m 4ms/step - loss: 94300.1641 - mae: 225.5881 - val_loss: 137537.1406 - val_mae: 269.6923\n",
      "Epoch 56/100\n",
      "\u001b[1m27/27\u001b[0m \u001b[32m━━━━━━━━━━━━━━━━━━━━\u001b[0m\u001b[37m\u001b[0m \u001b[1m0s\u001b[0m 4ms/step - loss: 111852.8203 - mae: 236.0917 - val_loss: 134915.0000 - val_mae: 261.9514\n",
      "Epoch 57/100\n",
      "\u001b[1m27/27\u001b[0m \u001b[32m━━━━━━━━━━━━━━━━━━━━\u001b[0m\u001b[37m\u001b[0m \u001b[1m0s\u001b[0m 4ms/step - loss: 133518.4062 - mae: 255.9577 - val_loss: 135692.0625 - val_mae: 266.4822\n",
      "Epoch 58/100\n",
      "\u001b[1m27/27\u001b[0m \u001b[32m━━━━━━━━━━━━━━━━━━━━\u001b[0m\u001b[37m\u001b[0m \u001b[1m0s\u001b[0m 4ms/step - loss: 104306.7500 - mae: 235.5777 - val_loss: 134472.4688 - val_mae: 263.9429\n",
      "Epoch 59/100\n",
      "\u001b[1m27/27\u001b[0m \u001b[32m━━━━━━━━━━━━━━━━━━━━\u001b[0m\u001b[37m\u001b[0m \u001b[1m0s\u001b[0m 10ms/step - loss: 110248.4922 - mae: 239.5686 - val_loss: 134946.2344 - val_mae: 264.2619\n",
      "Epoch 60/100\n",
      "\u001b[1m27/27\u001b[0m \u001b[32m━━━━━━━━━━━━━━━━━━━━\u001b[0m\u001b[37m\u001b[0m \u001b[1m0s\u001b[0m 4ms/step - loss: 107251.0469 - mae: 238.9823 - val_loss: 135483.5938 - val_mae: 264.4490\n",
      "Epoch 61/100\n",
      "\u001b[1m27/27\u001b[0m \u001b[32m━━━━━━━━━━━━━━━━━━━━\u001b[0m\u001b[37m\u001b[0m \u001b[1m0s\u001b[0m 4ms/step - loss: 98305.8672 - mae: 225.3451 - val_loss: 134897.4844 - val_mae: 264.2405\n",
      "Epoch 62/100\n",
      "\u001b[1m27/27\u001b[0m \u001b[32m━━━━━━━━━━━━━━━━━━━━\u001b[0m\u001b[37m\u001b[0m \u001b[1m0s\u001b[0m 4ms/step - loss: 106930.7109 - mae: 237.0989 - val_loss: 135816.3594 - val_mae: 263.8624\n",
      "Epoch 63/100\n",
      "\u001b[1m27/27\u001b[0m \u001b[32m━━━━━━━━━━━━━━━━━━━━\u001b[0m\u001b[37m\u001b[0m \u001b[1m0s\u001b[0m 4ms/step - loss: 110102.8203 - mae: 241.2692 - val_loss: 135686.0312 - val_mae: 265.9714\n",
      "Epoch 64/100\n",
      "\u001b[1m27/27\u001b[0m \u001b[32m━━━━━━━━━━━━━━━━━━━━\u001b[0m\u001b[37m\u001b[0m \u001b[1m0s\u001b[0m 5ms/step - loss: 101276.0781 - mae: 233.8706 - val_loss: 134141.5938 - val_mae: 263.9927\n",
      "Epoch 65/100\n",
      "\u001b[1m27/27\u001b[0m \u001b[32m━━━━━━━━━━━━━━━━━━━━\u001b[0m\u001b[37m\u001b[0m \u001b[1m0s\u001b[0m 4ms/step - loss: 100977.2812 - mae: 228.6360 - val_loss: 134752.9062 - val_mae: 264.1096\n",
      "Epoch 66/100\n",
      "\u001b[1m27/27\u001b[0m \u001b[32m━━━━━━━━━━━━━━━━━━━━\u001b[0m\u001b[37m\u001b[0m \u001b[1m0s\u001b[0m 4ms/step - loss: 111179.4453 - mae: 236.3974 - val_loss: 135390.5469 - val_mae: 267.6007\n",
      "Epoch 67/100\n",
      "\u001b[1m27/27\u001b[0m \u001b[32m━━━━━━━━━━━━━━━━━━━━\u001b[0m\u001b[37m\u001b[0m \u001b[1m0s\u001b[0m 4ms/step - loss: 102294.8828 - mae: 229.9302 - val_loss: 133091.6406 - val_mae: 265.0349\n",
      "Epoch 68/100\n",
      "\u001b[1m27/27\u001b[0m \u001b[32m━━━━━━━━━━━━━━━━━━━━\u001b[0m\u001b[37m\u001b[0m \u001b[1m0s\u001b[0m 4ms/step - loss: 117158.6172 - mae: 236.3837 - val_loss: 133442.2812 - val_mae: 263.4603\n",
      "Epoch 69/100\n",
      "\u001b[1m27/27\u001b[0m \u001b[32m━━━━━━━━━━━━━━━━━━━━\u001b[0m\u001b[37m\u001b[0m \u001b[1m0s\u001b[0m 4ms/step - loss: 94096.0625 - mae: 222.4435 - val_loss: 133912.2344 - val_mae: 264.5948\n",
      "Epoch 70/100\n",
      "\u001b[1m27/27\u001b[0m \u001b[32m━━━━━━━━━━━━━━━━━━━━\u001b[0m\u001b[37m\u001b[0m \u001b[1m0s\u001b[0m 4ms/step - loss: 96043.0625 - mae: 226.7173 - val_loss: 132797.2031 - val_mae: 262.1873\n",
      "Epoch 71/100\n",
      "\u001b[1m27/27\u001b[0m \u001b[32m━━━━━━━━━━━━━━━━━━━━\u001b[0m\u001b[37m\u001b[0m \u001b[1m0s\u001b[0m 4ms/step - loss: 99649.5547 - mae: 225.2014 - val_loss: 131891.0625 - val_mae: 261.0109\n",
      "Epoch 72/100\n",
      "\u001b[1m27/27\u001b[0m \u001b[32m━━━━━━━━━━━━━━━━━━━━\u001b[0m\u001b[37m\u001b[0m \u001b[1m0s\u001b[0m 4ms/step - loss: 110299.8125 - mae: 241.8226 - val_loss: 131687.8594 - val_mae: 259.5900\n",
      "Epoch 73/100\n",
      "\u001b[1m27/27\u001b[0m \u001b[32m━━━━━━━━━━━━━━━━━━━━\u001b[0m\u001b[37m\u001b[0m \u001b[1m0s\u001b[0m 4ms/step - loss: 107474.3594 - mae: 236.8812 - val_loss: 131942.1562 - val_mae: 258.8040\n",
      "Epoch 74/100\n",
      "\u001b[1m27/27\u001b[0m \u001b[32m━━━━━━━━━━━━━━━━━━━━\u001b[0m\u001b[37m\u001b[0m \u001b[1m0s\u001b[0m 4ms/step - loss: 103270.3750 - mae: 233.7937 - val_loss: 133150.6094 - val_mae: 261.2188\n",
      "Epoch 75/100\n",
      "\u001b[1m27/27\u001b[0m \u001b[32m━━━━━━━━━━━━━━━━━━━━\u001b[0m\u001b[37m\u001b[0m \u001b[1m0s\u001b[0m 4ms/step - loss: 112232.7578 - mae: 234.1995 - val_loss: 134377.6562 - val_mae: 263.5263\n",
      "Epoch 76/100\n",
      "\u001b[1m27/27\u001b[0m \u001b[32m━━━━━━━━━━━━━━━━━━━━\u001b[0m\u001b[37m\u001b[0m \u001b[1m0s\u001b[0m 4ms/step - loss: 101592.1172 - mae: 230.0079 - val_loss: 133930.1250 - val_mae: 260.7256\n",
      "Epoch 77/100\n",
      "\u001b[1m27/27\u001b[0m \u001b[32m━━━━━━━━━━━━━━━━━━━━\u001b[0m\u001b[37m\u001b[0m \u001b[1m0s\u001b[0m 4ms/step - loss: 95155.2188 - mae: 223.0086 - val_loss: 133086.4688 - val_mae: 257.8380\n",
      "Epoch 78/100\n",
      "\u001b[1m27/27\u001b[0m \u001b[32m━━━━━━━━━━━━━━━━━━━━\u001b[0m\u001b[37m\u001b[0m \u001b[1m0s\u001b[0m 4ms/step - loss: 116199.5859 - mae: 241.0003 - val_loss: 134734.2031 - val_mae: 259.3302\n",
      "Epoch 79/100\n",
      "\u001b[1m27/27\u001b[0m \u001b[32m━━━━━━━━━━━━━━━━━━━━\u001b[0m\u001b[37m\u001b[0m \u001b[1m0s\u001b[0m 4ms/step - loss: 99763.8516 - mae: 228.1584 - val_loss: 134420.7031 - val_mae: 258.8595\n",
      "Epoch 80/100\n",
      "\u001b[1m27/27\u001b[0m \u001b[32m━━━━━━━━━━━━━━━━━━━━\u001b[0m\u001b[37m\u001b[0m \u001b[1m0s\u001b[0m 4ms/step - loss: 91683.2188 - mae: 219.3984 - val_loss: 135219.8281 - val_mae: 262.0866\n",
      "Epoch 81/100\n",
      "\u001b[1m27/27\u001b[0m \u001b[32m━━━━━━━━━━━━━━━━━━━━\u001b[0m\u001b[37m\u001b[0m \u001b[1m0s\u001b[0m 4ms/step - loss: 95376.5312 - mae: 228.6289 - val_loss: 134152.0938 - val_mae: 260.2243\n",
      "Epoch 82/100\n",
      "\u001b[1m27/27\u001b[0m \u001b[32m━━━━━━━━━━━━━━━━━━━━\u001b[0m\u001b[37m\u001b[0m \u001b[1m0s\u001b[0m 4ms/step - loss: 118220.9141 - mae: 242.0084 - val_loss: 133297.3750 - val_mae: 260.5574\n",
      "\u001b[1m9/9\u001b[0m \u001b[32m━━━━━━━━━━━━━━━━━━━━\u001b[0m\u001b[37m\u001b[0m \u001b[1m0s\u001b[0m 7ms/step \n",
      "Нейронная сеть (с изменённой скоростью обучения):\n",
      "Среднеквадратичная ошибка (MSE): 132994.29\n",
      "Коэффициент детерминации (R²): 0.74\n"
     ]
    }
   ],
   "source": [
    "# Создание модели с изменённой скоростью обучения\n",
    "model = Sequential([\n",
    "    Dense(128, activation='relu', input_shape=(X_train_scaled.shape[1],)),\n",
    "    Dropout(0.2),\n",
    "    Dense(64, activation='relu'),\n",
    "    Dropout(0.2),\n",
    "    Dense(32, activation='relu'),\n",
    "    Dense(1)\n",
    "])\n",
    "\n",
    "# Компиляция модели с изменённой скоростью обучения\n",
    "model.compile(optimizer=Adam(learning_rate=0.001), loss='mse', metrics=['mae'])\n",
    "\n",
    "# Обучение модели\n",
    "history = model.fit(X_train_scaled, y_train, validation_split=0.2, epochs=100, batch_size=32, callbacks=[early_stopping], verbose=1)\n",
    "\n",
    "# Предсказание\n",
    "y_pred_nn = model.predict(X_test_scaled).flatten()\n",
    "\n",
    "# Оценка модели\n",
    "nn_mse = mean_squared_error(y_test, y_pred_nn)\n",
    "nn_r2 = r2_score(y_test, y_pred_nn)\n",
    "\n",
    "print('Нейронная сеть (с изменённой скоростью обучения):')\n",
    "print(f'Среднеквадратичная ошибка (MSE): {nn_mse:.2f}')\n",
    "print(f'Коэффициент детерминации (R²): {nn_r2:.2f}')"
   ]
  },
  {
   "cell_type": "markdown",
   "id": "bc6bec0f-4192-46d6-b3b7-357eed423f5f",
   "metadata": {},
   "source": [
    "### 4. Сравнение с другими моделями"
   ]
  },
  {
   "cell_type": "code",
   "execution_count": 50,
   "id": "7afd7377-d1ee-48e3-9de1-53b211cbde64",
   "metadata": {},
   "outputs": [
    {
     "name": "stdout",
     "output_type": "stream",
     "text": [
      "Сравнение всех моделей:\n",
      "Линейная регрессия: MSE = 158709.78, R² = 0.69\n",
      "Случайный лес: MSE = 86341.67, R² = 0.83\n",
      "Градиентный бустинг: MSE = 83271.08, R² = 0.84\n",
      "XGBoost: MSE = 87460.01, R² = 0.83\n",
      "LightGBM: MSE = 102221.73, R² = 0.80\n",
      "Лучшая XGBoost: MSE = 71780.48, R² = 0.86\n",
      "Лучшая LightGBM: MSE = 82825.38, R² = 0.84\n",
      "Нейронная сеть: MSE = 132994.29, R² = 0.74\n"
     ]
    }
   ],
   "source": [
    "# Обновлённое сравнение всех моделей\n",
    "print(\"Сравнение всех моделей:\")\n",
    "print(f\"Линейная регрессия: MSE = {lr_mse:.2f}, R² = {lr_r2:.2f}\")\n",
    "print(f\"Случайный лес: MSE = {rf_mse:.2f}, R² = {rf_r2:.2f}\")\n",
    "print(f\"Градиентный бустинг: MSE = {gb_mse:.2f}, R² = {gb_r2:.2f}\")\n",
    "print(f\"XGBoost: MSE = {xgb_mse:.2f}, R² = {xgb_r2:.2f}\")\n",
    "print(f\"LightGBM: MSE = {lgb_mse:.2f}, R² = {lgb_r2:.2f}\")\n",
    "print(f\"Лучшая XGBoost: MSE = {best_xgb_mse:.2f}, R² = {best_xgb_r2:.2f}\")\n",
    "print(f\"Лучшая LightGBM: MSE = {best_lgb_mse:.2f}, R² = {best_lgb_r2:.2f}\")\n",
    "print(f\"Нейронная сеть: MSE = {nn_mse:.2f}, R² = {nn_r2:.2f}\")"
   ]
  },
  {
   "cell_type": "code",
   "execution_count": 51,
   "id": "5ddd07c0-a360-46a4-9810-a537a152acf5",
   "metadata": {},
   "outputs": [
    {
     "name": "stdout",
     "output_type": "stream",
     "text": [
      "\n",
      "Лучшая модель: Best XGBoost с R² = 0.86\n"
     ]
    }
   ],
   "source": [
    "# Обновление словаря сравнения\n",
    "models_comparison['Neural Network'] = nn_r2\n",
    "\n",
    "best_model_name = max(models_comparison, key=models_comparison.get)\n",
    "print(f'\\nЛучшая модель: {best_model_name} с R² = {models_comparison[best_model_name]:.2f}')"
   ]
  },
  {
   "cell_type": "markdown",
   "id": "e18f04a7-edf0-4cb9-9af5-e513b568c0be",
   "metadata": {},
   "source": [
    "# 9. Сохранение лучшей модели"
   ]
  },
  {
   "cell_type": "markdown",
   "id": "f8104e55-9d08-4a2d-9ff8-ff722b9b52d8",
   "metadata": {},
   "source": [
    "После выбора лучшей модели (например, best_xgb_model, best_lgb_model или нейронной сети) важно сохранить ее, чтобы использовать в будущем без необходимости повторного обучения.  \n",
    "Это особенно полезно, если планируется интегрировать модель в приложение, веб-сервис или использовать ее для предсказаний на новых данных.  \n",
    "Также важно сохранить объекты предобработки (например, StandardScaler и LabelEncoder), чтобы корректно обрабатывать новые данные."
   ]
  },
  {
   "cell_type": "markdown",
   "id": "d90aba2a-2c19-44a2-900f-f3f0783cdc8b",
   "metadata": {},
   "source": [
    "## 9.1 Сохранение модели машинного обучения (XGBoost, LightGBM, RandomForest и др.)"
   ]
  },
  {
   "cell_type": "code",
   "execution_count": 52,
   "id": "ff948976-348b-452a-ab48-12920f90af2f",
   "metadata": {},
   "outputs": [],
   "source": [
    "import joblib"
   ]
  },
  {
   "cell_type": "code",
   "execution_count": 53,
   "id": "a4b9f292-c5e4-4968-90d0-88f467606687",
   "metadata": {},
   "outputs": [
    {
     "name": "stdout",
     "output_type": "stream",
     "text": [
      "Модель XGBoost сохранена как 'best_xgb_model.pkl'\n"
     ]
    }
   ],
   "source": [
    "# Сохранение лучшей модели XGBoost\n",
    "joblib.dump(best_xgb_model, 'best_xgb_model.pkl')\n",
    "print(\"Модель XGBoost сохранена как 'best_xgb_model.pkl'\")"
   ]
  },
  {
   "cell_type": "code",
   "execution_count": 54,
   "id": "17057471-db89-43fe-8b92-efa1c57d2f34",
   "metadata": {},
   "outputs": [
    {
     "name": "stdout",
     "output_type": "stream",
     "text": [
      "Модель LightGBM сохранена как 'best_lgb_model.pkl'\n"
     ]
    }
   ],
   "source": [
    "# Сохранение лучшей модели LightGBM:\n",
    "joblib.dump(best_lgb_model, 'best_lgb_model.pkl')\n",
    "print(\"Модель LightGBM сохранена как 'best_lgb_model.pkl'\")"
   ]
  },
  {
   "cell_type": "code",
   "execution_count": 55,
   "id": "2a9c3333-bc27-4a9e-8785-bef10c669424",
   "metadata": {},
   "outputs": [
    {
     "name": "stdout",
     "output_type": "stream",
     "text": [
      "Модель LightGBM сохранена как 'best_lgb_model.txt'\n"
     ]
    }
   ],
   "source": [
    "# Альтернативный способ (встроенный метод LightGBM)\n",
    "best_lgb_model.booster_.save_model('best_lgb_model.txt')\n",
    "print(\"Модель LightGBM сохранена как 'best_lgb_model.txt'\")"
   ]
  },
  {
   "cell_type": "markdown",
   "id": "274998a1-3503-436e-9d05-b8dd6c436b31",
   "metadata": {},
   "source": [
    "## Сохранение объектов предобработки"
   ]
  },
  {
   "cell_type": "code",
   "execution_count": 56,
   "id": "9ebd3063-8e9d-4b4c-b883-4fea1edd4d65",
   "metadata": {},
   "outputs": [
    {
     "name": "stdout",
     "output_type": "stream",
     "text": [
      "Объект StandardScaler сохранен как 'scaler.pkl'\n"
     ]
    }
   ],
   "source": [
    "# Сохранение StandardScaler\n",
    "joblib.dump(scaler, 'scaler.pkl')\n",
    "print(\"Объект StandardScaler сохранен как 'scaler.pkl'\")"
   ]
  },
  {
   "cell_type": "code",
   "execution_count": 57,
   "id": "b475e0f0-ea87-4706-8322-99d74978b8c3",
   "metadata": {},
   "outputs": [
    {
     "name": "stdout",
     "output_type": "stream",
     "text": [
      "Объект LabelEncoder для столбца 'Company' сохранён как 'label_encoder_Company.pkl'\n",
      "Объект LabelEncoder для столбца 'Product' сохранён как 'label_encoder_Product.pkl'\n",
      "Объект LabelEncoder для столбца 'TypeName' сохранён как 'label_encoder_TypeName.pkl'\n",
      "Объект LabelEncoder для столбца 'Cpu' сохранён как 'label_encoder_Cpu.pkl'\n",
      "Объект LabelEncoder для столбца 'Gpu' сохранён как 'label_encoder_Gpu.pkl'\n",
      "Объект LabelEncoder для столбца 'OpSys' сохранён как 'label_encoder_OpSys.pkl'\n",
      "Объект LabelEncoder для столбца 'Memory_Type' сохранён как 'label_encoder_Memory_Type.pkl'\n"
     ]
    }
   ],
   "source": [
    "# Сохранение LabelEncoder для каждого категориального столбца\n",
    "for col, le in label_encoders.items():\n",
    "    joblib.dump(le, f'label_encoder_{col}.pkl')\n",
    "    print(f\"Объект LabelEncoder для столбца '{col}' сохранён как 'label_encoder_{col}.pkl'\")"
   ]
  },
  {
   "cell_type": "markdown",
   "id": "f8aa0fb6-6a7d-4810-96c4-ff012b46fc4f",
   "metadata": {},
   "source": [
    "## 9.2 Сохранение нейронной сети"
   ]
  },
  {
   "cell_type": "markdown",
   "id": "091b92c1-91f2-41d3-a704-f9a5456fc6b5",
   "metadata": {},
   "source": [
    "Для сохранения нейронной сети, построенной с помощью TensorFlow/Keras, используются встроенные методы model.save() или сохранение весов и архитектуры отдельно.\r\n"
   ]
  },
  {
   "cell_type": "code",
   "execution_count": 58,
   "id": "48199763-230f-4a0f-8f3c-cdeb3206c02b",
   "metadata": {},
   "outputs": [
    {
     "name": "stdout",
     "output_type": "stream",
     "text": [
      "Нейронная сеть сохранена как 'neural_network_model.keras'\n"
     ]
    }
   ],
   "source": [
    "# Сохранение всей модели нейронной сети\n",
    "model.save('neural_network_model.keras')\n",
    "print(\"Нейронная сеть сохранена как 'neural_network_model.keras'\")"
   ]
  },
  {
   "cell_type": "code",
   "execution_count": 59,
   "id": "fd5be636-f16d-4585-adb3-fac4f66dbd32",
   "metadata": {},
   "outputs": [
    {
     "name": "stdout",
     "output_type": "stream",
     "text": [
      "Веса нейронной сети сохранены как 'neural_network_weights.keras'\n"
     ]
    }
   ],
   "source": [
    "# Сохранение только весов\n",
    "model.save('neural_network_weights.keras')\n",
    "print(\"Веса нейронной сети сохранены как 'neural_network_weights.keras'\")"
   ]
  },
  {
   "cell_type": "markdown",
   "id": "49f3dba2-b155-488c-89ed-8cc7a901649e",
   "metadata": {},
   "source": [
    "## 9.3 Загрузка сохранённой модели"
   ]
  },
  {
   "cell_type": "markdown",
   "id": "95108caf-30aa-4343-a3f2-899a32cd92d2",
   "metadata": {},
   "source": [
    "Чтобы использовать сохраненную модель для предсказаний на новых данных, нужно загрузить модель и объекты предобработки.  \n"
   ]
  },
  {
   "cell_type": "code",
   "execution_count": 60,
   "id": "f2d68207-70e5-44fc-8295-5246229541da",
   "metadata": {},
   "outputs": [
    {
     "name": "stdout",
     "output_type": "stream",
     "text": [
      "Модель XGBoost загружена\n"
     ]
    }
   ],
   "source": [
    "# Загрузка модели XGBoost\n",
    "loaded_xgb_model = joblib.load('best_xgb_model.pkl')\n",
    "print(\"Модель XGBoost загружена\")"
   ]
  },
  {
   "cell_type": "code",
   "execution_count": 61,
   "id": "a08cf012-482f-40cf-93ee-b6954b2369a1",
   "metadata": {},
   "outputs": [
    {
     "name": "stdout",
     "output_type": "stream",
     "text": [
      "Объект StandartScaler загружен\n"
     ]
    }
   ],
   "source": [
    "# Загрузка StandartScaler\n",
    "loaded_scaler = joblib.load('scaler.pkl')\n",
    "print(\"Объект StandartScaler загружен\")"
   ]
  },
  {
   "cell_type": "code",
   "execution_count": 62,
   "id": "c00c9eb6-0375-4120-a53f-714004b620ea",
   "metadata": {},
   "outputs": [
    {
     "name": "stdout",
     "output_type": "stream",
     "text": [
      "Объект LabelEncoder для столбца 'Company загружен'\n",
      "Объект LabelEncoder для столбца 'Product загружен'\n",
      "Объект LabelEncoder для столбца 'TypeName загружен'\n",
      "Объект LabelEncoder для столбца 'Cpu загружен'\n",
      "Объект LabelEncoder для столбца 'Gpu загружен'\n",
      "Объект LabelEncoder для столбца 'OpSys загружен'\n",
      "Объект LabelEncoder для столбца 'Memory_Type загружен'\n"
     ]
    }
   ],
   "source": [
    "# Загрузка LabelEncoder для каждого категориального столбца\n",
    "loaded_label_encoders = {}\n",
    "for col in categorical_columns:\n",
    "    loaded_label_encoders[col] = joblib.load(f'label_encoder_{col}.pkl')\n",
    "    print(f\"Объект LabelEncoder для столбца '{col} загружен'\")"
   ]
  },
  {
   "cell_type": "markdown",
   "id": "c203b080-77fd-4190-8713-5f55543cb481",
   "metadata": {},
   "source": [
    "### Для нейронной сети"
   ]
  },
  {
   "cell_type": "code",
   "execution_count": 63,
   "id": "debbce66-d637-494b-8609-ae09c00b1f85",
   "metadata": {},
   "outputs": [],
   "source": [
    "from tensorflow.keras.models import load_model"
   ]
  },
  {
   "cell_type": "code",
   "execution_count": 64,
   "id": "a3011723-dff0-4d83-9bfd-a2bee15d641d",
   "metadata": {},
   "outputs": [
    {
     "name": "stdout",
     "output_type": "stream",
     "text": [
      "Нейронная сеть загружена\n"
     ]
    }
   ],
   "source": [
    "# Загрузка всей модели нейронной сети\n",
    "loded_nn_model = load_model('neural_network_model.keras')\n",
    "print(\"Нейронная сеть загружена\")"
   ]
  },
  {
   "cell_type": "markdown",
   "id": "1394672c-fb4c-4966-b726-5a081252f627",
   "metadata": {},
   "source": [
    "## 9.4 Пример использования загруженной модели для предсказания"
   ]
  },
  {
   "cell_type": "markdown",
   "id": "f0241e56-78b8-4c36-9315-75d5c6f43358",
   "metadata": {},
   "source": [
    "### Пример для XGBoost"
   ]
  },
  {
   "cell_type": "code",
   "execution_count": 65,
   "id": "43a70ff4-fffc-42dc-8f22-606c87bb1a28",
   "metadata": {},
   "outputs": [],
   "source": [
    "# Пример новых данных\n",
    "new_data = pd.DataFrame({\n",
    "    'Company': ['Apple'],\n",
    "    'Product': ['MacBook Pro'],\n",
    "    'TypeName': ['Ultrabook'],\n",
    "    'Inches': [13.3],\n",
    "    'ScreenResolution': ['IPS Panel Retina Display 2560x1600'],\n",
    "    'Cpu': ['Intel Core i5 2.3GHz'],\n",
    "    'Ram': ['8GB'],\n",
    "    'Memory': ['128GB SSD'],\n",
    "    'Gpu': ['Intel Iris Plus Graphics 640'],\n",
    "    'OpSys': ['macOS'],\n",
    "    'Weight': ['1.37kg']\n",
    "})"
   ]
  },
  {
   "cell_type": "markdown",
   "id": "cd38cb92-5e49-49e9-800a-f563abb6f659",
   "metadata": {},
   "source": [
    "### Предобработка новых данных"
   ]
  },
  {
   "cell_type": "markdown",
   "id": "7d33efdd-a75c-4f94-b0c3-0383cd33e9ab",
   "metadata": {},
   "source": [
    "#### 1. Удаление ненужных столбцов"
   ]
  },
  {
   "cell_type": "code",
   "execution_count": 66,
   "id": "cfa2227b-c5c7-4496-ab30-994c6cda5e7d",
   "metadata": {},
   "outputs": [],
   "source": [
    "if 'laptop_ID' in new_data.columns:\n",
    "    new_data = new_data.drop('laptop_ID', axis=1)"
   ]
  },
  {
   "cell_type": "markdown",
   "id": "1f886598-b3c2-40a2-9fcb-64fbee9fa2e1",
   "metadata": {},
   "source": [
    "#### 2. Обработка Ram"
   ]
  },
  {
   "cell_type": "code",
   "execution_count": 67,
   "id": "a3413a3d-bbee-4240-b4d5-2d7f21d8b7bf",
   "metadata": {},
   "outputs": [],
   "source": [
    "new_data['Ram'] = new_data['Ram'].str.replace('GB', '').astype(int)"
   ]
  },
  {
   "cell_type": "markdown",
   "id": "ae3ccd6c-295a-4300-83de-d7ebcd09142f",
   "metadata": {},
   "source": [
    "#### 3. Обработка Weight"
   ]
  },
  {
   "cell_type": "code",
   "execution_count": 68,
   "id": "ef8c5b87-da10-4345-b7df-0dff694d0b51",
   "metadata": {},
   "outputs": [],
   "source": [
    "new_data['Weight'] = new_data['Weight'].str.replace('kg', '').astype(float)"
   ]
  },
  {
   "cell_type": "markdown",
   "id": "310d4fd9-dfd1-4083-83e0-c597d5cd5c2d",
   "metadata": {},
   "source": [
    "#### 4. Обработка Memory"
   ]
  },
  {
   "cell_type": "code",
   "execution_count": 69,
   "id": "a25f80f4-827b-48da-b14f-0e8fea33a8c8",
   "metadata": {},
   "outputs": [],
   "source": [
    "new_data['Memory_Size'] = new_data['Memory'].apply(extract_memory_size)\n",
    "new_data['Memory_Type'] = new_data['Memory'].apply(extract_memory_type)\n",
    "new_data = new_data.drop('Memory', axis=1)"
   ]
  },
  {
   "cell_type": "markdown",
   "id": "17f8af66-6c84-4cf8-83d3-e093b0339ef7",
   "metadata": {},
   "source": [
    "#### 5. Обработка ScreenResolution"
   ]
  },
  {
   "cell_type": "code",
   "execution_count": 70,
   "id": "403cb2d7-6e00-4172-ade5-135ef58401c4",
   "metadata": {},
   "outputs": [],
   "source": [
    "new_data['Resolution'] = new_data['ScreenResolution'].str.extract(r'(\\d+x\\d+)$')\n",
    "new_data[['Resolution_Width', 'Resolution_Height']] = new_data['Resolution'].str.split('x', expand=True).astype(int)\n",
    "new_data = new_data.drop(['ScreenResolution', 'Resolution'], axis=1)"
   ]
  },
  {
   "cell_type": "markdown",
   "id": "cb7ed4be-e123-4e1e-837d-dc1114dc9659",
   "metadata": {},
   "source": [
    "#### 6. Кодирование категориальных признаков"
   ]
  },
  {
   "cell_type": "code",
   "execution_count": 71,
   "id": "b9ea6c5e-19c3-4339-8f0b-1961946b107b",
   "metadata": {},
   "outputs": [],
   "source": [
    "for col in categorical_columns:\n",
    "    new_data[col] = loaded_label_encoders[col].transform(new_data[col])"
   ]
  },
  {
   "cell_type": "markdown",
   "id": "c425cb00-6e53-44f8-9f91-d99c686e669a",
   "metadata": {},
   "source": [
    "#### 7. Масштабирование числовых признаков с использованием загруженного scaler"
   ]
  },
  {
   "cell_type": "code",
   "execution_count": 72,
   "id": "acc43c9a-b037-4016-82ab-356bdc9ba7c8",
   "metadata": {},
   "outputs": [],
   "source": [
    "new_data_scaled = loaded_scaler.transform(new_data)"
   ]
  },
  {
   "cell_type": "markdown",
   "id": "34f4a2ea-6121-40d2-8dee-5dfce4a0ed27",
   "metadata": {},
   "source": [
    "#### 8. Предсказание с использованием загруженной модели XGBoost"
   ]
  },
  {
   "cell_type": "code",
   "execution_count": 73,
   "id": "b49912b6-47c3-41fa-b48a-b7fe33711bf8",
   "metadata": {},
   "outputs": [
    {
     "name": "stdout",
     "output_type": "stream",
     "text": [
      "Предсказанная цена для нового ноутбука: 1436.51 евро\n"
     ]
    }
   ],
   "source": [
    "new_prediction = loaded_xgb_model.predict(new_data_scaled)\n",
    "print(f\"Предсказанная цена для нового ноутбука: {new_prediction[0]:.2f} евро\")"
   ]
  },
  {
   "cell_type": "markdown",
   "id": "283f6a3a-c13a-420a-8556-5a95af697526",
   "metadata": {},
   "source": [
    "#### 9. Предсказание с использованием загруженной нейронной сети"
   ]
  },
  {
   "cell_type": "code",
   "execution_count": 74,
   "id": "b6331952-bf35-4900-9c32-e58df99279e3",
   "metadata": {},
   "outputs": [
    {
     "name": "stdout",
     "output_type": "stream",
     "text": [
      "\u001b[1m1/1\u001b[0m \u001b[32m━━━━━━━━━━━━━━━━━━━━\u001b[0m\u001b[37m\u001b[0m \u001b[1m0s\u001b[0m 83ms/step\n",
      "Предсказанная цена для нового ноутбука (нейронная сеть): 1823.79 евро\n"
     ]
    }
   ],
   "source": [
    "new_prediction_nn = loded_nn_model.predict(new_data_scaled).flatten()\n",
    "print(f\"Предсказанная цена для нового ноутбука (нейронная сеть): {new_prediction_nn[0]:.2f} евро\")"
   ]
  },
  {
   "cell_type": "markdown",
   "id": "4d3bc8b5-9dc4-40cb-8a11-3e4631ef91de",
   "metadata": {},
   "source": [
    "# 10. Интерпретация результатов и выводы"
   ]
  },
  {
   "cell_type": "markdown",
   "id": "b8c4c65f-51f8-407e-9537-fe4d64f6f6c9",
   "metadata": {},
   "source": [
    "#### Качество моделей"
   ]
  },
  {
   "cell_type": "markdown",
   "id": "024fb22a-1921-43b1-82a5-eaf96b80d8f0",
   "metadata": {},
   "source": [
    "\n",
    "| Модель              | MSE         | R²   |\r\n",
    "|---------------------|-------------|------|\r\n",
    "| Линейная регрессия  | 158709.78   | 0.69 |\r\n",
    "| Случайный лес       | 86341.67    | 0.83 |\r\n",
    "| Градиентный бустинг | 83271.08    | 0.84 |\r\n",
    "| XGBoost             | 87460.01    | 0.83 |\r\n",
    "| LightGBM            | 102221.73   | 0.80 |\r\n",
    "| Best XGBoost        | 71780.48    | 0.86 |\r\n",
    "| Best LightGBM       | 82825.38    | 0.84 |\r\n",
    "| Нейронная сеть      | 130739.59   | 0.74 | | 0.74 |"
   ]
  },
  {
   "cell_type": "code",
   "execution_count": 75,
   "id": "0a0e9c7b-91d8-44e6-8eea-bec2035160df",
   "metadata": {},
   "outputs": [
    {
     "name": "stdout",
     "output_type": "stream",
     "text": [
      "Лучшая модель: Best XGBoost с R² = 0.86\n"
     ]
    }
   ],
   "source": [
    "print(f\"Лучшая модель: {best_model_name} с R² = {models_comparison[best_model_name]:.2f}\")"
   ]
  },
  {
   "cell_type": "markdown",
   "id": "a7c71e5f-4c19-4f19-adf2-d9596fdc8e28",
   "metadata": {},
   "source": [
    "#### Важность признаков"
   ]
  },
  {
   "cell_type": "code",
   "execution_count": 76,
   "id": "b2a46a7f-0bc8-43ee-8dd1-e4ecfdf868be",
   "metadata": {},
   "outputs": [
    {
     "name": "stdout",
     "output_type": "stream",
     "text": [
      "\n",
      "Наиболее важные признаки: Random Forest\n",
      "    Feature  Importance\n",
      "0   Company    0.019398\n",
      "1   Product    0.061483\n",
      "2  TypeName    0.023761\n",
      "3    Inches    0.023804\n",
      "4       Cpu    0.056940\n",
      "\n",
      "Наиболее важные признаки: Gradient Boosting\n",
      "    Feature  Importance\n",
      "0   Company    0.010342\n",
      "1   Product    0.047252\n",
      "2  TypeName    0.022239\n",
      "3    Inches    0.018054\n",
      "4       Cpu    0.088126\n",
      "\n",
      "Наиболее важные признаки: XGBoost\n",
      "    Feature  Importance\n",
      "0   Company    0.009547\n",
      "1   Product    0.012714\n",
      "2  TypeName    0.028519\n",
      "3    Inches    0.021111\n",
      "4       Cpu    0.055920\n",
      "\n",
      "Наиболее важные признаки: LightGBM\n",
      "    Feature  Importance\n",
      "0   Company          36\n",
      "1   Product         103\n",
      "2  TypeName          27\n",
      "3    Inches          33\n",
      "4       Cpu          52\n",
      "\n",
      "Наиболее важные признаки: Best XGBoost\n",
      "    Feature  Importance\n",
      "0   Company    0.013197\n",
      "1   Product    0.018252\n",
      "2  TypeName    0.038358\n",
      "3    Inches    0.027482\n",
      "4       Cpu    0.056922\n",
      "\n",
      "Наиболее важные признаки: Best LightGBM\n",
      "    Feature  Importance\n",
      "0   Company         249\n",
      "1   Product         908\n",
      "2  TypeName         104\n",
      "3    Inches         160\n",
      "4       Cpu         506\n"
     ]
    }
   ],
   "source": [
    "for best_model_name in ['Random Forest', 'Gradient Boosting', 'XGBoost', 'LightGBM', 'Best XGBoost', 'Best LightGBM']:\n",
    "    if best_model_name == 'Random Forest':\n",
    "        best_model = rf_model\n",
    "    elif best_model_name == 'Gradient Boosting':\n",
    "        best_model = gb_model\n",
    "    elif best_model_name == 'XGBoost':\n",
    "        best_model = xgb_model\n",
    "    elif best_model_name == 'LightGBM':\n",
    "        best_model = lgb_model\n",
    "    elif best_model_name == 'Best XGBoost':\n",
    "        best_model = best_xgb_model\n",
    "    elif best_model_name == 'Best LightGBM':\n",
    "        best_model = best_lgb_model\n",
    "\n",
    "    feature_importance = pd.DataFrame({\n",
    "        'Feature': X.columns,\n",
    "        'Importance': best_model.feature_importances_\n",
    "    })\n",
    "    feature_importances_ = feature_importance.sort_values(by='Importance', ascending=False)\n",
    "    print(f\"\\nНаиболее важные признаки: {best_model_name}\")\n",
    "    print(feature_importance.head(5))"
   ]
  },
  {
   "cell_type": "markdown",
   "id": "72f50b8c-f8dc-4958-996c-d472a99c3a39",
   "metadata": {},
   "source": [
    "#### Проблемы и ограничения"
   ]
  },
  {
   "cell_type": "markdown",
   "id": "3fe6ddf6-47ce-4636-bf85-bb28ba98be8a",
   "metadata": {},
   "source": [
    "**1.** Ограниченный объём данных может снижать качество моделей, особенно нейронных сетей  \n",
    "**2.** Категориальные признаки с большим количеством уникальных значений (например, 'Product' могут усложнять обучение)  \n",
    "**3.** Возможное переобучение моделей на небольших данных, особенно для сложных алгоритмов"
   ]
  },
  {
   "cell_type": "markdown",
   "id": "ecb09869-0776-460d-8265-485b569ff0ea",
   "metadata": {},
   "source": [
    "#### Рекомендации"
   ]
  },
  {
   "cell_type": "markdown",
   "id": "561e7cb4-a176-4fe3-98c4-eb72f623cea6",
   "metadata": {},
   "source": [
    "**-** Собрать больше данных для улучшения качества моделей  \n",
    "**-** Попробовать более сложные методы предобработки, такие как целевое кодирование (target encoding) для категориальных признаков)  \n",
    "**-** Использовать аксамблевые методы, комбинируя предсказания нескольких моделей (stacking)  \n",
    "**-** Интегрировать модель в реальное приложение, например, для автоматического ценообразования в интернет-магазинах"
   ]
  },
  {
   "cell_type": "markdown",
   "id": "214176c2-19cb-474b-a2a3-67fcf42135a3",
   "metadata": {},
   "source": [
    "#### Визуализация сравнения модели"
   ]
  },
  {
   "cell_type": "code",
   "execution_count": 77,
   "id": "09714ae5-1aee-4b07-a999-76782a771984",
   "metadata": {},
   "outputs": [
    {
     "name": "stderr",
     "output_type": "stream",
     "text": [
      "A:\\Mikhailiuk\\SOFT\\Anaconda\\Lib\\site-packages\\seaborn\\_oldcore.py:1765: FutureWarning: unique with argument that is not not a Series, Index, ExtensionArray, or np.ndarray is deprecated and will raise in a future version.\n",
      "  order = pd.unique(vector)\n"
     ]
    },
    {
     "data": {
      "image/png": "[encoded data removed]",
      "text/plain": [
       "<Figure size 1000x600 with 1 Axes>"
      ]
     },
     "metadata": {},
     "output_type": "display_data"
    }
   ],
   "source": [
    "plt.figure(figsize=(10, 6))\n",
    "models_names = list(models_comparison.keys())\n",
    "models_r2 = list(models_comparison.values())\n",
    "sns.barplot(x=models_r2, y=models_names, palette='viridis')\n",
    "plt.xlabel('R² Score')\n",
    "plt.ylabel('Модель')\n",
    "plt.title('Сравнение качества моделей (R²)')\n",
    "plt.show()"
   ]
  },
  {
   "cell_type": "code",
   "execution_count": null,
   "id": "aa60b8f2-4086-4467-80ce-29a073ccff67",
   "metadata": {},
   "outputs": [],
   "source": []
  }
 ],
 "metadata": {
  "kernelspec": {
   "display_name": "Python 3 (ipykernel)",
   "language": "python",
   "name": "python3"
  },
  "language_info": {
   "codemirror_mode": {
    "name": "ipython",
    "version": 3
   },
   "file_extension": ".py",
   "mimetype": "text/x-python",
   "name": "python",
   "nbconvert_exporter": "python",
   "pygments_lexer": "ipython3",
   "version": "3.11.7"
  }
 },
 "nbformat": 4,
 "nbformat_minor": 5
}
